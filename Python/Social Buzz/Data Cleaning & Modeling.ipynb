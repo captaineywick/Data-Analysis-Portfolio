{
 "cells": [
  {
   "cell_type": "code",
   "execution_count": 1,
   "id": "236fe68e",
   "metadata": {},
   "outputs": [],
   "source": [
    "import pandas as pd\n",
    "\n",
    "# Options\n",
    "pd.set_option('display.max_columns', 100)\n",
    "pd.set_option('display.max_rows', 15)"
   ]
  },
  {
   "cell_type": "markdown",
   "id": "1e2ade01",
   "metadata": {},
   "source": [
    "# Data Cleaning & Modeling\n",
    "\n",
    "## Information\n",
    "**Data:**\n",
    "- 7 data sets - each data set contains different columns and values\n",
    "- A data model - this shows the relationships between all of the data sets, as well as any links that you can use to merge tables.\n",
    "\n",
    "**Steps:**\n",
    "- Requirements gathering\n",
    "- Data cleaning\n",
    "- Data modelling\n",
    "\n",
    "## Gathering the data needed\n",
    "\n",
    "**Problem to solve for Social Buzz:**\n",
    "1. What are the top 5 popular categories based on the score? (required)\n",
    "\n",
    "For the remaining questions, please refer to the \"Data Vis & Story\" notebook:\n",
    "\n",
    "1. How many unique categories are there?\n",
    "2. What is the total number of reactions for the most popular category? Additionally, how many reactions are there for the combined top 5 and top 10 popular categories?\n",
    "3. Which month had the highest number of posts?\n",
    "4. Which day of the week had the most posts?\n",
    "\n",
    "**Definitions of different data types:**\n",
    "- String - Sequence of characters, digits, or symbols—always treated as text\n",
    "- UUID - Universally Unique Identifiers\n",
    "- Array - List with a number of elements in a specific order—typically of the same type\n",
    "- Integer - Numeric data type for numbers without fractions\n",
    "- Timestamp - Number of seconds that have elapsed since midnight (00:00:00 UTC), 1st January 1970 (Unix time)\n",
    "\n",
    "**Data that I need:**\n",
    "\n",
    "Content (Connected to User by UserID)\n",
    "- ID: Unique ID of the content that was uploaded (automatically generated)\n",
    "- User ID: Unique ID of a user that exists in the User table\n",
    "- Type: A string detailing the type of content that was uploaded\n",
    "- Category: A string detailing the category that this content is relevant to\n",
    "- URL: Link to the location where this content is stored\n",
    "\n",
    "Reaction (Connected to Content by ContentID)\n",
    "- Content ID: Unique ID of a piece of content that was uploaded\n",
    "- User ID: Unique ID of a user that exists in the User table who reacted to this piece of content\n",
    "- Type: A string detailing the type of reaction this user gave\n",
    "- Datetime: The date and time of this reaction\n",
    "\n",
    "ReactionTypes (Connected to Reaction by Type)\n",
    "- Type: A string detailing the type of reaction this user gave\n",
    "- Sentiment: A string detailing whether this type of reaction is considered as positive, negative or neutral\n",
    "- Score: This is a number calculated by Social Buzz that quantifies how “popular” each reaction is. A reaction type with a higher score\n",
    "- should be considered as a more popular reaction.\n",
    "\n",
    "\n",
    "### Explanation why we need the data above\n",
    "\n",
    "The brief carefully states that the client wanted to see “An analysis of their content categories showing the top 5 categories with the largest popularity”.\n",
    "- popularity is quantified by the “Score” given to each reaction type.\n",
    "- We therefore need data showing the content ID, category, content type, reaction type, and reaction score.\n",
    "- to figure out popularity, we’ll have to add up which content categories have the largest score."
   ]
  },
  {
   "cell_type": "markdown",
   "id": "c25d580f",
   "metadata": {},
   "source": [
    "## Data Wrangling"
   ]
  },
  {
   "cell_type": "code",
   "execution_count": 2,
   "id": "0756be13",
   "metadata": {},
   "outputs": [
    {
     "data": {
      "text/plain": [
       "((1000, 5), (25553, 4), (16, 3))"
      ]
     },
     "execution_count": 2,
     "metadata": {},
     "output_type": "execute_result"
    }
   ],
   "source": [
    "df_content = pd.read_csv('Content.csv').drop('Unnamed: 0', axis=1)\n",
    "df_reactions = pd.read_csv('Reactions.csv').drop('Unnamed: 0', axis=1)\n",
    "df_react_type = pd.read_csv('ReactionTypes.csv').drop('Unnamed: 0', axis=1)\n",
    "\n",
    "df_content.shape, df_reactions.shape, df_react_type.shape"
   ]
  },
  {
   "cell_type": "code",
   "execution_count": 3,
   "id": "b0117a3d",
   "metadata": {},
   "outputs": [
    {
     "data": {
      "text/html": [
       "<div>\n",
       "<style scoped>\n",
       "    .dataframe tbody tr th:only-of-type {\n",
       "        vertical-align: middle;\n",
       "    }\n",
       "\n",
       "    .dataframe tbody tr th {\n",
       "        vertical-align: top;\n",
       "    }\n",
       "\n",
       "    .dataframe thead th {\n",
       "        text-align: right;\n",
       "    }\n",
       "</style>\n",
       "<table border=\"1\" class=\"dataframe\">\n",
       "  <thead>\n",
       "    <tr style=\"text-align: right;\">\n",
       "      <th></th>\n",
       "      <th>Content ID</th>\n",
       "      <th>User ID</th>\n",
       "      <th>Type</th>\n",
       "      <th>Category</th>\n",
       "      <th>URL</th>\n",
       "    </tr>\n",
       "  </thead>\n",
       "  <tbody>\n",
       "    <tr>\n",
       "      <th>815</th>\n",
       "      <td>990f1598-4dbb-403c-a5b2-48de2c30b1ca</td>\n",
       "      <td>c5d04879-87bd-4950-9e63-334382ef53af</td>\n",
       "      <td>audio</td>\n",
       "      <td>food</td>\n",
       "      <td>NaN</td>\n",
       "    </tr>\n",
       "    <tr>\n",
       "      <th>245</th>\n",
       "      <td>45752c15-a54c-4b0d-8fe3-f39c40f6c8d9</td>\n",
       "      <td>1932a904-86ba-4438-bb52-b7e6516a4019</td>\n",
       "      <td>photo</td>\n",
       "      <td>Education</td>\n",
       "      <td>NaN</td>\n",
       "    </tr>\n",
       "    <tr>\n",
       "      <th>765</th>\n",
       "      <td>964a54b7-7dc7-40b0-bd94-9898b670f9cd</td>\n",
       "      <td>15e325b1-c221-4bf8-8010-18d76b03646e</td>\n",
       "      <td>photo</td>\n",
       "      <td>science</td>\n",
       "      <td>NaN</td>\n",
       "    </tr>\n",
       "  </tbody>\n",
       "</table>\n",
       "</div>"
      ],
      "text/plain": [
       "                               Content ID  \\\n",
       "815  990f1598-4dbb-403c-a5b2-48de2c30b1ca   \n",
       "245  45752c15-a54c-4b0d-8fe3-f39c40f6c8d9   \n",
       "765  964a54b7-7dc7-40b0-bd94-9898b670f9cd   \n",
       "\n",
       "                                  User ID   Type   Category  URL  \n",
       "815  c5d04879-87bd-4950-9e63-334382ef53af  audio       food  NaN  \n",
       "245  1932a904-86ba-4438-bb52-b7e6516a4019  photo  Education  NaN  \n",
       "765  15e325b1-c221-4bf8-8010-18d76b03646e  photo    science  NaN  "
      ]
     },
     "execution_count": 3,
     "metadata": {},
     "output_type": "execute_result"
    }
   ],
   "source": [
    "df_content.sample(3)"
   ]
  },
  {
   "cell_type": "code",
   "execution_count": 4,
   "id": "5ca0ea94",
   "metadata": {},
   "outputs": [
    {
     "data": {
      "text/html": [
       "<div>\n",
       "<style scoped>\n",
       "    .dataframe tbody tr th:only-of-type {\n",
       "        vertical-align: middle;\n",
       "    }\n",
       "\n",
       "    .dataframe tbody tr th {\n",
       "        vertical-align: top;\n",
       "    }\n",
       "\n",
       "    .dataframe thead th {\n",
       "        text-align: right;\n",
       "    }\n",
       "</style>\n",
       "<table border=\"1\" class=\"dataframe\">\n",
       "  <thead>\n",
       "    <tr style=\"text-align: right;\">\n",
       "      <th></th>\n",
       "      <th>Content ID</th>\n",
       "      <th>User ID</th>\n",
       "      <th>Type</th>\n",
       "      <th>Datetime</th>\n",
       "    </tr>\n",
       "  </thead>\n",
       "  <tbody>\n",
       "    <tr>\n",
       "      <th>21739</th>\n",
       "      <td>b3bcbff0-d160-4fbc-b3c6-8113ceb38056</td>\n",
       "      <td>NaN</td>\n",
       "      <td>NaN</td>\n",
       "      <td>2020-10-31 18:22:55</td>\n",
       "    </tr>\n",
       "    <tr>\n",
       "      <th>20017</th>\n",
       "      <td>6912f8e6-86b7-44f6-8aa8-c21c2ed0b53c</td>\n",
       "      <td>c43c2351-9591-4122-acdd-b521723d7292</td>\n",
       "      <td>cherish</td>\n",
       "      <td>2021-01-22 09:34:38</td>\n",
       "    </tr>\n",
       "    <tr>\n",
       "      <th>21839</th>\n",
       "      <td>2ceee25a-8461-4409-ab41-7a72d97d722d</td>\n",
       "      <td>fe224147-e893-4178-b46e-b12f22bd7ed1</td>\n",
       "      <td>dislike</td>\n",
       "      <td>2020-08-02 01:45:59</td>\n",
       "    </tr>\n",
       "  </tbody>\n",
       "</table>\n",
       "</div>"
      ],
      "text/plain": [
       "                                 Content ID  \\\n",
       "21739  b3bcbff0-d160-4fbc-b3c6-8113ceb38056   \n",
       "20017  6912f8e6-86b7-44f6-8aa8-c21c2ed0b53c   \n",
       "21839  2ceee25a-8461-4409-ab41-7a72d97d722d   \n",
       "\n",
       "                                    User ID     Type             Datetime  \n",
       "21739                                   NaN      NaN  2020-10-31 18:22:55  \n",
       "20017  c43c2351-9591-4122-acdd-b521723d7292  cherish  2021-01-22 09:34:38  \n",
       "21839  fe224147-e893-4178-b46e-b12f22bd7ed1  dislike  2020-08-02 01:45:59  "
      ]
     },
     "execution_count": 4,
     "metadata": {},
     "output_type": "execute_result"
    }
   ],
   "source": [
    "df_reactions.sample(3)"
   ]
  },
  {
   "cell_type": "code",
   "execution_count": 5,
   "id": "94c7a6de",
   "metadata": {},
   "outputs": [
    {
     "data": {
      "text/html": [
       "<div>\n",
       "<style scoped>\n",
       "    .dataframe tbody tr th:only-of-type {\n",
       "        vertical-align: middle;\n",
       "    }\n",
       "\n",
       "    .dataframe tbody tr th {\n",
       "        vertical-align: top;\n",
       "    }\n",
       "\n",
       "    .dataframe thead th {\n",
       "        text-align: right;\n",
       "    }\n",
       "</style>\n",
       "<table border=\"1\" class=\"dataframe\">\n",
       "  <thead>\n",
       "    <tr style=\"text-align: right;\">\n",
       "      <th></th>\n",
       "      <th>Type</th>\n",
       "      <th>Sentiment</th>\n",
       "      <th>Score</th>\n",
       "    </tr>\n",
       "  </thead>\n",
       "  <tbody>\n",
       "    <tr>\n",
       "      <th>15</th>\n",
       "      <td>worried</td>\n",
       "      <td>negative</td>\n",
       "      <td>12</td>\n",
       "    </tr>\n",
       "    <tr>\n",
       "      <th>3</th>\n",
       "      <td>hate</td>\n",
       "      <td>negative</td>\n",
       "      <td>5</td>\n",
       "    </tr>\n",
       "    <tr>\n",
       "      <th>0</th>\n",
       "      <td>heart</td>\n",
       "      <td>positive</td>\n",
       "      <td>60</td>\n",
       "    </tr>\n",
       "  </tbody>\n",
       "</table>\n",
       "</div>"
      ],
      "text/plain": [
       "       Type Sentiment  Score\n",
       "15  worried  negative     12\n",
       "3      hate  negative      5\n",
       "0     heart  positive     60"
      ]
     },
     "execution_count": 5,
     "metadata": {},
     "output_type": "execute_result"
    }
   ],
   "source": [
    "df_react_type.sample(3)"
   ]
  },
  {
   "cell_type": "markdown",
   "id": "fa60fe4a",
   "metadata": {},
   "source": [
    "### Cleaning the data"
   ]
  },
  {
   "cell_type": "markdown",
   "id": "e8148a82",
   "metadata": {},
   "source": [
    "Clean the data by:\n",
    "\n",
    "- removing rows that have values which are missing.\n",
    "- changing the data type of some values within a column.\n",
    "- removing columns which are not relevant to this task."
   ]
  },
  {
   "cell_type": "markdown",
   "id": "95f058e1",
   "metadata": {},
   "source": [
    "Before we start let's change things a bit by lowering values and columns."
   ]
  },
  {
   "cell_type": "code",
   "execution_count": 6,
   "id": "09471b00",
   "metadata": {},
   "outputs": [],
   "source": [
    "# Easily access columns by lower it\n",
    "df_content.columns = df_content.columns.str.lower().str.replace(' ', '_')\n",
    "df_reactions.columns = df_reactions.columns.str.lower().str.replace(' ', '_')\n",
    "df_react_type.columns = df_react_type.columns.str.lower()"
   ]
  },
  {
   "cell_type": "markdown",
   "id": "00e15ff6",
   "metadata": {},
   "source": [
    "**Content**"
   ]
  },
  {
   "cell_type": "markdown",
   "id": "3f21c809",
   "metadata": {},
   "source": [
    "category column"
   ]
  },
  {
   "cell_type": "code",
   "execution_count": 7,
   "id": "b4d7f858",
   "metadata": {},
   "outputs": [
    {
     "data": {
      "text/plain": [
       "array(['Studying', 'healthy eating', 'technology', 'food', 'cooking',\n",
       "       'dogs', 'soccer', 'public speaking', 'science', 'tennis', 'travel',\n",
       "       'fitness', 'education', 'studying', 'veganism', 'Animals',\n",
       "       'animals', 'culture', '\"culture\"', 'Fitness', '\"studying\"',\n",
       "       'Veganism', '\"animals\"', 'Travel', '\"soccer\"', 'Education',\n",
       "       '\"dogs\"', 'Technology', 'Soccer', '\"tennis\"', 'Culture', '\"food\"',\n",
       "       'Food', '\"technology\"', 'Healthy Eating', '\"cooking\"', 'Science',\n",
       "       '\"public speaking\"', '\"veganism\"', 'Public Speaking', '\"science\"'],\n",
       "      dtype=object)"
      ]
     },
     "execution_count": 7,
     "metadata": {},
     "output_type": "execute_result"
    }
   ],
   "source": [
    "df_content.category.unique()"
   ]
  },
  {
   "cell_type": "code",
   "execution_count": 8,
   "id": "8aa6b668",
   "metadata": {},
   "outputs": [],
   "source": [
    "# Lower all categories and remove the \"\"\n",
    "df_content['category'] = df_content['category'].str.lower().str.replace('\"', '')"
   ]
  },
  {
   "cell_type": "code",
   "execution_count": 9,
   "id": "a6a58dc8",
   "metadata": {},
   "outputs": [
    {
     "data": {
      "text/plain": [
       "array(['studying', 'healthy eating', 'technology', 'food', 'cooking',\n",
       "       'dogs', 'soccer', 'public speaking', 'science', 'tennis', 'travel',\n",
       "       'fitness', 'education', 'veganism', 'animals', 'culture'],\n",
       "      dtype=object)"
      ]
     },
     "execution_count": 9,
     "metadata": {},
     "output_type": "execute_result"
    }
   ],
   "source": [
    "df_content.category.unique()"
   ]
  },
  {
   "cell_type": "markdown",
   "id": "53b7f8c7",
   "metadata": {},
   "source": [
    "category_type column"
   ]
  },
  {
   "cell_type": "code",
   "execution_count": 10,
   "id": "feaefd4e",
   "metadata": {},
   "outputs": [
    {
     "data": {
      "text/plain": [
       "array(['photo', 'video', 'GIF', 'audio'], dtype=object)"
      ]
     },
     "execution_count": 10,
     "metadata": {},
     "output_type": "execute_result"
    }
   ],
   "source": [
    "df_content.type.unique()"
   ]
  },
  {
   "cell_type": "markdown",
   "id": "189d71ec",
   "metadata": {},
   "source": [
    "Better to make this lower so when we do something to GIF, we can easily access it because most of the people are used to typing lowercase."
   ]
  },
  {
   "cell_type": "code",
   "execution_count": 11,
   "id": "c8cd9d47",
   "metadata": {},
   "outputs": [
    {
     "data": {
      "text/plain": [
       "array(['photo', 'video', 'gif', 'audio'], dtype=object)"
      ]
     },
     "execution_count": 11,
     "metadata": {},
     "output_type": "execute_result"
    }
   ],
   "source": [
    "df_content['type'] = df_content['type'].str.lower().str.lower()\n",
    "df_content.type.unique()"
   ]
  },
  {
   "cell_type": "markdown",
   "id": "5444b6c4",
   "metadata": {},
   "source": [
    "**Reactions**"
   ]
  },
  {
   "cell_type": "markdown",
   "id": "f394922c",
   "metadata": {},
   "source": [
    "reaction_type column"
   ]
  },
  {
   "cell_type": "code",
   "execution_count": 12,
   "id": "12692e66",
   "metadata": {},
   "outputs": [
    {
     "name": "stdout",
     "output_type": "stream",
     "text": [
      "nan\n",
      "disgust\n",
      "dislike\n",
      "scared\n",
      "interested\n",
      "peeking\n",
      "cherish\n",
      "hate\n",
      "love\n",
      "indifferent\n",
      "super love\n",
      "intrigued\n",
      "worried\n",
      "like\n",
      "heart\n",
      "want\n",
      "adore\n"
     ]
    }
   ],
   "source": [
    "for x in df_reactions.type.unique():\n",
    "    print(x)"
   ]
  },
  {
   "cell_type": "markdown",
   "id": "cff579e1",
   "metadata": {},
   "source": [
    "Everything looks good here let's check the last which is the react type dataframe"
   ]
  },
  {
   "cell_type": "markdown",
   "id": "2e033f97",
   "metadata": {},
   "source": [
    "**React Type**"
   ]
  },
  {
   "cell_type": "code",
   "execution_count": 13,
   "id": "db87da60",
   "metadata": {},
   "outputs": [
    {
     "name": "stdout",
     "output_type": "stream",
     "text": [
      "heart\n",
      "want\n",
      "disgust\n",
      "hate\n",
      "interested\n",
      "indifferent\n",
      "love\n",
      "super love\n",
      "cherish\n",
      "adore\n",
      "like\n",
      "dislike\n",
      "intrigued\n",
      "peeking\n",
      "scared\n",
      "worried\n"
     ]
    }
   ],
   "source": [
    "for x in df_react_type.type.unique():\n",
    "    print(x)"
   ]
  },
  {
   "cell_type": "markdown",
   "id": "f0386ddf",
   "metadata": {},
   "source": [
    "Lastly, let's check if the reaction type in the dataframe \"React Type\" and \"Reactions\" are the same."
   ]
  },
  {
   "cell_type": "code",
   "execution_count": 14,
   "id": "4148b555",
   "metadata": {},
   "outputs": [
    {
     "data": {
      "text/plain": [
       "False"
      ]
     },
     "execution_count": 14,
     "metadata": {},
     "output_type": "execute_result"
    }
   ],
   "source": [
    "are_same = set(df_reactions.type.unique()) == set(df_react_type.type.unique())\n",
    "are_same"
   ]
  },
  {
   "cell_type": "markdown",
   "id": "4b49994c",
   "metadata": {},
   "source": [
    "Now we can say that every category, category type and reaction type are valid data we can now check for null values and duplicates."
   ]
  },
  {
   "cell_type": "markdown",
   "id": "90d3ae06",
   "metadata": {},
   "source": [
    "#### Checking for null values"
   ]
  },
  {
   "cell_type": "code",
   "execution_count": 15,
   "id": "6bada949",
   "metadata": {},
   "outputs": [
    {
     "data": {
      "text/plain": [
       "content_id      0\n",
       "user_id         0\n",
       "type            0\n",
       "category        0\n",
       "url           199\n",
       "dtype: int64"
      ]
     },
     "execution_count": 15,
     "metadata": {},
     "output_type": "execute_result"
    }
   ],
   "source": [
    "df_content.isnull().sum()"
   ]
  },
  {
   "cell_type": "markdown",
   "id": "2f6a8e2d",
   "metadata": {},
   "source": [
    "Null values on URL."
   ]
  },
  {
   "cell_type": "code",
   "execution_count": 16,
   "id": "b0328296",
   "metadata": {},
   "outputs": [
    {
     "data": {
      "text/plain": [
       "content_id       0\n",
       "user_id       3019\n",
       "type           980\n",
       "datetime         0\n",
       "dtype: int64"
      ]
     },
     "execution_count": 16,
     "metadata": {},
     "output_type": "execute_result"
    }
   ],
   "source": [
    "df_reactions.isnull().sum()"
   ]
  },
  {
   "cell_type": "markdown",
   "id": "331ffa65",
   "metadata": {},
   "source": [
    "Null values on User ID and Type."
   ]
  },
  {
   "cell_type": "code",
   "execution_count": 17,
   "id": "52db27de",
   "metadata": {},
   "outputs": [
    {
     "data": {
      "text/plain": [
       "type         0\n",
       "sentiment    0\n",
       "score        0\n",
       "dtype: int64"
      ]
     },
     "execution_count": 17,
     "metadata": {},
     "output_type": "execute_result"
    }
   ],
   "source": [
    "df_react_type.isnull().sum()"
   ]
  },
  {
   "cell_type": "markdown",
   "id": "64de2fa0",
   "metadata": {},
   "source": [
    "No null values on reaction type."
   ]
  },
  {
   "cell_type": "markdown",
   "id": "8e7456c6",
   "metadata": {},
   "source": [
    "Since we don't care about the user_id and url, we will ignore that. We will just drop the null values of type because that is needed for the analysis."
   ]
  },
  {
   "cell_type": "code",
   "execution_count": 18,
   "id": "37d2431a",
   "metadata": {},
   "outputs": [],
   "source": [
    "# Remove null values from the content and reactions\n",
    "df_reactions.dropna(subset=['type'], axis=0, inplace=True)"
   ]
  },
  {
   "cell_type": "code",
   "execution_count": 19,
   "id": "db522446",
   "metadata": {},
   "outputs": [
    {
     "data": {
      "text/plain": [
       "content_id      0\n",
       "user_id         0\n",
       "type            0\n",
       "category        0\n",
       "url           199\n",
       "dtype: int64"
      ]
     },
     "execution_count": 19,
     "metadata": {},
     "output_type": "execute_result"
    }
   ],
   "source": [
    "df_content.isnull().sum()"
   ]
  },
  {
   "cell_type": "code",
   "execution_count": 20,
   "id": "37307058",
   "metadata": {},
   "outputs": [
    {
     "data": {
      "text/plain": [
       "content_id       0\n",
       "user_id       2039\n",
       "type             0\n",
       "datetime         0\n",
       "dtype: int64"
      ]
     },
     "execution_count": 20,
     "metadata": {},
     "output_type": "execute_result"
    }
   ],
   "source": [
    "df_reactions.isnull().sum()"
   ]
  },
  {
   "cell_type": "markdown",
   "id": "5039746a",
   "metadata": {},
   "source": [
    "#### removing columns which are not relevant to this task."
   ]
  },
  {
   "cell_type": "markdown",
   "id": "9410a81c",
   "metadata": {},
   "source": [
    "- Content we don't need user id and url. \n",
    "- Reactions we don't need datetime and user id. \n",
    "- React type we don't need sentiment."
   ]
  },
  {
   "cell_type": "code",
   "execution_count": 21,
   "id": "a4eb86f4",
   "metadata": {},
   "outputs": [],
   "source": [
    "df_content.drop(columns=['user_id', 'url'], axis=1, inplace=True)\n",
    "df_reactions.drop(columns=['user_id'], axis=1, inplace=True)"
   ]
  },
  {
   "cell_type": "code",
   "execution_count": 22,
   "id": "0d7edcfe",
   "metadata": {},
   "outputs": [
    {
     "data": {
      "text/html": [
       "<div>\n",
       "<style scoped>\n",
       "    .dataframe tbody tr th:only-of-type {\n",
       "        vertical-align: middle;\n",
       "    }\n",
       "\n",
       "    .dataframe tbody tr th {\n",
       "        vertical-align: top;\n",
       "    }\n",
       "\n",
       "    .dataframe thead th {\n",
       "        text-align: right;\n",
       "    }\n",
       "</style>\n",
       "<table border=\"1\" class=\"dataframe\">\n",
       "  <thead>\n",
       "    <tr style=\"text-align: right;\">\n",
       "      <th></th>\n",
       "      <th>content_id</th>\n",
       "      <th>type</th>\n",
       "      <th>category</th>\n",
       "    </tr>\n",
       "  </thead>\n",
       "  <tbody>\n",
       "    <tr>\n",
       "      <th>772</th>\n",
       "      <td>85260ec2-7b35-4266-8071-580a8b4341ca</td>\n",
       "      <td>photo</td>\n",
       "      <td>tennis</td>\n",
       "    </tr>\n",
       "  </tbody>\n",
       "</table>\n",
       "</div>"
      ],
      "text/plain": [
       "                               content_id   type category\n",
       "772  85260ec2-7b35-4266-8071-580a8b4341ca  photo   tennis"
      ]
     },
     "execution_count": 22,
     "metadata": {},
     "output_type": "execute_result"
    }
   ],
   "source": [
    "df_content.sample()"
   ]
  },
  {
   "cell_type": "code",
   "execution_count": 23,
   "id": "31ded230",
   "metadata": {},
   "outputs": [
    {
     "data": {
      "text/html": [
       "<div>\n",
       "<style scoped>\n",
       "    .dataframe tbody tr th:only-of-type {\n",
       "        vertical-align: middle;\n",
       "    }\n",
       "\n",
       "    .dataframe tbody tr th {\n",
       "        vertical-align: top;\n",
       "    }\n",
       "\n",
       "    .dataframe thead th {\n",
       "        text-align: right;\n",
       "    }\n",
       "</style>\n",
       "<table border=\"1\" class=\"dataframe\">\n",
       "  <thead>\n",
       "    <tr style=\"text-align: right;\">\n",
       "      <th></th>\n",
       "      <th>content_id</th>\n",
       "      <th>type</th>\n",
       "      <th>datetime</th>\n",
       "    </tr>\n",
       "  </thead>\n",
       "  <tbody>\n",
       "    <tr>\n",
       "      <th>13913</th>\n",
       "      <td>01aff5ec-2aa8-412e-99ec-526f0f9a6d5e</td>\n",
       "      <td>cherish</td>\n",
       "      <td>2020-07-14 16:38:33</td>\n",
       "    </tr>\n",
       "  </tbody>\n",
       "</table>\n",
       "</div>"
      ],
      "text/plain": [
       "                                 content_id     type             datetime\n",
       "13913  01aff5ec-2aa8-412e-99ec-526f0f9a6d5e  cherish  2020-07-14 16:38:33"
      ]
     },
     "execution_count": 23,
     "metadata": {},
     "output_type": "execute_result"
    }
   ],
   "source": [
    "df_reactions.sample()"
   ]
  },
  {
   "cell_type": "code",
   "execution_count": 24,
   "id": "0e5e31dc",
   "metadata": {},
   "outputs": [
    {
     "data": {
      "text/html": [
       "<div>\n",
       "<style scoped>\n",
       "    .dataframe tbody tr th:only-of-type {\n",
       "        vertical-align: middle;\n",
       "    }\n",
       "\n",
       "    .dataframe tbody tr th {\n",
       "        vertical-align: top;\n",
       "    }\n",
       "\n",
       "    .dataframe thead th {\n",
       "        text-align: right;\n",
       "    }\n",
       "</style>\n",
       "<table border=\"1\" class=\"dataframe\">\n",
       "  <thead>\n",
       "    <tr style=\"text-align: right;\">\n",
       "      <th></th>\n",
       "      <th>type</th>\n",
       "      <th>sentiment</th>\n",
       "      <th>score</th>\n",
       "    </tr>\n",
       "  </thead>\n",
       "  <tbody>\n",
       "    <tr>\n",
       "      <th>0</th>\n",
       "      <td>heart</td>\n",
       "      <td>positive</td>\n",
       "      <td>60</td>\n",
       "    </tr>\n",
       "  </tbody>\n",
       "</table>\n",
       "</div>"
      ],
      "text/plain": [
       "    type sentiment  score\n",
       "0  heart  positive     60"
      ]
     },
     "execution_count": 24,
     "metadata": {},
     "output_type": "execute_result"
    }
   ],
   "source": [
    "df_react_type.sample()"
   ]
  },
  {
   "cell_type": "markdown",
   "id": "012051f7",
   "metadata": {},
   "source": [
    "#### Changing data types"
   ]
  },
  {
   "cell_type": "markdown",
   "id": "ddf4d8ca",
   "metadata": {},
   "source": [
    "**Content**"
   ]
  },
  {
   "cell_type": "code",
   "execution_count": 25,
   "id": "7b0048db",
   "metadata": {},
   "outputs": [
    {
     "name": "stdout",
     "output_type": "stream",
     "text": [
      "<class 'pandas.core.frame.DataFrame'>\n",
      "RangeIndex: 1000 entries, 0 to 999\n",
      "Data columns (total 3 columns):\n",
      " #   Column      Non-Null Count  Dtype \n",
      "---  ------      --------------  ----- \n",
      " 0   content_id  1000 non-null   object\n",
      " 1   type        1000 non-null   object\n",
      " 2   category    1000 non-null   object\n",
      "dtypes: object(3)\n",
      "memory usage: 23.6+ KB\n"
     ]
    }
   ],
   "source": [
    "df_content.info()"
   ]
  },
  {
   "cell_type": "code",
   "execution_count": 26,
   "id": "fe4b6b3f",
   "metadata": {},
   "outputs": [
    {
     "data": {
      "text/plain": [
       "array(['photo', 'video', 'gif', 'audio'], dtype=object)"
      ]
     },
     "execution_count": 26,
     "metadata": {},
     "output_type": "execute_result"
    }
   ],
   "source": [
    "df_content.type.unique()"
   ]
  },
  {
   "cell_type": "code",
   "execution_count": 27,
   "id": "717a41a9",
   "metadata": {},
   "outputs": [
    {
     "data": {
      "text/plain": [
       "array(['studying', 'healthy eating', 'technology', 'food', 'cooking',\n",
       "       'dogs', 'soccer', 'public speaking', 'science', 'tennis', 'travel',\n",
       "       'fitness', 'education', 'veganism', 'animals', 'culture'],\n",
       "      dtype=object)"
      ]
     },
     "execution_count": 27,
     "metadata": {},
     "output_type": "execute_result"
    }
   ],
   "source": [
    "df_content.category.unique()"
   ]
  },
  {
   "cell_type": "markdown",
   "id": "72d23780",
   "metadata": {},
   "source": [
    "**Reactions**"
   ]
  },
  {
   "cell_type": "code",
   "execution_count": 28,
   "id": "39c1c64c",
   "metadata": {},
   "outputs": [
    {
     "name": "stdout",
     "output_type": "stream",
     "text": [
      "<class 'pandas.core.frame.DataFrame'>\n",
      "Int64Index: 24573 entries, 1 to 25552\n",
      "Data columns (total 3 columns):\n",
      " #   Column      Non-Null Count  Dtype \n",
      "---  ------      --------------  ----- \n",
      " 0   content_id  24573 non-null  object\n",
      " 1   type        24573 non-null  object\n",
      " 2   datetime    24573 non-null  object\n",
      "dtypes: object(3)\n",
      "memory usage: 767.9+ KB\n"
     ]
    }
   ],
   "source": [
    "df_reactions.info()"
   ]
  },
  {
   "cell_type": "code",
   "execution_count": 29,
   "id": "9bb76028",
   "metadata": {},
   "outputs": [
    {
     "data": {
      "text/plain": [
       "array(['disgust', 'dislike', 'scared', 'interested', 'peeking', 'cherish',\n",
       "       'hate', 'love', 'indifferent', 'super love', 'intrigued',\n",
       "       'worried', 'like', 'heart', 'want', 'adore'], dtype=object)"
      ]
     },
     "execution_count": 29,
     "metadata": {},
     "output_type": "execute_result"
    }
   ],
   "source": [
    "df_reactions.type.unique()"
   ]
  },
  {
   "cell_type": "markdown",
   "id": "1a7f12ef",
   "metadata": {},
   "source": [
    "**React Type**"
   ]
  },
  {
   "cell_type": "code",
   "execution_count": 30,
   "id": "86ffd37a",
   "metadata": {},
   "outputs": [
    {
     "name": "stdout",
     "output_type": "stream",
     "text": [
      "<class 'pandas.core.frame.DataFrame'>\n",
      "RangeIndex: 16 entries, 0 to 15\n",
      "Data columns (total 3 columns):\n",
      " #   Column     Non-Null Count  Dtype \n",
      "---  ------     --------------  ----- \n",
      " 0   type       16 non-null     object\n",
      " 1   sentiment  16 non-null     object\n",
      " 2   score      16 non-null     int64 \n",
      "dtypes: int64(1), object(2)\n",
      "memory usage: 512.0+ bytes\n"
     ]
    }
   ],
   "source": [
    "df_react_type.info()"
   ]
  },
  {
   "cell_type": "code",
   "execution_count": 31,
   "id": "9319e7dc",
   "metadata": {},
   "outputs": [
    {
     "data": {
      "text/plain": [
       "array(['heart', 'want', 'disgust', 'hate', 'interested', 'indifferent',\n",
       "       'love', 'super love', 'cherish', 'adore', 'like', 'dislike',\n",
       "       'intrigued', 'peeking', 'scared', 'worried'], dtype=object)"
      ]
     },
     "execution_count": 31,
     "metadata": {},
     "output_type": "execute_result"
    }
   ],
   "source": [
    "df_react_type.type.unique()"
   ]
  },
  {
   "cell_type": "code",
   "execution_count": 32,
   "id": "16bb4129",
   "metadata": {},
   "outputs": [
    {
     "data": {
      "text/plain": [
       "array([60, 70,  0,  5, 30, 20, 65, 75, 72, 50, 10, 45, 35, 15, 12],\n",
       "      dtype=int64)"
      ]
     },
     "execution_count": 32,
     "metadata": {},
     "output_type": "execute_result"
    }
   ],
   "source": [
    "df_react_type.score.unique()"
   ]
  },
  {
   "cell_type": "markdown",
   "id": "5370580c",
   "metadata": {},
   "source": [
    "base on this we will just change type/category to categorical. I would also rename the type column so it won't be confusing."
   ]
  },
  {
   "cell_type": "code",
   "execution_count": 33,
   "id": "4890c582",
   "metadata": {},
   "outputs": [],
   "source": [
    "# Content\n",
    "df_content['category'] = df_content['category'].astype('category')\n",
    "df_content['type'] = df_content['type'].astype('category')\n",
    "df_content.rename(columns={'type': 'category_type'}, inplace=True)\n",
    "\n",
    "# Reactions\n",
    "df_reactions['type'] = df_reactions['type'].astype('category')\n",
    "df_reactions.rename(columns={'type': 'reaction_type'}, inplace=True)\n",
    "\n",
    "# React type\n",
    "df_react_type['type'] = df_react_type['type'].astype('category')\n",
    "df_react_type.rename(columns={'type': 'reaction_type'}, inplace=True)"
   ]
  },
  {
   "cell_type": "markdown",
   "id": "3f8a1290",
   "metadata": {},
   "source": [
    "### Merging the dataframe"
   ]
  },
  {
   "cell_type": "markdown",
   "id": "4a5ff1be",
   "metadata": {},
   "source": [
    "We will use inner join because we want the data to have no null."
   ]
  },
  {
   "cell_type": "code",
   "execution_count": 34,
   "id": "ba48aca2",
   "metadata": {},
   "outputs": [
    {
     "data": {
      "text/html": [
       "<div>\n",
       "<style scoped>\n",
       "    .dataframe tbody tr th:only-of-type {\n",
       "        vertical-align: middle;\n",
       "    }\n",
       "\n",
       "    .dataframe tbody tr th {\n",
       "        vertical-align: top;\n",
       "    }\n",
       "\n",
       "    .dataframe thead th {\n",
       "        text-align: right;\n",
       "    }\n",
       "</style>\n",
       "<table border=\"1\" class=\"dataframe\">\n",
       "  <thead>\n",
       "    <tr style=\"text-align: right;\">\n",
       "      <th></th>\n",
       "      <th>content_id</th>\n",
       "      <th>category_type</th>\n",
       "      <th>category</th>\n",
       "    </tr>\n",
       "  </thead>\n",
       "  <tbody>\n",
       "    <tr>\n",
       "      <th>841</th>\n",
       "      <td>ec69ad7c-c57b-4d10-ad0f-930ff10bf687</td>\n",
       "      <td>video</td>\n",
       "      <td>science</td>\n",
       "    </tr>\n",
       "  </tbody>\n",
       "</table>\n",
       "</div>"
      ],
      "text/plain": [
       "                               content_id category_type category\n",
       "841  ec69ad7c-c57b-4d10-ad0f-930ff10bf687         video  science"
      ]
     },
     "execution_count": 34,
     "metadata": {},
     "output_type": "execute_result"
    }
   ],
   "source": [
    "df_content.sample()"
   ]
  },
  {
   "cell_type": "code",
   "execution_count": 35,
   "id": "a9c948d2",
   "metadata": {},
   "outputs": [
    {
     "data": {
      "text/html": [
       "<div>\n",
       "<style scoped>\n",
       "    .dataframe tbody tr th:only-of-type {\n",
       "        vertical-align: middle;\n",
       "    }\n",
       "\n",
       "    .dataframe tbody tr th {\n",
       "        vertical-align: top;\n",
       "    }\n",
       "\n",
       "    .dataframe thead th {\n",
       "        text-align: right;\n",
       "    }\n",
       "</style>\n",
       "<table border=\"1\" class=\"dataframe\">\n",
       "  <thead>\n",
       "    <tr style=\"text-align: right;\">\n",
       "      <th></th>\n",
       "      <th>content_id</th>\n",
       "      <th>reaction_type</th>\n",
       "      <th>datetime</th>\n",
       "    </tr>\n",
       "  </thead>\n",
       "  <tbody>\n",
       "    <tr>\n",
       "      <th>6541</th>\n",
       "      <td>7fe36d94-8867-4719-9c62-60b077cf5973</td>\n",
       "      <td>interested</td>\n",
       "      <td>2020-10-14 13:42:50</td>\n",
       "    </tr>\n",
       "  </tbody>\n",
       "</table>\n",
       "</div>"
      ],
      "text/plain": [
       "                                content_id reaction_type             datetime\n",
       "6541  7fe36d94-8867-4719-9c62-60b077cf5973    interested  2020-10-14 13:42:50"
      ]
     },
     "execution_count": 35,
     "metadata": {},
     "output_type": "execute_result"
    }
   ],
   "source": [
    "df_reactions.sample()"
   ]
  },
  {
   "cell_type": "code",
   "execution_count": 36,
   "id": "4bc1b890",
   "metadata": {},
   "outputs": [
    {
     "data": {
      "text/html": [
       "<div>\n",
       "<style scoped>\n",
       "    .dataframe tbody tr th:only-of-type {\n",
       "        vertical-align: middle;\n",
       "    }\n",
       "\n",
       "    .dataframe tbody tr th {\n",
       "        vertical-align: top;\n",
       "    }\n",
       "\n",
       "    .dataframe thead th {\n",
       "        text-align: right;\n",
       "    }\n",
       "</style>\n",
       "<table border=\"1\" class=\"dataframe\">\n",
       "  <thead>\n",
       "    <tr style=\"text-align: right;\">\n",
       "      <th></th>\n",
       "      <th>reaction_type</th>\n",
       "      <th>sentiment</th>\n",
       "      <th>score</th>\n",
       "    </tr>\n",
       "  </thead>\n",
       "  <tbody>\n",
       "    <tr>\n",
       "      <th>1</th>\n",
       "      <td>want</td>\n",
       "      <td>positive</td>\n",
       "      <td>70</td>\n",
       "    </tr>\n",
       "  </tbody>\n",
       "</table>\n",
       "</div>"
      ],
      "text/plain": [
       "  reaction_type sentiment  score\n",
       "1          want  positive     70"
      ]
     },
     "execution_count": 36,
     "metadata": {},
     "output_type": "execute_result"
    }
   ],
   "source": [
    "df_react_type.sample()"
   ]
  },
  {
   "cell_type": "code",
   "execution_count": 37,
   "id": "58ead05b",
   "metadata": {},
   "outputs": [
    {
     "data": {
      "text/html": [
       "<div>\n",
       "<style scoped>\n",
       "    .dataframe tbody tr th:only-of-type {\n",
       "        vertical-align: middle;\n",
       "    }\n",
       "\n",
       "    .dataframe tbody tr th {\n",
       "        vertical-align: top;\n",
       "    }\n",
       "\n",
       "    .dataframe thead th {\n",
       "        text-align: right;\n",
       "    }\n",
       "</style>\n",
       "<table border=\"1\" class=\"dataframe\">\n",
       "  <thead>\n",
       "    <tr style=\"text-align: right;\">\n",
       "      <th></th>\n",
       "      <th>content_id</th>\n",
       "      <th>category_type</th>\n",
       "      <th>category</th>\n",
       "    </tr>\n",
       "  </thead>\n",
       "  <tbody>\n",
       "    <tr>\n",
       "      <th>718</th>\n",
       "      <td>ef1ed168-7433-4233-ade8-95070d70a382</td>\n",
       "      <td>audio</td>\n",
       "      <td>travel</td>\n",
       "    </tr>\n",
       "  </tbody>\n",
       "</table>\n",
       "</div>"
      ],
      "text/plain": [
       "                               content_id category_type category\n",
       "718  ef1ed168-7433-4233-ade8-95070d70a382         audio   travel"
      ]
     },
     "execution_count": 37,
     "metadata": {},
     "output_type": "execute_result"
    }
   ],
   "source": [
    "df_content.sample()"
   ]
  },
  {
   "cell_type": "code",
   "execution_count": 38,
   "id": "91c8a2d5",
   "metadata": {},
   "outputs": [],
   "source": [
    "df = df_content.merge(df_reactions, how='inner', on='content_id').merge(df_react_type, how='inner', on='reaction_type')"
   ]
  },
  {
   "cell_type": "code",
   "execution_count": 39,
   "id": "2647d07e",
   "metadata": {},
   "outputs": [
    {
     "data": {
      "text/plain": [
       "content_id       0\n",
       "category_type    0\n",
       "category         0\n",
       "reaction_type    0\n",
       "datetime         0\n",
       "sentiment        0\n",
       "score            0\n",
       "dtype: int64"
      ]
     },
     "execution_count": 39,
     "metadata": {},
     "output_type": "execute_result"
    }
   ],
   "source": [
    "df.isnull().sum()"
   ]
  },
  {
   "cell_type": "markdown",
   "id": "fb107963",
   "metadata": {},
   "source": [
    "Now we have the final dataframe, let's answer the question."
   ]
  },
  {
   "cell_type": "markdown",
   "id": "2f31a6a2",
   "metadata": {},
   "source": [
    "## EDA"
   ]
  },
  {
   "cell_type": "markdown",
   "id": "1dde6777",
   "metadata": {},
   "source": [
    "**Question**: top 5 categories with the largest popularity"
   ]
  },
  {
   "cell_type": "code",
   "execution_count": 40,
   "id": "0f839a51",
   "metadata": {},
   "outputs": [
    {
     "data": {
      "text/html": [
       "<div>\n",
       "<style scoped>\n",
       "    .dataframe tbody tr th:only-of-type {\n",
       "        vertical-align: middle;\n",
       "    }\n",
       "\n",
       "    .dataframe tbody tr th {\n",
       "        vertical-align: top;\n",
       "    }\n",
       "\n",
       "    .dataframe thead th {\n",
       "        text-align: right;\n",
       "    }\n",
       "</style>\n",
       "<table border=\"1\" class=\"dataframe\">\n",
       "  <thead>\n",
       "    <tr style=\"text-align: right;\">\n",
       "      <th></th>\n",
       "      <th>content_id</th>\n",
       "      <th>category_type</th>\n",
       "      <th>category</th>\n",
       "      <th>reaction_type</th>\n",
       "      <th>datetime</th>\n",
       "      <th>sentiment</th>\n",
       "      <th>score</th>\n",
       "    </tr>\n",
       "  </thead>\n",
       "  <tbody>\n",
       "    <tr>\n",
       "      <th>18330</th>\n",
       "      <td>b2a20047-ac6f-4caa-90b1-fe735433e362</td>\n",
       "      <td>photo</td>\n",
       "      <td>culture</td>\n",
       "      <td>worried</td>\n",
       "      <td>2020-10-28 06:30:44</td>\n",
       "      <td>negative</td>\n",
       "      <td>12</td>\n",
       "    </tr>\n",
       "    <tr>\n",
       "      <th>2864</th>\n",
       "      <td>b9ff65d6-b79a-4f9b-8745-10088ddf9934</td>\n",
       "      <td>video</td>\n",
       "      <td>animals</td>\n",
       "      <td>dislike</td>\n",
       "      <td>2020-08-19 07:49:55</td>\n",
       "      <td>negative</td>\n",
       "      <td>10</td>\n",
       "    </tr>\n",
       "    <tr>\n",
       "      <th>12434</th>\n",
       "      <td>026973ef-4b73-4901-9160-bc9e04516057</td>\n",
       "      <td>audio</td>\n",
       "      <td>culture</td>\n",
       "      <td>indifferent</td>\n",
       "      <td>2021-05-03 17:58:20</td>\n",
       "      <td>neutral</td>\n",
       "      <td>20</td>\n",
       "    </tr>\n",
       "  </tbody>\n",
       "</table>\n",
       "</div>"
      ],
      "text/plain": [
       "                                 content_id category_type category  \\\n",
       "18330  b2a20047-ac6f-4caa-90b1-fe735433e362         photo  culture   \n",
       "2864   b9ff65d6-b79a-4f9b-8745-10088ddf9934         video  animals   \n",
       "12434  026973ef-4b73-4901-9160-bc9e04516057         audio  culture   \n",
       "\n",
       "      reaction_type             datetime sentiment  score  \n",
       "18330       worried  2020-10-28 06:30:44  negative     12  \n",
       "2864        dislike  2020-08-19 07:49:55  negative     10  \n",
       "12434   indifferent  2021-05-03 17:58:20   neutral     20  "
      ]
     },
     "execution_count": 40,
     "metadata": {},
     "output_type": "execute_result"
    }
   ],
   "source": [
    "df_copy = df.copy()\n",
    "df_copy.sample(3)"
   ]
  },
  {
   "cell_type": "code",
   "execution_count": 41,
   "id": "67ab3656",
   "metadata": {},
   "outputs": [
    {
     "data": {
      "text/html": [
       "<div>\n",
       "<style scoped>\n",
       "    .dataframe tbody tr th:only-of-type {\n",
       "        vertical-align: middle;\n",
       "    }\n",
       "\n",
       "    .dataframe tbody tr th {\n",
       "        vertical-align: top;\n",
       "    }\n",
       "\n",
       "    .dataframe thead th {\n",
       "        text-align: right;\n",
       "    }\n",
       "</style>\n",
       "<table border=\"1\" class=\"dataframe\">\n",
       "  <thead>\n",
       "    <tr style=\"text-align: right;\">\n",
       "      <th></th>\n",
       "      <th>category</th>\n",
       "      <th>score</th>\n",
       "    </tr>\n",
       "  </thead>\n",
       "  <tbody>\n",
       "    <tr>\n",
       "      <th>0</th>\n",
       "      <td>animals</td>\n",
       "      <td>74965</td>\n",
       "    </tr>\n",
       "    <tr>\n",
       "      <th>9</th>\n",
       "      <td>science</td>\n",
       "      <td>71168</td>\n",
       "    </tr>\n",
       "    <tr>\n",
       "      <th>7</th>\n",
       "      <td>healthy eating</td>\n",
       "      <td>69339</td>\n",
       "    </tr>\n",
       "    <tr>\n",
       "      <th>12</th>\n",
       "      <td>technology</td>\n",
       "      <td>68738</td>\n",
       "    </tr>\n",
       "    <tr>\n",
       "      <th>6</th>\n",
       "      <td>food</td>\n",
       "      <td>66676</td>\n",
       "    </tr>\n",
       "  </tbody>\n",
       "</table>\n",
       "</div>"
      ],
      "text/plain": [
       "          category  score\n",
       "0          animals  74965\n",
       "9          science  71168\n",
       "7   healthy eating  69339\n",
       "12      technology  68738\n",
       "6             food  66676"
      ]
     },
     "execution_count": 41,
     "metadata": {},
     "output_type": "execute_result"
    }
   ],
   "source": [
    "df_top_5_cat = (\n",
    "    df_copy\n",
    "    .groupby('category')\n",
    "    .agg({'score': 'sum'})\n",
    "    .reset_index()\n",
    "    .nlargest(5, 'score')\n",
    ")\n",
    "df_top_5_cat"
   ]
  },
  {
   "cell_type": "markdown",
   "id": "dde371a4",
   "metadata": {},
   "source": [
    "They are asking for 1 excel file, sheet 1 is the cleaned merged data and sheet 2 is the top 5 category."
   ]
  },
  {
   "cell_type": "markdown",
   "id": "8345d15c",
   "metadata": {},
   "source": [
    "before making the final file, let's check the datatype."
   ]
  },
  {
   "cell_type": "code",
   "execution_count": 42,
   "id": "0a6d0ff3",
   "metadata": {
    "scrolled": true
   },
   "outputs": [
    {
     "name": "stdout",
     "output_type": "stream",
     "text": [
      "<class 'pandas.core.frame.DataFrame'>\n",
      "Int64Index: 24573 entries, 0 to 24572\n",
      "Data columns (total 7 columns):\n",
      " #   Column         Non-Null Count  Dtype   \n",
      "---  ------         --------------  -----   \n",
      " 0   content_id     24573 non-null  object  \n",
      " 1   category_type  24573 non-null  category\n",
      " 2   category       24573 non-null  category\n",
      " 3   reaction_type  24573 non-null  category\n",
      " 4   datetime       24573 non-null  object  \n",
      " 5   sentiment      24573 non-null  object  \n",
      " 6   score          24573 non-null  int64   \n",
      "dtypes: category(3), int64(1), object(3)\n",
      "memory usage: 1.0+ MB\n"
     ]
    }
   ],
   "source": [
    "df_copy.info()"
   ]
  },
  {
   "cell_type": "code",
   "execution_count": 43,
   "id": "31b849ce",
   "metadata": {},
   "outputs": [
    {
     "name": "stdout",
     "output_type": "stream",
     "text": [
      "<class 'pandas.core.frame.DataFrame'>\n",
      "Int64Index: 5 entries, 0 to 6\n",
      "Data columns (total 2 columns):\n",
      " #   Column    Non-Null Count  Dtype   \n",
      "---  ------    --------------  -----   \n",
      " 0   category  5 non-null      category\n",
      " 1   score     5 non-null      int64   \n",
      "dtypes: category(1), int64(1)\n",
      "memory usage: 769.0 bytes\n"
     ]
    }
   ],
   "source": [
    "df_top_5_cat.info()"
   ]
  },
  {
   "cell_type": "markdown",
   "id": "c3ab5552",
   "metadata": {},
   "source": [
    "Everything looks good now we'll save it as xlsx as they mentioned they want xlsx. We will use ExcelWriter to make the final file."
   ]
  },
  {
   "cell_type": "code",
   "execution_count": 44,
   "id": "1820b296",
   "metadata": {},
   "outputs": [],
   "source": [
    "# Create an ExcelWriter object\n",
    "writer = pd.ExcelWriter('data_modeling_final.xlsx', engine='xlsxwriter')\n",
    "\n",
    "# Write each DataFrame to a separate sheet\n",
    "df_copy.to_excel(writer, sheet_name='Cleaned Data', index=False)\n",
    "df_top_5_cat.to_excel(writer, sheet_name='Top 5 Category by Score', index=False)\n",
    "\n",
    "# Save the Excel file\n",
    "writer.close()"
   ]
  }
 ],
 "metadata": {
  "kernelspec": {
   "display_name": "Python 3 (ipykernel)",
   "language": "python",
   "name": "python3"
  },
  "language_info": {
   "codemirror_mode": {
    "name": "ipython",
    "version": 3
   },
   "file_extension": ".py",
   "mimetype": "text/x-python",
   "name": "python",
   "nbconvert_exporter": "python",
   "pygments_lexer": "ipython3",
   "version": "3.10.7"
  }
 },
 "nbformat": 4,
 "nbformat_minor": 5
}
