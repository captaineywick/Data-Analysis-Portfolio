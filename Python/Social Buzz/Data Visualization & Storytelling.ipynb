{
 "cells": [
  {
   "cell_type": "code",
   "execution_count": 1,
   "id": "4e404bba",
   "metadata": {},
   "outputs": [],
   "source": [
    "import pandas as pd\n",
    "import numpy as np\n",
    "\n",
    "import matplotlib.pyplot as plt\n",
    "import seaborn as sns\n",
    "\n",
    "# Options\n",
    "pd.set_option('display.max_columns', 100)\n",
    "pd.set_option('display.max_rows', 15)\n",
    "plt.style.use('ggplot')\n",
    "sns.set_style(\"whitegrid\")"
   ]
  },
  {
   "cell_type": "markdown",
   "id": "6a47c88b",
   "metadata": {},
   "source": [
    "# Loading the previous dataset"
   ]
  },
  {
   "cell_type": "markdown",
   "id": "77b41890",
   "metadata": {},
   "source": [
    "Let's load the dataset that we previously generated to answer the questions that we have. We can also just use the xlsx file to load it, but I prefer to save it as csv then use that."
   ]
  },
  {
   "cell_type": "code",
   "execution_count": 2,
   "id": "68d7b7f1",
   "metadata": {},
   "outputs": [
    {
     "name": "stdout",
     "output_type": "stream",
     "text": [
      "Cleaned Data_final.csv saved successfully.\n",
      "Top 5 Category by Score_final.csv saved successfully.\n"
     ]
    }
   ],
   "source": [
    "# Load the Excel file\n",
    "excel_file = pd.ExcelFile('data_modeling_final.xlsx')\n",
    "\n",
    "# Get the list of sheet names\n",
    "sheet_names = excel_file.sheet_names\n",
    "\n",
    "# Iterate through each sheet\n",
    "for sheet_name in sheet_names:\n",
    "    # Read the sheet into a DataFrame, skipping the first row because they added some background color on it.\n",
    "    df = excel_file.parse(sheet_name, dtype=str)  # Column as str\n",
    "\n",
    "    # Save the DataFrame to a CSV file\n",
    "    csv_file_name = f'{sheet_name}_final.csv'\n",
    "    df.to_csv(csv_file_name, index=False)\n",
    "\n",
    "    print(f'{csv_file_name} saved successfully.')"
   ]
  },
  {
   "cell_type": "markdown",
   "id": "45dc2ec8",
   "metadata": {},
   "source": [
    "# Final Content Dataset"
   ]
  },
  {
   "cell_type": "code",
   "execution_count": 3,
   "id": "23afeed7",
   "metadata": {},
   "outputs": [
    {
     "data": {
      "text/html": [
       "<div>\n",
       "<style scoped>\n",
       "    .dataframe tbody tr th:only-of-type {\n",
       "        vertical-align: middle;\n",
       "    }\n",
       "\n",
       "    .dataframe tbody tr th {\n",
       "        vertical-align: top;\n",
       "    }\n",
       "\n",
       "    .dataframe thead th {\n",
       "        text-align: right;\n",
       "    }\n",
       "</style>\n",
       "<table border=\"1\" class=\"dataframe\">\n",
       "  <thead>\n",
       "    <tr style=\"text-align: right;\">\n",
       "      <th></th>\n",
       "      <th>content_id</th>\n",
       "      <th>category_type</th>\n",
       "      <th>category</th>\n",
       "      <th>reaction_type</th>\n",
       "      <th>datetime</th>\n",
       "      <th>sentiment</th>\n",
       "      <th>score</th>\n",
       "    </tr>\n",
       "  </thead>\n",
       "  <tbody>\n",
       "    <tr>\n",
       "      <th>0</th>\n",
       "      <td>97522e57-d9ab-4bd6-97bf-c24d952602d2</td>\n",
       "      <td>photo</td>\n",
       "      <td>studying</td>\n",
       "      <td>disgust</td>\n",
       "      <td>2020-11-07 09:43:50</td>\n",
       "      <td>negative</td>\n",
       "      <td>0</td>\n",
       "    </tr>\n",
       "    <tr>\n",
       "      <th>1</th>\n",
       "      <td>97522e57-d9ab-4bd6-97bf-c24d952602d2</td>\n",
       "      <td>photo</td>\n",
       "      <td>studying</td>\n",
       "      <td>disgust</td>\n",
       "      <td>2021-01-06 19:13:01</td>\n",
       "      <td>negative</td>\n",
       "      <td>0</td>\n",
       "    </tr>\n",
       "    <tr>\n",
       "      <th>2</th>\n",
       "      <td>97522e57-d9ab-4bd6-97bf-c24d952602d2</td>\n",
       "      <td>photo</td>\n",
       "      <td>studying</td>\n",
       "      <td>disgust</td>\n",
       "      <td>2021-04-09 02:46:20</td>\n",
       "      <td>negative</td>\n",
       "      <td>0</td>\n",
       "    </tr>\n",
       "    <tr>\n",
       "      <th>3</th>\n",
       "      <td>9f737e0a-3cdd-4d29-9d24-753f4e3be810</td>\n",
       "      <td>photo</td>\n",
       "      <td>healthy eating</td>\n",
       "      <td>disgust</td>\n",
       "      <td>2021-03-28 21:15:26</td>\n",
       "      <td>negative</td>\n",
       "      <td>0</td>\n",
       "    </tr>\n",
       "    <tr>\n",
       "      <th>4</th>\n",
       "      <td>230c4e4d-70c3-461d-b42c-ec09396efb3f</td>\n",
       "      <td>photo</td>\n",
       "      <td>healthy eating</td>\n",
       "      <td>disgust</td>\n",
       "      <td>2020-08-04 05:40:33</td>\n",
       "      <td>negative</td>\n",
       "      <td>0</td>\n",
       "    </tr>\n",
       "    <tr>\n",
       "      <th>...</th>\n",
       "      <td>...</td>\n",
       "      <td>...</td>\n",
       "      <td>...</td>\n",
       "      <td>...</td>\n",
       "      <td>...</td>\n",
       "      <td>...</td>\n",
       "      <td>...</td>\n",
       "    </tr>\n",
       "    <tr>\n",
       "      <th>24568</th>\n",
       "      <td>435007a5-6261-4d8b-b0a4-55fdc189754b</td>\n",
       "      <td>audio</td>\n",
       "      <td>veganism</td>\n",
       "      <td>adore</td>\n",
       "      <td>2020-10-04 22:26:33</td>\n",
       "      <td>positive</td>\n",
       "      <td>72</td>\n",
       "    </tr>\n",
       "    <tr>\n",
       "      <th>24569</th>\n",
       "      <td>435007a5-6261-4d8b-b0a4-55fdc189754b</td>\n",
       "      <td>audio</td>\n",
       "      <td>veganism</td>\n",
       "      <td>adore</td>\n",
       "      <td>2020-09-18 10:50:50</td>\n",
       "      <td>positive</td>\n",
       "      <td>72</td>\n",
       "    </tr>\n",
       "    <tr>\n",
       "      <th>24570</th>\n",
       "      <td>4e4c9690-c013-4ee7-9e66-943d8cbd27b7</td>\n",
       "      <td>gif</td>\n",
       "      <td>culture</td>\n",
       "      <td>adore</td>\n",
       "      <td>2020-10-31 03:58:44</td>\n",
       "      <td>positive</td>\n",
       "      <td>72</td>\n",
       "    </tr>\n",
       "    <tr>\n",
       "      <th>24571</th>\n",
       "      <td>4e4c9690-c013-4ee7-9e66-943d8cbd27b7</td>\n",
       "      <td>gif</td>\n",
       "      <td>culture</td>\n",
       "      <td>adore</td>\n",
       "      <td>2020-06-25 15:12:29</td>\n",
       "      <td>positive</td>\n",
       "      <td>72</td>\n",
       "    </tr>\n",
       "    <tr>\n",
       "      <th>24572</th>\n",
       "      <td>4e4c9690-c013-4ee7-9e66-943d8cbd27b7</td>\n",
       "      <td>gif</td>\n",
       "      <td>culture</td>\n",
       "      <td>adore</td>\n",
       "      <td>2020-12-17 16:32:57</td>\n",
       "      <td>positive</td>\n",
       "      <td>72</td>\n",
       "    </tr>\n",
       "  </tbody>\n",
       "</table>\n",
       "<p>24573 rows × 7 columns</p>\n",
       "</div>"
      ],
      "text/plain": [
       "                                 content_id category_type        category  \\\n",
       "0      97522e57-d9ab-4bd6-97bf-c24d952602d2         photo        studying   \n",
       "1      97522e57-d9ab-4bd6-97bf-c24d952602d2         photo        studying   \n",
       "2      97522e57-d9ab-4bd6-97bf-c24d952602d2         photo        studying   \n",
       "3      9f737e0a-3cdd-4d29-9d24-753f4e3be810         photo  healthy eating   \n",
       "4      230c4e4d-70c3-461d-b42c-ec09396efb3f         photo  healthy eating   \n",
       "...                                     ...           ...             ...   \n",
       "24568  435007a5-6261-4d8b-b0a4-55fdc189754b         audio        veganism   \n",
       "24569  435007a5-6261-4d8b-b0a4-55fdc189754b         audio        veganism   \n",
       "24570  4e4c9690-c013-4ee7-9e66-943d8cbd27b7           gif         culture   \n",
       "24571  4e4c9690-c013-4ee7-9e66-943d8cbd27b7           gif         culture   \n",
       "24572  4e4c9690-c013-4ee7-9e66-943d8cbd27b7           gif         culture   \n",
       "\n",
       "      reaction_type             datetime sentiment  score  \n",
       "0           disgust  2020-11-07 09:43:50  negative      0  \n",
       "1           disgust  2021-01-06 19:13:01  negative      0  \n",
       "2           disgust  2021-04-09 02:46:20  negative      0  \n",
       "3           disgust  2021-03-28 21:15:26  negative      0  \n",
       "4           disgust  2020-08-04 05:40:33  negative      0  \n",
       "...             ...                  ...       ...    ...  \n",
       "24568         adore  2020-10-04 22:26:33  positive     72  \n",
       "24569         adore  2020-09-18 10:50:50  positive     72  \n",
       "24570         adore  2020-10-31 03:58:44  positive     72  \n",
       "24571         adore  2020-06-25 15:12:29  positive     72  \n",
       "24572         adore  2020-12-17 16:32:57  positive     72  \n",
       "\n",
       "[24573 rows x 7 columns]"
      ]
     },
     "execution_count": 3,
     "metadata": {},
     "output_type": "execute_result"
    }
   ],
   "source": [
    "df = pd.read_csv('Cleaned Data_final.csv')\n",
    "df"
   ]
  },
  {
   "cell_type": "markdown",
   "id": "ff0fdf49",
   "metadata": {},
   "source": [
    "## Cleaning the data"
   ]
  },
  {
   "cell_type": "markdown",
   "id": "b2605af5",
   "metadata": {},
   "source": [
    "Just to be sure let's double check the final content before we proceed in analysis."
   ]
  },
  {
   "cell_type": "markdown",
   "id": "2b15d99d",
   "metadata": {},
   "source": [
    "#### Checking for null values"
   ]
  },
  {
   "cell_type": "code",
   "execution_count": 4,
   "id": "805ff442",
   "metadata": {},
   "outputs": [
    {
     "data": {
      "text/plain": [
       "content_id       0\n",
       "category_type    0\n",
       "category         0\n",
       "reaction_type    0\n",
       "datetime         0\n",
       "sentiment        0\n",
       "score            0\n",
       "dtype: int64"
      ]
     },
     "execution_count": 4,
     "metadata": {},
     "output_type": "execute_result"
    }
   ],
   "source": [
    "df.isnull().sum()"
   ]
  },
  {
   "cell_type": "markdown",
   "id": "734bf3be",
   "metadata": {},
   "source": [
    "#### Checking for duplicate values"
   ]
  },
  {
   "cell_type": "markdown",
   "id": "f067cb2a",
   "metadata": {},
   "source": [
    "We don't need to check for duplicates since this dataset is a content."
   ]
  },
  {
   "cell_type": "markdown",
   "id": "30dd9fa1",
   "metadata": {},
   "source": [
    "#### Changing datatypes"
   ]
  },
  {
   "cell_type": "code",
   "execution_count": 5,
   "id": "4fcbcf9a",
   "metadata": {},
   "outputs": [
    {
     "name": "stdout",
     "output_type": "stream",
     "text": [
      "<class 'pandas.core.frame.DataFrame'>\n",
      "RangeIndex: 24573 entries, 0 to 24572\n",
      "Data columns (total 7 columns):\n",
      " #   Column         Non-Null Count  Dtype \n",
      "---  ------         --------------  ----- \n",
      " 0   content_id     24573 non-null  object\n",
      " 1   category_type  24573 non-null  object\n",
      " 2   category       24573 non-null  object\n",
      " 3   reaction_type  24573 non-null  object\n",
      " 4   datetime       24573 non-null  object\n",
      " 5   sentiment      24573 non-null  object\n",
      " 6   score          24573 non-null  int64 \n",
      "dtypes: int64(1), object(6)\n",
      "memory usage: 1.3+ MB\n"
     ]
    }
   ],
   "source": [
    "df.info()"
   ]
  },
  {
   "cell_type": "code",
   "execution_count": 6,
   "id": "2767b444",
   "metadata": {},
   "outputs": [
    {
     "name": "stdout",
     "output_type": "stream",
     "text": [
      "<class 'pandas.core.frame.DataFrame'>\n",
      "RangeIndex: 24573 entries, 0 to 24572\n",
      "Data columns (total 7 columns):\n",
      " #   Column         Non-Null Count  Dtype         \n",
      "---  ------         --------------  -----         \n",
      " 0   content_id     24573 non-null  object        \n",
      " 1   category_type  24573 non-null  category      \n",
      " 2   category       24573 non-null  category      \n",
      " 3   reaction_type  24573 non-null  category      \n",
      " 4   datetime       24573 non-null  datetime64[ns]\n",
      " 5   sentiment      24573 non-null  category      \n",
      " 6   score          24573 non-null  int64         \n",
      "dtypes: category(4), datetime64[ns](1), int64(1), object(1)\n",
      "memory usage: 673.7+ KB\n"
     ]
    }
   ],
   "source": [
    "dtypes = {\n",
    "    'reaction_type': 'category',\n",
    "    'datetime': 'datetime64',\n",
    "    'category_type': 'category',\n",
    "    'category': 'category',\n",
    "    'sentiment': 'category',\n",
    "}\n",
    "\n",
    "df = df.astype(dtypes)\n",
    "df.info()"
   ]
  },
  {
   "cell_type": "markdown",
   "id": "c3ce7ba2",
   "metadata": {},
   "source": [
    "#### Checking the categories if there is inconsistency"
   ]
  },
  {
   "cell_type": "code",
   "execution_count": 7,
   "id": "53753f85",
   "metadata": {},
   "outputs": [
    {
     "name": "stdout",
     "output_type": "stream",
     "text": [
      "disgust\n",
      "dislike\n",
      "scared\n",
      "interested\n",
      "peeking\n",
      "cherish\n",
      "hate\n",
      "love\n",
      "indifferent\n",
      "super love\n",
      "intrigued\n",
      "worried\n",
      "like\n",
      "heart\n",
      "want\n",
      "adore\n"
     ]
    }
   ],
   "source": [
    "for x in df.reaction_type.unique():\n",
    "    print(x)"
   ]
  },
  {
   "cell_type": "code",
   "execution_count": 8,
   "id": "881820e5",
   "metadata": {},
   "outputs": [
    {
     "data": {
      "text/plain": [
       "['photo', 'video', 'gif', 'audio']\n",
       "Categories (4, object): ['audio', 'gif', 'photo', 'video']"
      ]
     },
     "execution_count": 8,
     "metadata": {},
     "output_type": "execute_result"
    }
   ],
   "source": [
    "df.category_type.unique()"
   ]
  },
  {
   "cell_type": "code",
   "execution_count": 9,
   "id": "0a01d37a",
   "metadata": {},
   "outputs": [
    {
     "name": "stdout",
     "output_type": "stream",
     "text": [
      "studying\n",
      "healthy eating\n",
      "dogs\n",
      "public speaking\n",
      "science\n",
      "tennis\n",
      "food\n",
      "fitness\n",
      "soccer\n",
      "education\n",
      "travel\n",
      "veganism\n",
      "cooking\n",
      "technology\n",
      "animals\n",
      "culture\n"
     ]
    }
   ],
   "source": [
    "for x in df.category.unique():\n",
    "    print(x)"
   ]
  },
  {
   "cell_type": "code",
   "execution_count": 10,
   "id": "7dd77ded",
   "metadata": {},
   "outputs": [
    {
     "data": {
      "text/plain": [
       "['negative', 'positive', 'neutral']\n",
       "Categories (3, object): ['negative', 'neutral', 'positive']"
      ]
     },
     "execution_count": 10,
     "metadata": {},
     "output_type": "execute_result"
    }
   ],
   "source": [
    "df.sentiment.unique()"
   ]
  },
  {
   "cell_type": "markdown",
   "id": "e0f7d9f1",
   "metadata": {},
   "source": [
    "Everything looks good. Now let's check the datetime and score."
   ]
  },
  {
   "cell_type": "code",
   "execution_count": 11,
   "id": "c2f59151",
   "metadata": {},
   "outputs": [
    {
     "data": {
      "text/html": [
       "<div>\n",
       "<style scoped>\n",
       "    .dataframe tbody tr th:only-of-type {\n",
       "        vertical-align: middle;\n",
       "    }\n",
       "\n",
       "    .dataframe tbody tr th {\n",
       "        vertical-align: top;\n",
       "    }\n",
       "\n",
       "    .dataframe thead th {\n",
       "        text-align: right;\n",
       "    }\n",
       "</style>\n",
       "<table border=\"1\" class=\"dataframe\">\n",
       "  <thead>\n",
       "    <tr style=\"text-align: right;\">\n",
       "      <th></th>\n",
       "      <th>datetime</th>\n",
       "      <th>score</th>\n",
       "    </tr>\n",
       "  </thead>\n",
       "  <tbody>\n",
       "    <tr>\n",
       "      <th>count</th>\n",
       "      <td>24573</td>\n",
       "      <td>24573.000000</td>\n",
       "    </tr>\n",
       "    <tr>\n",
       "      <th>mean</th>\n",
       "      <td>2020-12-17 06:35:24.454279168</td>\n",
       "      <td>39.622553</td>\n",
       "    </tr>\n",
       "    <tr>\n",
       "      <th>min</th>\n",
       "      <td>2020-06-18 08:07:22</td>\n",
       "      <td>0.000000</td>\n",
       "    </tr>\n",
       "    <tr>\n",
       "      <th>25%</th>\n",
       "      <td>2020-09-16 18:51:38</td>\n",
       "      <td>15.000000</td>\n",
       "    </tr>\n",
       "    <tr>\n",
       "      <th>50%</th>\n",
       "      <td>2020-12-17 06:08:30</td>\n",
       "      <td>35.000000</td>\n",
       "    </tr>\n",
       "    <tr>\n",
       "      <th>75%</th>\n",
       "      <td>2021-03-17 12:05:06</td>\n",
       "      <td>65.000000</td>\n",
       "    </tr>\n",
       "    <tr>\n",
       "      <th>max</th>\n",
       "      <td>2021-06-18 08:30:29</td>\n",
       "      <td>75.000000</td>\n",
       "    </tr>\n",
       "    <tr>\n",
       "      <th>std</th>\n",
       "      <td>NaN</td>\n",
       "      <td>26.043011</td>\n",
       "    </tr>\n",
       "  </tbody>\n",
       "</table>\n",
       "</div>"
      ],
      "text/plain": [
       "                            datetime         score\n",
       "count                          24573  24573.000000\n",
       "mean   2020-12-17 06:35:24.454279168     39.622553\n",
       "min              2020-06-18 08:07:22      0.000000\n",
       "25%              2020-09-16 18:51:38     15.000000\n",
       "50%              2020-12-17 06:08:30     35.000000\n",
       "75%              2021-03-17 12:05:06     65.000000\n",
       "max              2021-06-18 08:30:29     75.000000\n",
       "std                              NaN     26.043011"
      ]
     },
     "execution_count": 11,
     "metadata": {},
     "output_type": "execute_result"
    }
   ],
   "source": [
    "df.describe(include=['int64', 'datetime64'], datetime_is_numeric=True)"
   ]
  },
  {
   "cell_type": "markdown",
   "id": "bdebb858",
   "metadata": {},
   "source": [
    "- min date - 2020-01-07 00:32:00\n",
    "- max date - 2021-12-06 23:53:00"
   ]
  },
  {
   "cell_type": "markdown",
   "id": "e83b20f2",
   "metadata": {},
   "source": [
    "## EDA"
   ]
  },
  {
   "cell_type": "markdown",
   "id": "7b8932b7",
   "metadata": {},
   "source": [
    "Use our previous dataset to answer this question"
   ]
  },
  {
   "cell_type": "markdown",
   "id": "92693974",
   "metadata": {},
   "source": [
    "**Q: Top 5 popular category based on score?**\n",
    "\n",
    "Answer: Animals, Science, Health Eating, Technology and Food."
   ]
  },
  {
   "cell_type": "code",
   "execution_count": 12,
   "id": "1b7ef905",
   "metadata": {},
   "outputs": [
    {
     "data": {
      "text/html": [
       "<div>\n",
       "<style scoped>\n",
       "    .dataframe tbody tr th:only-of-type {\n",
       "        vertical-align: middle;\n",
       "    }\n",
       "\n",
       "    .dataframe tbody tr th {\n",
       "        vertical-align: top;\n",
       "    }\n",
       "\n",
       "    .dataframe thead th {\n",
       "        text-align: right;\n",
       "    }\n",
       "</style>\n",
       "<table border=\"1\" class=\"dataframe\">\n",
       "  <thead>\n",
       "    <tr style=\"text-align: right;\">\n",
       "      <th></th>\n",
       "      <th>category</th>\n",
       "      <th>score</th>\n",
       "    </tr>\n",
       "  </thead>\n",
       "  <tbody>\n",
       "    <tr>\n",
       "      <th>0</th>\n",
       "      <td>animals</td>\n",
       "      <td>74965</td>\n",
       "    </tr>\n",
       "    <tr>\n",
       "      <th>1</th>\n",
       "      <td>science</td>\n",
       "      <td>71168</td>\n",
       "    </tr>\n",
       "    <tr>\n",
       "      <th>2</th>\n",
       "      <td>healthy eating</td>\n",
       "      <td>69339</td>\n",
       "    </tr>\n",
       "    <tr>\n",
       "      <th>3</th>\n",
       "      <td>technology</td>\n",
       "      <td>68738</td>\n",
       "    </tr>\n",
       "    <tr>\n",
       "      <th>4</th>\n",
       "      <td>food</td>\n",
       "      <td>66676</td>\n",
       "    </tr>\n",
       "  </tbody>\n",
       "</table>\n",
       "</div>"
      ],
      "text/plain": [
       "         category  score\n",
       "0         animals  74965\n",
       "1         science  71168\n",
       "2  healthy eating  69339\n",
       "3      technology  68738\n",
       "4            food  66676"
      ]
     },
     "execution_count": 12,
     "metadata": {},
     "output_type": "execute_result"
    }
   ],
   "source": [
    "# We will use the other sheet that we made to answer this\n",
    "df_top_5_category = pd.read_csv('Top 5 Category by Score_final.csv')\n",
    "df_top_5_category"
   ]
  },
  {
   "cell_type": "code",
   "execution_count": 13,
   "id": "fc0abcc3",
   "metadata": {},
   "outputs": [
    {
     "name": "stdout",
     "output_type": "stream",
     "text": [
      "<class 'pandas.core.frame.DataFrame'>\n",
      "RangeIndex: 5 entries, 0 to 4\n",
      "Data columns (total 2 columns):\n",
      " #   Column    Non-Null Count  Dtype   \n",
      "---  ------    --------------  -----   \n",
      " 0   category  5 non-null      category\n",
      " 1   score     5 non-null      int64   \n",
      "dtypes: category(1), int64(1)\n",
      "memory usage: 385.0 bytes\n"
     ]
    }
   ],
   "source": [
    "df_top_5_category['category'] = df_top_5_category['category'].astype('category')\n",
    "df_top_5_category.info()"
   ]
  },
  {
   "cell_type": "code",
   "execution_count": 14,
   "id": "01bb4311",
   "metadata": {},
   "outputs": [
    {
     "data": {
      "text/html": [
       "<div>\n",
       "<style scoped>\n",
       "    .dataframe tbody tr th:only-of-type {\n",
       "        vertical-align: middle;\n",
       "    }\n",
       "\n",
       "    .dataframe tbody tr th {\n",
       "        vertical-align: top;\n",
       "    }\n",
       "\n",
       "    .dataframe thead th {\n",
       "        text-align: right;\n",
       "    }\n",
       "</style>\n",
       "<table border=\"1\" class=\"dataframe\">\n",
       "  <thead>\n",
       "    <tr style=\"text-align: right;\">\n",
       "      <th></th>\n",
       "      <th>category</th>\n",
       "      <th>score</th>\n",
       "    </tr>\n",
       "  </thead>\n",
       "  <tbody>\n",
       "    <tr>\n",
       "      <th>0</th>\n",
       "      <td>animals</td>\n",
       "      <td>74965</td>\n",
       "    </tr>\n",
       "    <tr>\n",
       "      <th>1</th>\n",
       "      <td>science</td>\n",
       "      <td>71168</td>\n",
       "    </tr>\n",
       "    <tr>\n",
       "      <th>2</th>\n",
       "      <td>healthy eating</td>\n",
       "      <td>69339</td>\n",
       "    </tr>\n",
       "    <tr>\n",
       "      <th>3</th>\n",
       "      <td>technology</td>\n",
       "      <td>68738</td>\n",
       "    </tr>\n",
       "    <tr>\n",
       "      <th>4</th>\n",
       "      <td>food</td>\n",
       "      <td>66676</td>\n",
       "    </tr>\n",
       "  </tbody>\n",
       "</table>\n",
       "</div>"
      ],
      "text/plain": [
       "         category  score\n",
       "0         animals  74965\n",
       "1         science  71168\n",
       "2  healthy eating  69339\n",
       "3      technology  68738\n",
       "4            food  66676"
      ]
     },
     "execution_count": 14,
     "metadata": {},
     "output_type": "execute_result"
    }
   ],
   "source": [
    "df_top_5_category"
   ]
  },
  {
   "cell_type": "code",
   "execution_count": 15,
   "id": "0d47e79a",
   "metadata": {},
   "outputs": [
    {
     "data": {
      "image/png": "[encoded data removed]",
      "text/plain": [
       "<Figure size 800x400 with 1 Axes>"
      ]
     },
     "metadata": {},
     "output_type": "display_data"
    }
   ],
   "source": [
    "order = df_top_5_category.sort_values('score', ascending=False)['category'].values  # Sort the order\n",
    "\n",
    "fig, ax = plt.subplots(figsize=(8, 4))\n",
    "\n",
    "sns.barplot(data=df_top_5_category, \n",
    "            y='score', x='category',\n",
    "            order=order, ax=ax)\n",
    "\n",
    "# Add value labels on top of each bar\n",
    "for p in ax.containers:\n",
    "    ax.bar_label(p, label_type='edge', padding=2, fontsize=12, labels=[f\"{int(val):,}\" for val in p.datavalues])\n",
    "\n",
    "# Set limits for X-axis and text\n",
    "ax.set(\n",
    "    ylabel='',\n",
    "    xlabel='',\n",
    "    title='Top 5 Categories by Popularity Score'\n",
    ")\n",
    "\n",
    "# Remove y-axis tick labels\n",
    "ax.set_yticklabels([])\n",
    "\n",
    "# Remove grid lines\n",
    "ax.grid(False)\n",
    "\n",
    "# Remove outer box\n",
    "ax.spines['top'].set_visible(False)\n",
    "ax.spines['right'].set_visible(False)\n",
    "ax.spines['bottom'].set_visible(False)\n",
    "ax.spines['left'].set_visible(False)\n",
    "\n",
    "plt.show()"
   ]
  },
  {
   "cell_type": "code",
   "execution_count": 16,
   "id": "00fdc4ec",
   "metadata": {},
   "outputs": [
    {
     "data": {
      "image/png": "[encoded data removed]",
      "text/plain": [
       "<Figure size 800x600 with 1 Axes>"
      ]
     },
     "metadata": {},
     "output_type": "display_data"
    }
   ],
   "source": [
    "# Calculate the percentage for each category\n",
    "category_percentages = df_top_5_category['score'] / df_top_5_category['score'].sum() * 100\n",
    "\n",
    "# Get the index with the highest score\n",
    "max_score_index = category_percentages.idxmax()\n",
    "\n",
    "# Create the explode list with 0.05 offset for the highest score category, and 0 for the rest\n",
    "explode = [0.05 if i == max_score_index else 0 for i in range(len(category_percentages))]\n",
    "\n",
    "# Plot the pie chart\n",
    "fig, ax = plt.subplots(figsize=(8, 6))\n",
    "\n",
    "ax.pie(category_percentages, labels=df_top_5_category['category'], autopct='%1.1f%%', explode=explode)\n",
    "\n",
    "# Set title\n",
    "ax.set_title('Popular Category Percentage Share')\n",
    "\n",
    "plt.show()"
   ]
  },
  {
   "cell_type": "markdown",
   "id": "b8a06c43",
   "metadata": {},
   "source": [
    "Now we will use the new dataset to answer the remaining questions"
   ]
  },
  {
   "cell_type": "markdown",
   "id": "526abda3",
   "metadata": {},
   "source": [
    "**Q: How many unique categories are there?**\n",
    "\n",
    "Answer: 16 categories"
   ]
  },
  {
   "cell_type": "code",
   "execution_count": 17,
   "id": "5f4606e0",
   "metadata": {},
   "outputs": [],
   "source": [
    "df_copy = df.copy()"
   ]
  },
  {
   "cell_type": "code",
   "execution_count": 18,
   "id": "d2655171",
   "metadata": {},
   "outputs": [
    {
     "data": {
      "text/plain": [
       "16"
      ]
     },
     "execution_count": 18,
     "metadata": {},
     "output_type": "execute_result"
    }
   ],
   "source": [
    "df_copy.category.nunique()"
   ]
  },
  {
   "cell_type": "code",
   "execution_count": 19,
   "id": "ee260f3d",
   "metadata": {},
   "outputs": [
    {
     "name": "stdout",
     "output_type": "stream",
     "text": [
      "studying\n",
      "healthy eating\n",
      "dogs\n",
      "public speaking\n",
      "science\n",
      "tennis\n",
      "food\n",
      "fitness\n",
      "soccer\n",
      "education\n",
      "travel\n",
      "veganism\n",
      "cooking\n",
      "technology\n",
      "animals\n",
      "culture\n"
     ]
    }
   ],
   "source": [
    "for x in df_copy.category.unique():\n",
    "    print(x)"
   ]
  },
  {
   "attachments": {
    "image.png": {
     "image/png": "[encoded data removed]"
    }
   },
   "cell_type": "markdown",
   "id": "4e58b490",
   "metadata": {},
   "source": [
    "**Question: What is the total number of reactions for the most popular category? Additionally, how many reactions are there for the top 5 and top 10 popular categories combined?**\n",
    "\n",
    "Answer: The category \"Animals\" has received 1897 reactions, making it the most reacted category. The combined number of reactions for the top 5 popular categories is 8807, while the top 10 popular categories have accumulated a total of 16684 reactions.\n",
    "![image.png](attachment:image.png)"
   ]
  },
  {
   "cell_type": "code",
   "execution_count": 20,
   "id": "730f0644",
   "metadata": {},
   "outputs": [
    {
     "data": {
      "text/html": [
       "<div>\n",
       "<style scoped>\n",
       "    .dataframe tbody tr th:only-of-type {\n",
       "        vertical-align: middle;\n",
       "    }\n",
       "\n",
       "    .dataframe tbody tr th {\n",
       "        vertical-align: top;\n",
       "    }\n",
       "\n",
       "    .dataframe thead th {\n",
       "        text-align: right;\n",
       "    }\n",
       "</style>\n",
       "<table border=\"1\" class=\"dataframe\">\n",
       "  <thead>\n",
       "    <tr style=\"text-align: right;\">\n",
       "      <th></th>\n",
       "      <th>content_id</th>\n",
       "      <th>category_type</th>\n",
       "      <th>category</th>\n",
       "      <th>reaction_type</th>\n",
       "      <th>datetime</th>\n",
       "      <th>sentiment</th>\n",
       "      <th>score</th>\n",
       "    </tr>\n",
       "  </thead>\n",
       "  <tbody>\n",
       "    <tr>\n",
       "      <th>7656</th>\n",
       "      <td>d347afb6-c092-4301-ba7d-4c59d10142cb</td>\n",
       "      <td>photo</td>\n",
       "      <td>tennis</td>\n",
       "      <td>peeking</td>\n",
       "      <td>2021-04-16 10:42:34</td>\n",
       "      <td>neutral</td>\n",
       "      <td>35</td>\n",
       "    </tr>\n",
       "    <tr>\n",
       "      <th>17860</th>\n",
       "      <td>b0dd04df-83a1-470f-80ad-bb173a5e44bc</td>\n",
       "      <td>photo</td>\n",
       "      <td>cooking</td>\n",
       "      <td>worried</td>\n",
       "      <td>2020-06-24 00:27:45</td>\n",
       "      <td>negative</td>\n",
       "      <td>12</td>\n",
       "    </tr>\n",
       "    <tr>\n",
       "      <th>19666</th>\n",
       "      <td>8b08e78c-4798-463a-b868-a0dc9fde777f</td>\n",
       "      <td>gif</td>\n",
       "      <td>public speaking</td>\n",
       "      <td>like</td>\n",
       "      <td>2021-05-01 14:45:16</td>\n",
       "      <td>positive</td>\n",
       "      <td>50</td>\n",
       "    </tr>\n",
       "  </tbody>\n",
       "</table>\n",
       "</div>"
      ],
      "text/plain": [
       "                                 content_id category_type         category  \\\n",
       "7656   d347afb6-c092-4301-ba7d-4c59d10142cb         photo           tennis   \n",
       "17860  b0dd04df-83a1-470f-80ad-bb173a5e44bc         photo          cooking   \n",
       "19666  8b08e78c-4798-463a-b868-a0dc9fde777f           gif  public speaking   \n",
       "\n",
       "      reaction_type            datetime sentiment  score  \n",
       "7656        peeking 2021-04-16 10:42:34   neutral     35  \n",
       "17860       worried 2020-06-24 00:27:45  negative     12  \n",
       "19666          like 2021-05-01 14:45:16  positive     50  "
      ]
     },
     "execution_count": 20,
     "metadata": {},
     "output_type": "execute_result"
    }
   ],
   "source": [
    "df_copy.sample(3)"
   ]
  },
  {
   "cell_type": "code",
   "execution_count": 21,
   "id": "b748332c",
   "metadata": {},
   "outputs": [
    {
     "data": {
      "text/html": [
       "<div>\n",
       "<style scoped>\n",
       "    .dataframe tbody tr th:only-of-type {\n",
       "        vertical-align: middle;\n",
       "    }\n",
       "\n",
       "    .dataframe tbody tr th {\n",
       "        vertical-align: top;\n",
       "    }\n",
       "\n",
       "    .dataframe thead th {\n",
       "        text-align: right;\n",
       "    }\n",
       "</style>\n",
       "<table border=\"1\" class=\"dataframe\">\n",
       "  <thead>\n",
       "    <tr style=\"text-align: right;\">\n",
       "      <th></th>\n",
       "      <th>category</th>\n",
       "      <th>score</th>\n",
       "      <th>reactions</th>\n",
       "    </tr>\n",
       "  </thead>\n",
       "  <tbody>\n",
       "    <tr>\n",
       "      <th>0</th>\n",
       "      <td>animals</td>\n",
       "      <td>74965</td>\n",
       "      <td>1897</td>\n",
       "    </tr>\n",
       "    <tr>\n",
       "      <th>9</th>\n",
       "      <td>science</td>\n",
       "      <td>71168</td>\n",
       "      <td>1796</td>\n",
       "    </tr>\n",
       "    <tr>\n",
       "      <th>7</th>\n",
       "      <td>healthy eating</td>\n",
       "      <td>69339</td>\n",
       "      <td>1717</td>\n",
       "    </tr>\n",
       "    <tr>\n",
       "      <th>12</th>\n",
       "      <td>technology</td>\n",
       "      <td>68738</td>\n",
       "      <td>1698</td>\n",
       "    </tr>\n",
       "    <tr>\n",
       "      <th>6</th>\n",
       "      <td>food</td>\n",
       "      <td>66676</td>\n",
       "      <td>1699</td>\n",
       "    </tr>\n",
       "    <tr>\n",
       "      <th>2</th>\n",
       "      <td>culture</td>\n",
       "      <td>66579</td>\n",
       "      <td>1676</td>\n",
       "    </tr>\n",
       "    <tr>\n",
       "      <th>14</th>\n",
       "      <td>travel</td>\n",
       "      <td>64880</td>\n",
       "      <td>1647</td>\n",
       "    </tr>\n",
       "    <tr>\n",
       "      <th>1</th>\n",
       "      <td>cooking</td>\n",
       "      <td>64756</td>\n",
       "      <td>1664</td>\n",
       "    </tr>\n",
       "    <tr>\n",
       "      <th>10</th>\n",
       "      <td>soccer</td>\n",
       "      <td>57783</td>\n",
       "      <td>1457</td>\n",
       "    </tr>\n",
       "    <tr>\n",
       "      <th>4</th>\n",
       "      <td>education</td>\n",
       "      <td>57436</td>\n",
       "      <td>1433</td>\n",
       "    </tr>\n",
       "  </tbody>\n",
       "</table>\n",
       "</div>"
      ],
      "text/plain": [
       "          category  score  reactions\n",
       "0          animals  74965       1897\n",
       "9          science  71168       1796\n",
       "7   healthy eating  69339       1717\n",
       "12      technology  68738       1698\n",
       "6             food  66676       1699\n",
       "2          culture  66579       1676\n",
       "14          travel  64880       1647\n",
       "1          cooking  64756       1664\n",
       "10          soccer  57783       1457\n",
       "4        education  57436       1433"
      ]
     },
     "execution_count": 21,
     "metadata": {},
     "output_type": "execute_result"
    }
   ],
   "source": [
    "df_top_10_cat = (\n",
    "    df_copy\n",
    "    .groupby('category')\n",
    "    .agg({'score': 'sum', 'reaction_type': 'count'})\n",
    "    .reset_index()\n",
    "    .rename(columns={'reaction_type': 'reactions'})\n",
    "    .nlargest(10, 'score')\n",
    ")\n",
    "df_top_10_cat"
   ]
  },
  {
   "cell_type": "code",
   "execution_count": 22,
   "id": "5743efd4",
   "metadata": {},
   "outputs": [
    {
     "data": {
      "text/html": [
       "<div>\n",
       "<style scoped>\n",
       "    .dataframe tbody tr th:only-of-type {\n",
       "        vertical-align: middle;\n",
       "    }\n",
       "\n",
       "    .dataframe tbody tr th {\n",
       "        vertical-align: top;\n",
       "    }\n",
       "\n",
       "    .dataframe thead th {\n",
       "        text-align: right;\n",
       "    }\n",
       "</style>\n",
       "<table border=\"1\" class=\"dataframe\">\n",
       "  <thead>\n",
       "    <tr style=\"text-align: right;\">\n",
       "      <th></th>\n",
       "      <th>category</th>\n",
       "      <th>score</th>\n",
       "      <th>reactions</th>\n",
       "    </tr>\n",
       "  </thead>\n",
       "  <tbody>\n",
       "    <tr>\n",
       "      <th>0</th>\n",
       "      <td>animals</td>\n",
       "      <td>74965</td>\n",
       "      <td>1897</td>\n",
       "    </tr>\n",
       "    <tr>\n",
       "      <th>9</th>\n",
       "      <td>science</td>\n",
       "      <td>71168</td>\n",
       "      <td>1796</td>\n",
       "    </tr>\n",
       "    <tr>\n",
       "      <th>7</th>\n",
       "      <td>healthy eating</td>\n",
       "      <td>69339</td>\n",
       "      <td>1717</td>\n",
       "    </tr>\n",
       "    <tr>\n",
       "      <th>12</th>\n",
       "      <td>technology</td>\n",
       "      <td>68738</td>\n",
       "      <td>1698</td>\n",
       "    </tr>\n",
       "    <tr>\n",
       "      <th>6</th>\n",
       "      <td>food</td>\n",
       "      <td>66676</td>\n",
       "      <td>1699</td>\n",
       "    </tr>\n",
       "  </tbody>\n",
       "</table>\n",
       "</div>"
      ],
      "text/plain": [
       "          category  score  reactions\n",
       "0          animals  74965       1897\n",
       "9          science  71168       1796\n",
       "7   healthy eating  69339       1717\n",
       "12      technology  68738       1698\n",
       "6             food  66676       1699"
      ]
     },
     "execution_count": 22,
     "metadata": {},
     "output_type": "execute_result"
    }
   ],
   "source": [
    "df_top_5_cat = (\n",
    "    df_copy\n",
    "    .groupby('category')\n",
    "    .agg({'score': 'sum', 'reaction_type': 'count'})\n",
    "    .reset_index()\n",
    "    .rename(columns={'reaction_type': 'reactions'})\n",
    "    .nlargest(5, 'score')\n",
    ")\n",
    "df_top_5_cat"
   ]
  },
  {
   "cell_type": "code",
   "execution_count": 23,
   "id": "f3775b35",
   "metadata": {},
   "outputs": [
    {
     "data": {
      "text/plain": [
       "(8807, 16684)"
      ]
     },
     "execution_count": 23,
     "metadata": {},
     "output_type": "execute_result"
    }
   ],
   "source": [
    "df_top_5_cat.reactions.sum(), df_top_10_cat.reactions.sum()"
   ]
  },
  {
   "cell_type": "code",
   "execution_count": 24,
   "id": "e5048044",
   "metadata": {},
   "outputs": [
    {
     "data": {
      "image/png": "[encoded data removed]",
      "text/plain": [
       "<Figure size 1200x400 with 1 Axes>"
      ]
     },
     "metadata": {},
     "output_type": "display_data"
    }
   ],
   "source": [
    "order = df_top_10_cat.sort_values(by=['score', 'reactions'], ascending=[False, False])['category'].values\n",
    "\n",
    "fig, ax = plt.subplots(figsize=(12, 4))\n",
    "\n",
    "sns.barplot(data=df_top_10_cat, \n",
    "            y='reactions', x='category',\n",
    "            order=order, ax=ax)\n",
    "\n",
    "# Add value labels on top of each bar\n",
    "for p in ax.containers:\n",
    "    ax.bar_label(p, label_type='edge', padding=2, fontsize=10, labels=[f\"{int(val):,} reacts\" for val in p.datavalues])\n",
    "    \n",
    "\n",
    "# Plot transaction count above each bar\n",
    "for i, p in enumerate(ax.patches):\n",
    "    # Calculate the x and y coordinates for the text\n",
    "    x = p.get_x() + p.get_width() / 2\n",
    "    y = p.get_height()\n",
    "\n",
    "    # Format the transaction count label\n",
    "    label = f\"{df_top_10_cat.iloc[i]['score']:,} scores\"\n",
    "\n",
    "    # Add the label above the bar\n",
    "    ax.annotate(label, (x, y), xytext=(0, 20), textcoords='offset points', ha='center', fontsize=8, color='black')\n",
    "\n",
    "    \n",
    "# Set limits for X-axis and text\n",
    "ax.set(\n",
    "    ylabel='',\n",
    "    xlabel='',\n",
    ")\n",
    "\n",
    "ax.set_title('Top 10 Popular Categories by Scores and Reactions', pad=30)\n",
    "\n",
    "# Remove y-axis tick labels\n",
    "ax.set_yticklabels([])\n",
    "\n",
    "# Remove grid lines\n",
    "ax.grid(False)\n",
    "\n",
    "# Remove outer box\n",
    "ax.spines['top'].set_visible(False)\n",
    "ax.spines['right'].set_visible(False)\n",
    "ax.spines['bottom'].set_visible(False)\n",
    "ax.spines['left'].set_visible(False)\n",
    "\n",
    "plt.show()"
   ]
  },
  {
   "cell_type": "markdown",
   "id": "1a4134e5",
   "metadata": {},
   "source": [
    "**Q: What was the month with the most posts?**\n",
    "\n",
    "Answer: The month with the most posts was January 2021, recording an impressive total of 781 posts. July 2020 had 778 posts, and August 2020 had 773 posts, making them the other months with notable post activity."
   ]
  },
  {
   "cell_type": "code",
   "execution_count": 25,
   "id": "baecbf21",
   "metadata": {},
   "outputs": [
    {
     "data": {
      "text/html": [
       "<div>\n",
       "<style scoped>\n",
       "    .dataframe tbody tr th:only-of-type {\n",
       "        vertical-align: middle;\n",
       "    }\n",
       "\n",
       "    .dataframe tbody tr th {\n",
       "        vertical-align: top;\n",
       "    }\n",
       "\n",
       "    .dataframe thead th {\n",
       "        text-align: right;\n",
       "    }\n",
       "</style>\n",
       "<table border=\"1\" class=\"dataframe\">\n",
       "  <thead>\n",
       "    <tr style=\"text-align: right;\">\n",
       "      <th></th>\n",
       "      <th>datetime</th>\n",
       "      <th>post</th>\n",
       "    </tr>\n",
       "  </thead>\n",
       "  <tbody>\n",
       "    <tr>\n",
       "      <th>7</th>\n",
       "      <td>2021-01-01</td>\n",
       "      <td>781</td>\n",
       "    </tr>\n",
       "    <tr>\n",
       "      <th>1</th>\n",
       "      <td>2020-07-01</td>\n",
       "      <td>778</td>\n",
       "    </tr>\n",
       "    <tr>\n",
       "      <th>2</th>\n",
       "      <td>2020-08-01</td>\n",
       "      <td>773</td>\n",
       "    </tr>\n",
       "    <tr>\n",
       "      <th>4</th>\n",
       "      <td>2020-10-01</td>\n",
       "      <td>771</td>\n",
       "    </tr>\n",
       "    <tr>\n",
       "      <th>5</th>\n",
       "      <td>2020-11-01</td>\n",
       "      <td>768</td>\n",
       "    </tr>\n",
       "    <tr>\n",
       "      <th>11</th>\n",
       "      <td>2021-05-01</td>\n",
       "      <td>759</td>\n",
       "    </tr>\n",
       "    <tr>\n",
       "      <th>6</th>\n",
       "      <td>2020-12-01</td>\n",
       "      <td>756</td>\n",
       "    </tr>\n",
       "    <tr>\n",
       "      <th>8</th>\n",
       "      <td>2021-02-01</td>\n",
       "      <td>755</td>\n",
       "    </tr>\n",
       "    <tr>\n",
       "      <th>3</th>\n",
       "      <td>2020-09-01</td>\n",
       "      <td>754</td>\n",
       "    </tr>\n",
       "    <tr>\n",
       "      <th>9</th>\n",
       "      <td>2021-03-01</td>\n",
       "      <td>753</td>\n",
       "    </tr>\n",
       "    <tr>\n",
       "      <th>10</th>\n",
       "      <td>2021-04-01</td>\n",
       "      <td>736</td>\n",
       "    </tr>\n",
       "    <tr>\n",
       "      <th>12</th>\n",
       "      <td>2021-06-01</td>\n",
       "      <td>610</td>\n",
       "    </tr>\n",
       "    <tr>\n",
       "      <th>0</th>\n",
       "      <td>2020-06-01</td>\n",
       "      <td>536</td>\n",
       "    </tr>\n",
       "  </tbody>\n",
       "</table>\n",
       "</div>"
      ],
      "text/plain": [
       "     datetime  post\n",
       "7  2021-01-01   781\n",
       "1  2020-07-01   778\n",
       "2  2020-08-01   773\n",
       "4  2020-10-01   771\n",
       "5  2020-11-01   768\n",
       "11 2021-05-01   759\n",
       "6  2020-12-01   756\n",
       "8  2021-02-01   755\n",
       "3  2020-09-01   754\n",
       "9  2021-03-01   753\n",
       "10 2021-04-01   736\n",
       "12 2021-06-01   610\n",
       "0  2020-06-01   536"
      ]
     },
     "execution_count": 25,
     "metadata": {},
     "output_type": "execute_result"
    }
   ],
   "source": [
    "df_monthly = (\n",
    "    df_copy\n",
    "    .groupby(pd.Grouper(key='datetime', freq='MS'))\n",
    "    .agg({'content_id': 'nunique'})\n",
    "    .reset_index()\n",
    "    .rename(columns={'content_id': 'post'})\n",
    ")\n",
    "df_monthly.sort_values('post', ascending=False)"
   ]
  },
  {
   "cell_type": "code",
   "execution_count": 26,
   "id": "607fd096",
   "metadata": {},
   "outputs": [
    {
     "data": {
      "image/png": "[encoded data removed]",
      "text/plain": [
       "<Figure size 1400x400 with 1 Axes>"
      ]
     },
     "metadata": {},
     "output_type": "display_data"
    }
   ],
   "source": [
    "fig, ax = plt.subplots(figsize=(14, 4))\n",
    "\n",
    "# Plotting the trend\n",
    "df_monthly.plot(x='datetime', y='post', label='Total Post', ax=ax)\n",
    "\n",
    "# Set X-axis tick labels to the 1st day of each month\n",
    "ticks = pd.date_range(df_monthly['datetime'].min(), df_monthly['datetime'].max(), freq='MS')\n",
    "ax.set_xticks(ticks)\n",
    "ax.set_xticklabels(ticks.strftime('%m/%Y'))\n",
    "\n",
    "ax.set_title('Monthly Post Trend', pad=20)\n",
    "ax.set_ylabel('')\n",
    "ax.set_xlabel('Date')\n",
    "plt.tight_layout()\n",
    "plt.show()"
   ]
  },
  {
   "cell_type": "markdown",
   "id": "be19acbe",
   "metadata": {},
   "source": [
    "**Q: Day of the week with most reactions?**\n",
    "\n",
    "Answer: The day of the week with the highest number of posts is Tuesday, with a total of 3581 reactions. Following closely behind is Friday, with 3552 reactions. These findings suggest that Monday is the most active day in terms of user engagement, as evidenced by the significant number of reactions observed. It is worth noting that these two days stand out from the rest, indicating a peak in user activity during midweek and towards the end of the workweek."
   ]
  },
  {
   "cell_type": "code",
   "execution_count": 27,
   "id": "4c8f1190",
   "metadata": {},
   "outputs": [
    {
     "data": {
      "image/png": "[encoded data removed]",
      "text/plain": [
       "<Figure size 800x400 with 1 Axes>"
      ]
     },
     "metadata": {},
     "output_type": "display_data"
    }
   ],
   "source": [
    "df_day_of_week = df_copy.copy()\n",
    "\n",
    "# Extract day of the week\n",
    "df_day_of_week['day_of_week'] = df_day_of_week['datetime'].dt.day_name()\n",
    "\n",
    "# Calculate total sales sum and transaction count by day of the week\n",
    "df_summary_by_day = (\n",
    "    df_day_of_week\n",
    "    .groupby('day_of_week')\n",
    "    .agg({'content_id': 'count', 'score': 'sum'})\n",
    "    .reset_index()\n",
    "    .rename(columns={'content_id': 'post'})\n",
    ")\n",
    "day_order = ['Monday', 'Tuesday', 'Wednesday', 'Thursday', 'Friday', 'Saturday', 'Sunday']\n",
    "\n",
    "# Convert the 'day_of_week' column to the Categorical data type with the specified order\n",
    "df_summary_by_day['day_of_week'] = pd.Categorical(df_summary_by_day['day_of_week'], categories=day_order, ordered=True)\n",
    "df_summary_by_day = df_summary_by_day.sort_values('day_of_week')\n",
    "df_summary_by_day = df_summary_by_day.reset_index(drop=True)\n",
    "\n",
    "fig, ax = plt.subplots(figsize=(8, 4))\n",
    "\n",
    "sns.barplot(data=df_summary_by_day, x='day_of_week', y='post', ax=ax)\n",
    "\n",
    "# Remove grid lines\n",
    "ax.grid(False)\n",
    "\n",
    "# Remove y-axis tick labels\n",
    "ax.set_yticklabels([])\n",
    "\n",
    "# Remove outer box\n",
    "ax.spines['top'].set_visible(False)\n",
    "ax.spines['right'].set_visible(False)\n",
    "ax.spines['bottom'].set_visible(False)\n",
    "ax.spines['left'].set_visible(False)\n",
    "\n",
    "# Add value labels on top of each bar\n",
    "for p in ax.containers:\n",
    "    ax.bar_label(p, label_type='edge', fontsize=9, labels=[f\"{int(val)} post\" for val in p.datavalues])\n",
    "\n",
    "# Plot transaction count above each bar\n",
    "for i, p in enumerate(ax.patches):\n",
    "    # Calculate the x and y coordinates for the text\n",
    "    x = p.get_x() + p.get_width() / 2\n",
    "    y = p.get_height()\n",
    "\n",
    "    # Format the transaction count label\n",
    "    label = f\"{df_summary_by_day['score'][i]:,} scores\"\n",
    "\n",
    "    # Add the label above the bar\n",
    "    ax.annotate(label, (x, y), xytext=(0, 15), textcoords='offset points', ha='center', fontsize=9, color='black')\n",
    "\n",
    "plt.xlabel('Day of the Week')\n",
    "plt.ylabel('')\n",
    "plt.show()"
   ]
  },
  {
   "cell_type": "code",
   "execution_count": 28,
   "id": "e3fd646f",
   "metadata": {},
   "outputs": [
    {
     "data": {
      "text/html": [
       "<div>\n",
       "<style scoped>\n",
       "    .dataframe tbody tr th:only-of-type {\n",
       "        vertical-align: middle;\n",
       "    }\n",
       "\n",
       "    .dataframe tbody tr th {\n",
       "        vertical-align: top;\n",
       "    }\n",
       "\n",
       "    .dataframe thead th {\n",
       "        text-align: right;\n",
       "    }\n",
       "</style>\n",
       "<table border=\"1\" class=\"dataframe\">\n",
       "  <thead>\n",
       "    <tr style=\"text-align: right;\">\n",
       "      <th></th>\n",
       "      <th>day_of_week</th>\n",
       "      <th>post</th>\n",
       "      <th>score</th>\n",
       "    </tr>\n",
       "  </thead>\n",
       "  <tbody>\n",
       "    <tr>\n",
       "      <th>0</th>\n",
       "      <td>Monday</td>\n",
       "      <td>3581</td>\n",
       "      <td>139713</td>\n",
       "    </tr>\n",
       "    <tr>\n",
       "      <th>4</th>\n",
       "      <td>Friday</td>\n",
       "      <td>3552</td>\n",
       "      <td>142441</td>\n",
       "    </tr>\n",
       "    <tr>\n",
       "      <th>1</th>\n",
       "      <td>Tuesday</td>\n",
       "      <td>3534</td>\n",
       "      <td>138510</td>\n",
       "    </tr>\n",
       "    <tr>\n",
       "      <th>6</th>\n",
       "      <td>Sunday</td>\n",
       "      <td>3529</td>\n",
       "      <td>141664</td>\n",
       "    </tr>\n",
       "    <tr>\n",
       "      <th>3</th>\n",
       "      <td>Thursday</td>\n",
       "      <td>3516</td>\n",
       "      <td>142378</td>\n",
       "    </tr>\n",
       "    <tr>\n",
       "      <th>2</th>\n",
       "      <td>Wednesday</td>\n",
       "      <td>3465</td>\n",
       "      <td>135317</td>\n",
       "    </tr>\n",
       "    <tr>\n",
       "      <th>5</th>\n",
       "      <td>Saturday</td>\n",
       "      <td>3396</td>\n",
       "      <td>133622</td>\n",
       "    </tr>\n",
       "  </tbody>\n",
       "</table>\n",
       "</div>"
      ],
      "text/plain": [
       "  day_of_week  post   score\n",
       "0      Monday  3581  139713\n",
       "4      Friday  3552  142441\n",
       "1     Tuesday  3534  138510\n",
       "6      Sunday  3529  141664\n",
       "3    Thursday  3516  142378\n",
       "2   Wednesday  3465  135317\n",
       "5    Saturday  3396  133622"
      ]
     },
     "execution_count": 28,
     "metadata": {},
     "output_type": "execute_result"
    }
   ],
   "source": [
    "df_summary_by_day.sort_values('post', ascending=False)"
   ]
  },
  {
   "cell_type": "markdown",
   "id": "4a5d39ee",
   "metadata": {},
   "source": [
    "### Logistic Regression"
   ]
  },
  {
   "cell_type": "markdown",
   "id": "47ca00c2",
   "metadata": {},
   "source": [
    "**Sentiments**"
   ]
  },
  {
   "cell_type": "code",
   "execution_count": 29,
   "id": "2252d151",
   "metadata": {},
   "outputs": [
    {
     "data": {
      "text/html": [
       "<div>\n",
       "<style scoped>\n",
       "    .dataframe tbody tr th:only-of-type {\n",
       "        vertical-align: middle;\n",
       "    }\n",
       "\n",
       "    .dataframe tbody tr th {\n",
       "        vertical-align: top;\n",
       "    }\n",
       "\n",
       "    .dataframe thead th {\n",
       "        text-align: right;\n",
       "    }\n",
       "</style>\n",
       "<table border=\"1\" class=\"dataframe\">\n",
       "  <thead>\n",
       "    <tr style=\"text-align: right;\">\n",
       "      <th></th>\n",
       "      <th>content_id</th>\n",
       "      <th>category_type</th>\n",
       "      <th>category</th>\n",
       "      <th>reaction_type</th>\n",
       "      <th>datetime</th>\n",
       "      <th>sentiment</th>\n",
       "      <th>score</th>\n",
       "    </tr>\n",
       "  </thead>\n",
       "  <tbody>\n",
       "    <tr>\n",
       "      <th>0</th>\n",
       "      <td>97522e57-d9ab-4bd6-97bf-c24d952602d2</td>\n",
       "      <td>photo</td>\n",
       "      <td>studying</td>\n",
       "      <td>disgust</td>\n",
       "      <td>2020-11-07 09:43:50</td>\n",
       "      <td>negative</td>\n",
       "      <td>0</td>\n",
       "    </tr>\n",
       "    <tr>\n",
       "      <th>1</th>\n",
       "      <td>97522e57-d9ab-4bd6-97bf-c24d952602d2</td>\n",
       "      <td>photo</td>\n",
       "      <td>studying</td>\n",
       "      <td>disgust</td>\n",
       "      <td>2021-01-06 19:13:01</td>\n",
       "      <td>negative</td>\n",
       "      <td>0</td>\n",
       "    </tr>\n",
       "    <tr>\n",
       "      <th>2</th>\n",
       "      <td>97522e57-d9ab-4bd6-97bf-c24d952602d2</td>\n",
       "      <td>photo</td>\n",
       "      <td>studying</td>\n",
       "      <td>disgust</td>\n",
       "      <td>2021-04-09 02:46:20</td>\n",
       "      <td>negative</td>\n",
       "      <td>0</td>\n",
       "    </tr>\n",
       "    <tr>\n",
       "      <th>3</th>\n",
       "      <td>9f737e0a-3cdd-4d29-9d24-753f4e3be810</td>\n",
       "      <td>photo</td>\n",
       "      <td>healthy eating</td>\n",
       "      <td>disgust</td>\n",
       "      <td>2021-03-28 21:15:26</td>\n",
       "      <td>negative</td>\n",
       "      <td>0</td>\n",
       "    </tr>\n",
       "    <tr>\n",
       "      <th>4</th>\n",
       "      <td>230c4e4d-70c3-461d-b42c-ec09396efb3f</td>\n",
       "      <td>photo</td>\n",
       "      <td>healthy eating</td>\n",
       "      <td>disgust</td>\n",
       "      <td>2020-08-04 05:40:33</td>\n",
       "      <td>negative</td>\n",
       "      <td>0</td>\n",
       "    </tr>\n",
       "  </tbody>\n",
       "</table>\n",
       "</div>"
      ],
      "text/plain": [
       "                             content_id category_type        category  \\\n",
       "0  97522e57-d9ab-4bd6-97bf-c24d952602d2         photo        studying   \n",
       "1  97522e57-d9ab-4bd6-97bf-c24d952602d2         photo        studying   \n",
       "2  97522e57-d9ab-4bd6-97bf-c24d952602d2         photo        studying   \n",
       "3  9f737e0a-3cdd-4d29-9d24-753f4e3be810         photo  healthy eating   \n",
       "4  230c4e4d-70c3-461d-b42c-ec09396efb3f         photo  healthy eating   \n",
       "\n",
       "  reaction_type            datetime sentiment  score  \n",
       "0       disgust 2020-11-07 09:43:50  negative      0  \n",
       "1       disgust 2021-01-06 19:13:01  negative      0  \n",
       "2       disgust 2021-04-09 02:46:20  negative      0  \n",
       "3       disgust 2021-03-28 21:15:26  negative      0  \n",
       "4       disgust 2020-08-04 05:40:33  negative      0  "
      ]
     },
     "execution_count": 29,
     "metadata": {},
     "output_type": "execute_result"
    }
   ],
   "source": [
    "df_sentiment = df_copy.copy()\n",
    "df_sentiment.head()"
   ]
  },
  {
   "cell_type": "code",
   "execution_count": 30,
   "id": "48961144",
   "metadata": {},
   "outputs": [
    {
     "data": {
      "text/plain": [
       "positive    13807\n",
       "negative     7695\n",
       "neutral      3071\n",
       "Name: sentiment, dtype: int64"
      ]
     },
     "execution_count": 30,
     "metadata": {},
     "output_type": "execute_result"
    }
   ],
   "source": [
    "df_sentiment.sentiment.value_counts()"
   ]
  },
  {
   "cell_type": "code",
   "execution_count": 31,
   "id": "6bf11428",
   "metadata": {},
   "outputs": [
    {
     "data": {
      "text/plain": [
       "negative    7695\n",
       "positive    7695\n",
       "neutral     3071\n",
       "Name: sentiment, dtype: int64"
      ]
     },
     "execution_count": 31,
     "metadata": {},
     "output_type": "execute_result"
    }
   ],
   "source": [
    "# Down sampling positive\n",
    "df_positive = df_sentiment[df_sentiment['sentiment'] == 'positive']\n",
    "df_negative = df_sentiment[df_sentiment['sentiment'] == 'negative']\n",
    "df_neutral = df_sentiment[df_sentiment['sentiment'] == 'neutral']\n",
    "\n",
    "df_positive_subset = df_positive.sample(n=len(df_negative), random_state=16)\n",
    "df_sentiment = pd.concat([df_positive_subset, df_negative, df_neutral])\n",
    "df_sentiment.sentiment.value_counts()"
   ]
  },
  {
   "cell_type": "code",
   "execution_count": 32,
   "id": "e7eb84a7",
   "metadata": {},
   "outputs": [
    {
     "name": "stdout",
     "output_type": "stream",
     "text": [
      "<class 'pandas.core.frame.DataFrame'>\n",
      "Int64Index: 18461 entries, 5439 to 13852\n",
      "Data columns (total 7 columns):\n",
      " #   Column         Non-Null Count  Dtype         \n",
      "---  ------         --------------  -----         \n",
      " 0   content_id     18461 non-null  object        \n",
      " 1   category_type  18461 non-null  category      \n",
      " 2   category       18461 non-null  category      \n",
      " 3   reaction_type  18461 non-null  category      \n",
      " 4   datetime       18461 non-null  datetime64[ns]\n",
      " 5   sentiment      18461 non-null  category      \n",
      " 6   score          18461 non-null  int64         \n",
      "dtypes: category(4), datetime64[ns](1), int64(1), object(1)\n",
      "memory usage: 650.7+ KB\n"
     ]
    }
   ],
   "source": [
    "df_sentiment.info()"
   ]
  },
  {
   "cell_type": "code",
   "execution_count": 33,
   "id": "d48e16bc",
   "metadata": {},
   "outputs": [
    {
     "data": {
      "text/plain": [
       "['video', 'audio', 'gif', 'photo']\n",
       "Categories (4, object): ['audio', 'gif', 'photo', 'video']"
      ]
     },
     "execution_count": 33,
     "metadata": {},
     "output_type": "execute_result"
    }
   ],
   "source": [
    "df_sentiment.category_type.unique()"
   ]
  },
  {
   "cell_type": "code",
   "execution_count": 34,
   "id": "ded7ff05",
   "metadata": {},
   "outputs": [],
   "source": [
    "from sklearn.preprocessing import LabelEncoder\n",
    "\n",
    "# Create a LabelEncoder object\n",
    "label_encoder = LabelEncoder()\n",
    "\n",
    "# One-hot encode categorical features\n",
    "df_encoded_sentiment = pd.get_dummies(df_sentiment['sentiment'], prefix='sentiment')\n",
    "df_encoded_reaction = pd.get_dummies(df_sentiment['reaction_type'], prefix='reaction')\n",
    "df_encoded_category_type = pd.get_dummies(df_sentiment['category_type'], prefix='category_type')\n",
    "df_encoded_category = pd.get_dummies(df_sentiment['category'], prefix='category')\n",
    "\n",
    "# Concatenate the encoded columns with the original dataframe\n",
    "df_sentiment = pd.concat([df_sentiment, df_encoded_sentiment, df_encoded_reaction, df_encoded_category_type, df_encoded_category], axis=1)\n",
    "\n",
    "# Drop the original categorical columns (if necessary)\n",
    "df_sentiment.drop(columns=['datetime', 'sentiment', 'reaction_type', 'category_type', 'category'], inplace=True)"
   ]
  },
  {
   "cell_type": "code",
   "execution_count": 35,
   "id": "4c7b3746",
   "metadata": {},
   "outputs": [
    {
     "data": {
      "text/html": [
       "<div>\n",
       "<style scoped>\n",
       "    .dataframe tbody tr th:only-of-type {\n",
       "        vertical-align: middle;\n",
       "    }\n",
       "\n",
       "    .dataframe tbody tr th {\n",
       "        vertical-align: top;\n",
       "    }\n",
       "\n",
       "    .dataframe thead th {\n",
       "        text-align: right;\n",
       "    }\n",
       "</style>\n",
       "<table border=\"1\" class=\"dataframe\">\n",
       "  <thead>\n",
       "    <tr style=\"text-align: right;\">\n",
       "      <th></th>\n",
       "      <th>sentiment_positive</th>\n",
       "      <th>sentiment_negative</th>\n",
       "      <th>sentiment_neutral</th>\n",
       "    </tr>\n",
       "  </thead>\n",
       "  <tbody>\n",
       "    <tr>\n",
       "      <th>5439</th>\n",
       "      <td>1</td>\n",
       "      <td>0</td>\n",
       "      <td>0</td>\n",
       "    </tr>\n",
       "    <tr>\n",
       "      <th>11519</th>\n",
       "      <td>1</td>\n",
       "      <td>0</td>\n",
       "      <td>0</td>\n",
       "    </tr>\n",
       "    <tr>\n",
       "      <th>23659</th>\n",
       "      <td>1</td>\n",
       "      <td>0</td>\n",
       "      <td>0</td>\n",
       "    </tr>\n",
       "    <tr>\n",
       "      <th>21143</th>\n",
       "      <td>1</td>\n",
       "      <td>0</td>\n",
       "      <td>0</td>\n",
       "    </tr>\n",
       "    <tr>\n",
       "      <th>22004</th>\n",
       "      <td>1</td>\n",
       "      <td>0</td>\n",
       "      <td>0</td>\n",
       "    </tr>\n",
       "    <tr>\n",
       "      <th>...</th>\n",
       "      <td>...</td>\n",
       "      <td>...</td>\n",
       "      <td>...</td>\n",
       "    </tr>\n",
       "    <tr>\n",
       "      <th>13848</th>\n",
       "      <td>0</td>\n",
       "      <td>0</td>\n",
       "      <td>1</td>\n",
       "    </tr>\n",
       "    <tr>\n",
       "      <th>13849</th>\n",
       "      <td>0</td>\n",
       "      <td>0</td>\n",
       "      <td>1</td>\n",
       "    </tr>\n",
       "    <tr>\n",
       "      <th>13850</th>\n",
       "      <td>0</td>\n",
       "      <td>0</td>\n",
       "      <td>1</td>\n",
       "    </tr>\n",
       "    <tr>\n",
       "      <th>13851</th>\n",
       "      <td>0</td>\n",
       "      <td>0</td>\n",
       "      <td>1</td>\n",
       "    </tr>\n",
       "    <tr>\n",
       "      <th>13852</th>\n",
       "      <td>0</td>\n",
       "      <td>0</td>\n",
       "      <td>1</td>\n",
       "    </tr>\n",
       "  </tbody>\n",
       "</table>\n",
       "<p>18461 rows × 3 columns</p>\n",
       "</div>"
      ],
      "text/plain": [
       "       sentiment_positive  sentiment_negative  sentiment_neutral\n",
       "5439                    1                   0                  0\n",
       "11519                   1                   0                  0\n",
       "23659                   1                   0                  0\n",
       "21143                   1                   0                  0\n",
       "22004                   1                   0                  0\n",
       "...                   ...                 ...                ...\n",
       "13848                   0                   0                  1\n",
       "13849                   0                   0                  1\n",
       "13850                   0                   0                  1\n",
       "13851                   0                   0                  1\n",
       "13852                   0                   0                  1\n",
       "\n",
       "[18461 rows x 3 columns]"
      ]
     },
     "execution_count": 35,
     "metadata": {},
     "output_type": "execute_result"
    }
   ],
   "source": [
    "df_sentiment[['sentiment_positive', 'sentiment_negative', 'sentiment_neutral']]"
   ]
  },
  {
   "cell_type": "code",
   "execution_count": 36,
   "id": "46642897",
   "metadata": {},
   "outputs": [
    {
     "name": "stdout",
     "output_type": "stream",
     "text": [
      "Correlation Coefficient: 0.8792161383631013\n"
     ]
    }
   ],
   "source": [
    "correlation = df_sentiment['sentiment_positive'].corr(df_sentiment['score'])\n",
    "print('Correlation Coefficient:', correlation)"
   ]
  },
  {
   "cell_type": "code",
   "execution_count": 37,
   "id": "eb264a29",
   "metadata": {},
   "outputs": [
    {
     "data": {
      "text/plain": [
       "count    18461.000000\n",
       "mean        32.940090\n",
       "std         25.623101\n",
       "min          0.000000\n",
       "25%         10.000000\n",
       "50%         30.000000\n",
       "75%         60.000000\n",
       "max         75.000000\n",
       "Name: score, dtype: float64"
      ]
     },
     "execution_count": 37,
     "metadata": {},
     "output_type": "execute_result"
    }
   ],
   "source": [
    "df_sentiment.score.describe()"
   ]
  },
  {
   "cell_type": "code",
   "execution_count": 38,
   "id": "14b937f5",
   "metadata": {},
   "outputs": [
    {
     "data": {
      "text/plain": [
       "Index(['content_id', 'score', 'sentiment_negative', 'sentiment_neutral',\n",
       "       'sentiment_positive', 'reaction_adore', 'reaction_cherish',\n",
       "       'reaction_disgust', 'reaction_dislike', 'reaction_hate',\n",
       "       'reaction_heart', 'reaction_indifferent', 'reaction_interested',\n",
       "       'reaction_intrigued', 'reaction_like', 'reaction_love',\n",
       "       'reaction_peeking', 'reaction_scared', 'reaction_super love',\n",
       "       'reaction_want', 'reaction_worried', 'category_type_audio',\n",
       "       'category_type_gif', 'category_type_photo', 'category_type_video',\n",
       "       'category_animals', 'category_cooking', 'category_culture',\n",
       "       'category_dogs', 'category_education', 'category_fitness',\n",
       "       'category_food', 'category_healthy eating', 'category_public speaking',\n",
       "       'category_science', 'category_soccer', 'category_studying',\n",
       "       'category_technology', 'category_tennis', 'category_travel',\n",
       "       'category_veganism'],\n",
       "      dtype='object')"
      ]
     },
     "execution_count": 38,
     "metadata": {},
     "output_type": "execute_result"
    }
   ],
   "source": [
    "df_sentiment.columns"
   ]
  },
  {
   "cell_type": "code",
   "execution_count": 39,
   "id": "9e0bbbd4",
   "metadata": {},
   "outputs": [
    {
     "data": {
      "text/plain": [
       "['score',\n",
       " 'reaction_adore',\n",
       " 'reaction_cherish',\n",
       " 'reaction_disgust',\n",
       " 'reaction_dislike',\n",
       " 'reaction_hate',\n",
       " 'reaction_heart',\n",
       " 'reaction_indifferent',\n",
       " 'reaction_interested',\n",
       " 'reaction_intrigued',\n",
       " 'reaction_like',\n",
       " 'reaction_love',\n",
       " 'reaction_peeking',\n",
       " 'reaction_scared',\n",
       " 'reaction_super love',\n",
       " 'reaction_want',\n",
       " 'reaction_worried',\n",
       " 'category_type_audio',\n",
       " 'category_type_gif',\n",
       " 'category_type_photo',\n",
       " 'category_type_video',\n",
       " 'category_animals',\n",
       " 'category_cooking',\n",
       " 'category_culture',\n",
       " 'category_dogs',\n",
       " 'category_education',\n",
       " 'category_fitness',\n",
       " 'category_food',\n",
       " 'category_healthy eating',\n",
       " 'category_public speaking',\n",
       " 'category_science',\n",
       " 'category_soccer',\n",
       " 'category_studying',\n",
       " 'category_technology',\n",
       " 'category_tennis',\n",
       " 'category_travel',\n",
       " 'category_veganism']"
      ]
     },
     "execution_count": 39,
     "metadata": {},
     "output_type": "execute_result"
    }
   ],
   "source": [
    "features_columns = [col for col in df_sentiment.columns if col not in  [\"sentiment_positive\", \"content_id\", \"sentiment_negative\", \"sentiment_neutral\"]]\n",
    "features_columns"
   ]
  },
  {
   "cell_type": "code",
   "execution_count": 40,
   "id": "7546c40a",
   "metadata": {},
   "outputs": [],
   "source": [
    "from sklearn.model_selection import train_test_split\n",
    "from sklearn.linear_model import LogisticRegression\n",
    "\n",
    "X = df_sentiment[features_columns]\n",
    "y = df_sentiment[\"sentiment_positive\"]\n",
    "\n",
    "# Split dataset into training and holdout datasets\n",
    "X_train, X_test, y_train, y_test = train_test_split(X, y, test_size=0.3, random_state=16)\n",
    "\n",
    "clf = LogisticRegression(max_iter=10000).fit(X_train, y_train)"
   ]
  },
  {
   "cell_type": "code",
   "execution_count": 41,
   "id": "f0b4cad8",
   "metadata": {},
   "outputs": [
    {
     "data": {
      "image/png": "[encoded data removed]",
      "text/plain": [
       "<Figure size 640x480 with 1 Axes>"
      ]
     },
     "metadata": {},
     "output_type": "display_data"
    }
   ],
   "source": [
    "from sklearn.model_selection import learning_curve\n",
    "\n",
    "train_sizes = np.linspace(0.01, 1.0, 10)\n",
    "train_sizes_abs, train_scores, test_scores = learning_curve(clf, X, y, train_sizes=train_sizes, cv=5, scoring='f1')\n",
    "\n",
    "# mean and standard deviation of the train and test scores\n",
    "train_scores_mean = np.mean(train_scores, axis=1)\n",
    "train_scores_std = np.std(train_scores, axis=1)\n",
    "test_scores_mean = np.mean(test_scores, axis=1)\n",
    "test_scores_std = np.std(test_scores, axis=1)\n",
    "\n",
    "# Plot\n",
    "plt.figure()\n",
    "plt.plot(train_sizes_abs, train_scores_mean, 'o-', color=\"red\", label=\"Train\")\n",
    "plt.plot(train_sizes_abs, test_scores_mean, 'o-', color=\"green\", label=\"Validation\")\n",
    "plt.xlabel(\"Training examples\")\n",
    "plt.ylabel(\"F1 Score\")\n",
    "plt.legend(loc=\"best\")\n",
    "plt.grid()\n",
    "plt.show()"
   ]
  },
  {
   "cell_type": "code",
   "execution_count": 42,
   "id": "c71423be",
   "metadata": {},
   "outputs": [
    {
     "name": "stdout",
     "output_type": "stream",
     "text": [
      "For every one unit increase in the predictor variable 'score', we expect the odds of 'sentiment_positive' to increase by approximately 60.03%.\n",
      "For every one unit increase in the predictor variable 'reaction_adore', we expect the odds of 'sentiment_positive' to decrease by approximately -0.01%.\n",
      "For every one unit increase in the predictor variable 'reaction_cherish', we expect the odds of 'sentiment_positive' to decrease by approximately -0.01%.\n",
      "For every one unit increase in the predictor variable 'reaction_disgust', we expect the odds of 'sentiment_positive' to decrease by approximately -0.02%.\n",
      "For every one unit increase in the predictor variable 'reaction_dislike', we expect the odds of 'sentiment_positive' to decrease by approximately -2.01%.\n",
      "For every one unit increase in the predictor variable 'reaction_hate', we expect the odds of 'sentiment_positive' to decrease by approximately -0.19%.\n",
      "For every one unit increase in the predictor variable 'reaction_heart', we expect the odds of 'sentiment_positive' to increase by approximately 0.20%.\n",
      "For every one unit increase in the predictor variable 'reaction_indifferent', we expect the odds of 'sentiment_positive' to decrease by approximately -59.27%.\n",
      "For every one unit increase in the predictor variable 'reaction_interested', we expect the odds of 'sentiment_positive' to increase by approximately 42789.31%.\n",
      "For every one unit increase in the predictor variable 'reaction_intrigued', we expect the odds of 'sentiment_positive' to increase by approximately 150.67%.\n",
      "For every one unit increase in the predictor variable 'reaction_like', we expect the odds of 'sentiment_positive' to increase by approximately 20.64%.\n",
      "For every one unit increase in the predictor variable 'reaction_love', we expect the odds of 'sentiment_positive' to increase by approximately 0.01%.\n",
      "For every one unit increase in the predictor variable 'reaction_peeking', we expect the odds of 'sentiment_positive' to decrease by approximately -99.76%.\n",
      "For every one unit increase in the predictor variable 'reaction_scared', we expect the odds of 'sentiment_positive' to decrease by approximately -16.58%.\n",
      "For every one unit increase in the predictor variable 'reaction_super love', we expect the odds of 'sentiment_positive' to decrease by approximately -0.01%.\n",
      "For every one unit increase in the predictor variable 'reaction_want', we expect the odds of 'sentiment_positive' to decrease by approximately -0.01%.\n",
      "For every one unit increase in the predictor variable 'reaction_worried', we expect the odds of 'sentiment_positive' to decrease by approximately -4.61%.\n",
      "For every one unit increase in the predictor variable 'category_type_audio', we expect the odds of 'sentiment_positive' to increase by approximately 2.02%.\n",
      "For every one unit increase in the predictor variable 'category_type_gif', we expect the odds of 'sentiment_positive' to increase by approximately 4.24%.\n",
      "For every one unit increase in the predictor variable 'category_type_photo', we expect the odds of 'sentiment_positive' to decrease by approximately -6.19%.\n",
      "For every one unit increase in the predictor variable 'category_type_video', we expect the odds of 'sentiment_positive' to increase by approximately 0.18%.\n",
      "For every one unit increase in the predictor variable 'category_animals', we expect the odds of 'sentiment_positive' to increase by approximately 1.16%.\n",
      "For every one unit increase in the predictor variable 'category_cooking', we expect the odds of 'sentiment_positive' to increase by approximately 1.16%.\n",
      "For every one unit increase in the predictor variable 'category_culture', we expect the odds of 'sentiment_positive' to decrease by approximately -1.86%.\n",
      "For every one unit increase in the predictor variable 'category_dogs', we expect the odds of 'sentiment_positive' to decrease by approximately -1.07%.\n",
      "For every one unit increase in the predictor variable 'category_education', we expect the odds of 'sentiment_positive' to decrease by approximately -4.23%.\n",
      "For every one unit increase in the predictor variable 'category_fitness', we expect the odds of 'sentiment_positive' to decrease by approximately -0.66%.\n",
      "For every one unit increase in the predictor variable 'category_food', we expect the odds of 'sentiment_positive' to increase by approximately 1.24%.\n",
      "For every one unit increase in the predictor variable 'category_healthy eating', we expect the odds of 'sentiment_positive' to increase by approximately 3.17%.\n",
      "For every one unit increase in the predictor variable 'category_public speaking', we expect the odds of 'sentiment_positive' to decrease by approximately -0.30%.\n",
      "For every one unit increase in the predictor variable 'category_science', we expect the odds of 'sentiment_positive' to increase by approximately 2.17%.\n",
      "For every one unit increase in the predictor variable 'category_soccer', we expect the odds of 'sentiment_positive' to increase by approximately 3.48%.\n",
      "For every one unit increase in the predictor variable 'category_studying', we expect the odds of 'sentiment_positive' to decrease by approximately -2.44%.\n",
      "For every one unit increase in the predictor variable 'category_technology', we expect the odds of 'sentiment_positive' to increase by approximately 4.67%.\n",
      "For every one unit increase in the predictor variable 'category_tennis', we expect the odds of 'sentiment_positive' to increase by approximately 3.71%.\n",
      "For every one unit increase in the predictor variable 'category_travel', we expect the odds of 'sentiment_positive' to increase by approximately 0.33%.\n",
      "For every one unit increase in the predictor variable 'category_veganism', we expect the odds of 'sentiment_positive' to decrease by approximately -9.62%.\n"
     ]
    }
   ],
   "source": [
    "feature_names = X.columns.tolist()\n",
    "coefficients = dict(zip(feature_names, clf.coef_[0]))\n",
    "for feature, coef in coefficients.items():\n",
    "    odds_ratio = np.exp(coef) - 1\n",
    "    print(f\"For every one unit increase in the predictor variable '{feature}', we expect the odds of 'sentiment_positive' to {'increase' if coef > 0 else 'decrease'} by approximately {odds_ratio * 100:.2f}%.\")"
   ]
  },
  {
   "cell_type": "code",
   "execution_count": 43,
   "id": "93b77560",
   "metadata": {},
   "outputs": [
    {
     "data": {
      "text/plain": [
       "array([-15.59521774])"
      ]
     },
     "execution_count": 43,
     "metadata": {},
     "output_type": "execute_result"
    }
   ],
   "source": [
    "clf.intercept_"
   ]
  },
  {
   "cell_type": "code",
   "execution_count": 44,
   "id": "b546c84e",
   "metadata": {},
   "outputs": [
    {
     "data": {
      "image/png": "[encoded data removed]",
      "text/plain": [
       "<Figure size 640x480 with 1 Axes>"
      ]
     },
     "metadata": {},
     "output_type": "display_data"
    }
   ],
   "source": [
    "sample_to_plot = df_sentiment.sample(n=1000, random_state=16)\n",
    "sns.regplot(x='score', y='sentiment_positive', data=sample_to_plot, logistic=True);"
   ]
  },
  {
   "cell_type": "code",
   "execution_count": 45,
   "id": "5ec2fd04",
   "metadata": {},
   "outputs": [
    {
     "data": {
      "text/plain": [
       "array([1, 1, 0, ..., 1, 1, 0], dtype=uint8)"
      ]
     },
     "execution_count": 45,
     "metadata": {},
     "output_type": "execute_result"
    }
   ],
   "source": [
    "# Print out the predicted labels\n",
    "clf.predict(X_test)"
   ]
  },
  {
   "cell_type": "code",
   "execution_count": 46,
   "id": "bfa44bdd",
   "metadata": {},
   "outputs": [
    {
     "data": {
      "text/plain": [
       "array([9.99999987e-01, 9.89218904e-01, 1.76926541e-06, ...,\n",
       "       9.99999971e-01, 9.99999964e-01, 7.68123075e-04])"
      ]
     },
     "execution_count": 46,
     "metadata": {},
     "output_type": "execute_result"
    }
   ],
   "source": [
    "clf.predict_proba(X_test)[::,-1]"
   ]
  },
  {
   "cell_type": "code",
   "execution_count": 47,
   "id": "5ad9847a",
   "metadata": {},
   "outputs": [
    {
     "data": {
      "image/png": "[encoded data removed]",
      "text/plain": [
       "<Figure size 640x480 with 2 Axes>"
      ]
     },
     "metadata": {},
     "output_type": "display_data"
    }
   ],
   "source": [
    "import sklearn.metrics as metrics\n",
    "\n",
    "y_pred = clf.predict(X_test)\n",
    "\n",
    "cm = metrics.confusion_matrix(y_test, y_pred, labels=clf.classes_)\n",
    "disp = metrics.ConfusionMatrixDisplay(confusion_matrix=cm, display_labels=clf.classes_)\n",
    "disp.plot();"
   ]
  },
  {
   "cell_type": "markdown",
   "id": "7986cc69",
   "metadata": {},
   "source": [
    "- True negatives: The number of sentiment that are not \"positive\" that the model accurately predicted is 3245.\n",
    "- False negatives: The number of sentiment that are \"positive\" that the model inaccurately predicted is 0.\n",
    "- False positives: The number of sentiment that are not \"positive\" that the model inaccurately predicted is 0.\n",
    "- True positives: The number of sentiment that are \"positive\" that the model accurately predicted is 2294."
   ]
  },
  {
   "cell_type": "code",
   "execution_count": 48,
   "id": "63a9621b",
   "metadata": {},
   "outputs": [],
   "source": [
    "from sklearn.model_selection import cross_val_score, cross_val_predict"
   ]
  },
  {
   "cell_type": "markdown",
   "id": "c9cc78a1",
   "metadata": {},
   "source": [
    "**Precision**\n",
    "\n",
    "Precision measures the proportion of positive predictions that were true positives. Precision is equal to the number of true positives divided by the sum of true positives and false positives."
   ]
  },
  {
   "cell_type": "code",
   "execution_count": 49,
   "id": "5c18faf5",
   "metadata": {},
   "outputs": [
    {
     "data": {
      "text/plain": [
       "1.0"
      ]
     },
     "execution_count": 49,
     "metadata": {},
     "output_type": "execute_result"
    }
   ],
   "source": [
    "metrics.precision_score(y_test, y_pred)"
   ]
  },
  {
   "cell_type": "code",
   "execution_count": 50,
   "id": "e472447a",
   "metadata": {},
   "outputs": [
    {
     "name": "stdout",
     "output_type": "stream",
     "text": [
      "Cross-validation precision: [1. 1. 1. 1. 1.]\n",
      "Mean precision: 1.0\n",
      "Standard deviation of precision: 0.0\n"
     ]
    }
   ],
   "source": [
    "cv_precision = cross_val_score(clf, X_train, y_train, cv=5, scoring='precision')\n",
    "print(\"Cross-validation precision:\", cv_precision)\n",
    "print(\"Mean precision:\", cv_precision.mean())\n",
    "print(\"Standard deviation of precision:\", cv_precision.std())"
   ]
  },
  {
   "cell_type": "markdown",
   "id": "f1c7f25f",
   "metadata": {},
   "source": [
    "**Recall**\n",
    "\n",
    "Recall measures the proportion of positives that the model was able to identify correctly. Recall is equal to the number of true positives divided by the sum of true positives and false negatives."
   ]
  },
  {
   "cell_type": "code",
   "execution_count": 51,
   "id": "c85f861b",
   "metadata": {},
   "outputs": [
    {
     "data": {
      "text/plain": [
       "1.0"
      ]
     },
     "execution_count": 51,
     "metadata": {},
     "output_type": "execute_result"
    }
   ],
   "source": [
    "metrics.recall_score(y_test, y_pred)"
   ]
  },
  {
   "cell_type": "code",
   "execution_count": 52,
   "id": "2f240912",
   "metadata": {},
   "outputs": [
    {
     "name": "stdout",
     "output_type": "stream",
     "text": [
      "Cross-validation recall: [1. 1. 1. 1. 1.]\n",
      "Mean recall: 1.0\n",
      "Standard deviation of recall: 0.0\n"
     ]
    }
   ],
   "source": [
    "cv_recall = cross_val_score(clf, X_train, y_train, cv=5, scoring='recall')\n",
    "print(\"Cross-validation recall:\", cv_recall)\n",
    "print(\"Mean recall:\", cv_recall.mean())\n",
    "print(\"Standard deviation of recall:\", cv_recall.std())"
   ]
  },
  {
   "cell_type": "markdown",
   "id": "7e728f4f",
   "metadata": {},
   "source": [
    "**Accuracy**\n",
    "\n",
    "Accuracy is the proportion of data points that were correctly categorized. Accuracy is equal to the sum of true positives and true negatives divided by the total number of predictions"
   ]
  },
  {
   "cell_type": "code",
   "execution_count": 53,
   "id": "0334234e",
   "metadata": {},
   "outputs": [
    {
     "data": {
      "text/plain": [
       "1.0"
      ]
     },
     "execution_count": 53,
     "metadata": {},
     "output_type": "execute_result"
    }
   ],
   "source": [
    "metrics.accuracy_score(y_test, y_pred)"
   ]
  },
  {
   "cell_type": "code",
   "execution_count": 54,
   "id": "00bd7b01",
   "metadata": {},
   "outputs": [
    {
     "name": "stdout",
     "output_type": "stream",
     "text": [
      "Cross-validation accuracy: [1. 1. 1. 1. 1.]\n",
      "Mean accuracy: 1.0\n",
      "Standard deviation of accuracy: 0.0\n"
     ]
    }
   ],
   "source": [
    "cv_accuracy = cross_val_score(clf, X_train, y_train, cv=5, scoring='accuracy')\n",
    "print(\"Cross-validation accuracy:\", cv_accuracy)\n",
    "print(\"Mean accuracy:\", cv_accuracy.mean())\n",
    "print(\"Standard deviation of accuracy:\", cv_accuracy.std())"
   ]
  },
  {
   "cell_type": "markdown",
   "id": "1c7e78a1",
   "metadata": {},
   "source": [
    "**F1**\n",
    "\n",
    "F1-score, also known as the F1 measure, is a popular metric used to evaluate the performance of a classification model. It combines precision and recall into a single score, providing a balanced evaluation of the model's ability to correctly classify positive samples while avoiding false positives and false negatives.\n",
    "\n",
    "The F1-score is particularly useful when dealing with imbalanced datasets, where one class is significantly more prevalent than the other. In such cases, accuracy may not be an adequate metric since the model could achieve high accuracy by simply predicting the majority class all the time.\n",
    "\n",
    "The F1-score is calculated using the following formula:\n",
    "\n",
    "F1-score = 2 * (precision * recall) / (precision + recall)\n",
    "\n",
    "- Precision: It is the ratio of true positive predictions to the total number of positive predictions. Precision answers the question, \"Of all the samples the model classified as positive, how many were actually positive?\" A high precision means the model is making fewer false positive predictions.\n",
    "\n",
    "- Recall: It is the ratio of true positive predictions to the total number of actual positive samples. Recall answers the question, \"Of all the positive samples in the dataset, how many did the model correctly predict as positive?\" A high recall means the model is capturing a significant portion of the positive samples.\n",
    "\n",
    "The F1-score is the harmonic mean of precision and recall, providing a balance between the two metrics. It ranges from 0 to 1, where a perfect F1-score is 1.0, indicating a model that has both high precision and high recall.\n",
    "\n",
    "A high F1-score indicates a model that performs well in terms of correctly classifying positive samples while minimizing false positives and false negatives. In situations where both precision and recall are important, the F1-score is a valuable metric for model evaluation."
   ]
  },
  {
   "cell_type": "code",
   "execution_count": 55,
   "id": "b7a1f795",
   "metadata": {},
   "outputs": [
    {
     "data": {
      "text/plain": [
       "1.0"
      ]
     },
     "execution_count": 55,
     "metadata": {},
     "output_type": "execute_result"
    }
   ],
   "source": [
    "metrics.f1_score(y_test, y_pred)"
   ]
  },
  {
   "cell_type": "code",
   "execution_count": 56,
   "id": "ea653e3d",
   "metadata": {},
   "outputs": [
    {
     "name": "stdout",
     "output_type": "stream",
     "text": [
      "Cross-validation F1-score: [1. 1. 1. 1. 1.]\n",
      "Mean F1-score: 1.0\n",
      "Standard deviation of F1-score: 0.0\n"
     ]
    }
   ],
   "source": [
    "cv_f1 = cross_val_score(clf, X_train, y_train, cv=5, scoring='f1')\n",
    "print(\"Cross-validation F1-score:\", cv_f1)\n",
    "print(\"Mean F1-score:\", cv_f1.mean())\n",
    "print(\"Standard deviation of F1-score:\", cv_f1.std())"
   ]
  },
  {
   "cell_type": "markdown",
   "id": "bf3fc3fe",
   "metadata": {},
   "source": [
    "**ROC and AUC**"
   ]
  },
  {
   "cell_type": "code",
   "execution_count": 57,
   "id": "1e3fe425",
   "metadata": {},
   "outputs": [
    {
     "data": {
      "image/png": "[encoded data removed]",
      "text/plain": [
       "<Figure size 800x600 with 1 Axes>"
      ]
     },
     "metadata": {},
     "output_type": "display_data"
    }
   ],
   "source": [
    "# Predict probabilities on the test set\n",
    "y_pred_proba = clf.predict_proba(X_test)[:, 1]\n",
    "\n",
    "# Calculate the ROC curve\n",
    "fpr, tpr, _ = metrics.roc_curve(y_test, y_pred_proba)\n",
    "\n",
    "# Calculate the AUC (Area Under the Curve)\n",
    "roc_auc = metrics.auc(fpr, tpr)\n",
    "\n",
    "plt.figure(figsize=(8, 6))\n",
    "plt.plot(fpr, tpr, color='darkorange', lw=2, label=f'ROC curve (AUC = {roc_auc:.2f})')\n",
    "plt.plot([0, 1], [0, 1], color='navy', lw=2, linestyle='--')\n",
    "plt.xlabel('False Positive Rate')\n",
    "plt.ylabel('True Positive Rate')\n",
    "plt.title('Receiver Operating Characteristic (ROC) Curve')\n",
    "plt.legend(loc='lower right')\n",
    "plt.show()"
   ]
  },
  {
   "cell_type": "markdown",
   "id": "99055290",
   "metadata": {},
   "source": [
    "Testing the model in a dummy dataset."
   ]
  },
  {
   "cell_type": "code",
   "execution_count": 58,
   "id": "6c37c544",
   "metadata": {},
   "outputs": [],
   "source": [
    "# random seed for reproducibility\n",
    "np.random.seed(16)\n",
    "num_rows = 100_000\n",
    "\n",
    "content_ids_unique = set(df.content_id.to_list())\n",
    "reaction_types_unique = set(df.reaction_type.unique().to_list())\n",
    "categories_unique = set(df.category.to_list())\n",
    "\n",
    "content_ids = np.random.choice(list(content_ids_unique), size=num_rows)\n",
    "reaction_types = np.random.choice(list(reaction_types_unique), size=num_rows)\n",
    "datetimes = pd.date_range(start='2023-01-01', end='2025-04-10', periods=num_rows)\n",
    "category_type = np.random.choice(['photo', 'video', 'gif', 'audio'], size=num_rows)\n",
    "categories = np.random.choice(list(categories_unique), size=num_rows)\n",
    "sentiments = np.random.choice(['negative', 'positive', 'neutral'], size=num_rows)\n",
    "scores = np.random.randint(0, 75, size=num_rows)\n",
    "\n",
    "data = {\n",
    "    'content_id': content_ids,\n",
    "    'reaction_type': reaction_types,\n",
    "    'datetime': datetimes,\n",
    "    'category_type': category_type,\n",
    "    'category': categories,\n",
    "    'sentiment': sentiments,\n",
    "    'score': scores\n",
    "}\n",
    "\n",
    "df_new = pd.DataFrame(data)\n",
    "\n",
    "df_encoded_sentiment_new = pd.get_dummies(df_new['sentiment'], prefix='sentiment')\n",
    "df_encoded_reaction_new = pd.get_dummies(df_new['reaction_type'], prefix='reaction')\n",
    "df_encoded_category_type_new = pd.get_dummies(df_new['category_type'], prefix='category_type')\n",
    "df_encoded_category_new = pd.get_dummies(df_new['category'], prefix='category')\n",
    "\n",
    "df_new = pd.concat([df_new, df_encoded_sentiment_new, df_encoded_reaction_new, df_encoded_category_type_new, df_encoded_category_new], axis=1)\n",
    "df_new.drop(columns=['datetime', 'sentiment', 'reaction_type', 'category_type', 'category', 'content_id'], inplace=True)"
   ]
  },
  {
   "cell_type": "code",
   "execution_count": 59,
   "id": "aa1627ce",
   "metadata": {},
   "outputs": [
    {
     "data": {
      "text/plain": [
       "(100000, 40, 37)"
      ]
     },
     "execution_count": 59,
     "metadata": {},
     "output_type": "execute_result"
    }
   ],
   "source": [
    "df_new.shape[0], len(df_new.columns), len(features_columns)"
   ]
  },
  {
   "cell_type": "code",
   "execution_count": 60,
   "id": "e60482eb",
   "metadata": {},
   "outputs": [
    {
     "data": {
      "text/plain": [
       "['sentiment_negative', 'sentiment_neutral', 'sentiment_positive']"
      ]
     },
     "execution_count": 60,
     "metadata": {},
     "output_type": "execute_result"
    }
   ],
   "source": [
    "not_in_features = [col for col in df_new.columns if col not in features_columns]\n",
    "not_in_features"
   ]
  },
  {
   "cell_type": "code",
   "execution_count": 61,
   "id": "211e4d67",
   "metadata": {},
   "outputs": [
    {
     "name": "stdout",
     "output_type": "stream",
     "text": [
      "Accuracy on the new dummy dataset: 0.48332\n",
      "Recall on the new dummy dataset: 0.5518490792034736\n",
      "Precision on the new dummy dataset: 0.33427654132883494\n",
      "F1-score on the new dummy dataset: 0.41635225809366744\n"
     ]
    }
   ],
   "source": [
    "X_new = df_new[features_columns]\n",
    "y_new = df_new[\"sentiment_positive\"]\n",
    "\n",
    "y_pred_new = clf.predict(X_new)\n",
    "\n",
    "accuracy_new = metrics.accuracy_score(y_new, y_pred_new)\n",
    "recall_new = metrics.recall_score(y_new, y_pred_new)\n",
    "precision_new = metrics.precision_score(y_new, y_pred_new)\n",
    "f1_new = metrics.f1_score(y_new, y_pred_new)\n",
    "\n",
    "print(\"Accuracy on the new dummy dataset:\", accuracy_new)\n",
    "print(\"Recall on the new dummy dataset:\", recall_new)\n",
    "print(\"Precision on the new dummy dataset:\", precision_new)\n",
    "print(\"F1-score on the new dummy dataset:\", f1_new)"
   ]
  }
 ],
 "metadata": {
  "kernelspec": {
   "display_name": "Python 3 (ipykernel)",
   "language": "python",
   "name": "python3"
  },
  "language_info": {
   "codemirror_mode": {
    "name": "ipython",
    "version": 3
   },
   "file_extension": ".py",
   "mimetype": "text/x-python",
   "name": "python",
   "nbconvert_exporter": "python",
   "pygments_lexer": "ipython3",
   "version": "3.10.7"
  },
  "toc": {
   "base_numbering": 1,
   "nav_menu": {},
   "number_sections": true,
   "sideBar": true,
   "skip_h1_title": false,
   "title_cell": "Table of Contents",
   "title_sidebar": "Contents",
   "toc_cell": false,
   "toc_position": {},
   "toc_section_display": true,
   "toc_window_display": false
  }
 },
 "nbformat": 4,
 "nbformat_minor": 5
}
