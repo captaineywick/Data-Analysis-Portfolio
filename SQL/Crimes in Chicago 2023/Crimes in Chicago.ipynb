{
 "cells": [
  {
   "cell_type": "markdown",
   "id": "d2dad1b2",
   "metadata": {},
   "source": [
    "# Crimes in Chicago 01/01/2023 - 05/11/2023\n",
    "\n",
    "## Questions\n",
    "- Find the total number of crimes recorded in the CRIME table.\n",
    "- List community areas with per capita income less than 11000.\n",
    "- List all case numbers for crimes involving minors?(children are not considered minors for the purposes of crime analysis)\n",
    "- List all kidnapping crimes involving a child?\n",
    "- What kind of crimes were recorded at schools?\n",
    "- List the average safety score for all types of schools.\n",
    "- List 5 community areas with highest % of households below poverty line.\n",
    "- Which community area(number) is most crime prone?\n",
    "- Use a sub-query to find the name of the community area with highest hardship index.\n",
    "- Use a sub-query to determine the Community Area Name with most number of crimes?\n",
    "\n",
    "## Data\n",
    "### Crimes Data\n",
    "- id: ID of the person.\n",
    "- iucr: four-digit codes that law enforcement agencies use to classify criminal incidents when taking individual reports.\n",
    "- primary_type: the type of crime committed by a person.\n",
    "- community_area: the ID of the area where the person resides.\n",
    "- case_number: the case number assigned to the person's case. the Chicago Police Department RD Number (Record Division Number), which is unique to the incident.\n",
    "- description: a detailed description of the crime.\n",
    "- location_description: a description of the location where the crime occurred.\n",
    "\n",
    "### Socio-Economic Data\n",
    "- community_area_number: ID of the area.\n",
    "- community_area_name: name of the community.\n",
    "- per_capita_income: income per capita.\n",
    "- percent_households_below_poverty: percentage of households below the poverty line.\n",
    "- hardship_index: index of hardship.\n",
    "\n",
    "### Source:\n",
    "https://data.cityofchicago.org/browse?category=Public%20Safety"
   ]
  },
  {
   "cell_type": "code",
   "execution_count": 1,
   "id": "a70ca6fc",
   "metadata": {},
   "outputs": [],
   "source": [
    "import pandas as pd\n",
    "import sqlite3"
   ]
  },
  {
   "cell_type": "markdown",
   "id": "8c256118",
   "metadata": {},
   "source": [
    "# Transfering DF to SQLite"
   ]
  },
  {
   "cell_type": "markdown",
   "id": "fcef4ce8",
   "metadata": {},
   "source": [
    "## Loading the SQL and creating the database."
   ]
  },
  {
   "cell_type": "code",
   "execution_count": 2,
   "id": "19bdad55",
   "metadata": {},
   "outputs": [],
   "source": [
    "%load_ext sql"
   ]
  },
  {
   "cell_type": "code",
   "execution_count": 3,
   "id": "bb26cdf3",
   "metadata": {},
   "outputs": [],
   "source": [
    "%sql sqlite:///chicago_crimes.db"
   ]
  },
  {
   "cell_type": "markdown",
   "id": "3cd32a65",
   "metadata": {},
   "source": [
    "## Crimes Dataframe"
   ]
  },
  {
   "cell_type": "code",
   "execution_count": 4,
   "id": "5b179c5c",
   "metadata": {},
   "outputs": [
    {
     "data": {
      "text/html": [
       "<div>\n",
       "<style scoped>\n",
       "    .dataframe tbody tr th:only-of-type {\n",
       "        vertical-align: middle;\n",
       "    }\n",
       "\n",
       "    .dataframe tbody tr th {\n",
       "        vertical-align: top;\n",
       "    }\n",
       "\n",
       "    .dataframe thead th {\n",
       "        text-align: right;\n",
       "    }\n",
       "</style>\n",
       "<table border=\"1\" class=\"dataframe\">\n",
       "  <thead>\n",
       "    <tr style=\"text-align: right;\">\n",
       "      <th></th>\n",
       "      <th>id</th>\n",
       "      <th>case_number</th>\n",
       "      <th>date</th>\n",
       "      <th>iucr</th>\n",
       "      <th>primary_type</th>\n",
       "      <th>description</th>\n",
       "      <th>location_description</th>\n",
       "      <th>community_area</th>\n",
       "    </tr>\n",
       "  </thead>\n",
       "  <tbody>\n",
       "    <tr>\n",
       "      <th>78688</th>\n",
       "      <td>13061447</td>\n",
       "      <td>JG246841</td>\n",
       "      <td>04/30/2023 05:20:00 PM</td>\n",
       "      <td>0810</td>\n",
       "      <td>THEFT</td>\n",
       "      <td>OVER $500</td>\n",
       "      <td>APARTMENT</td>\n",
       "      <td>24</td>\n",
       "    </tr>\n",
       "    <tr>\n",
       "      <th>29606</th>\n",
       "      <td>12983895</td>\n",
       "      <td>JG154134</td>\n",
       "      <td>02/15/2023 07:30:00 PM</td>\n",
       "      <td>0810</td>\n",
       "      <td>THEFT</td>\n",
       "      <td>OVER $500</td>\n",
       "      <td>AIRPORT TERMINAL LOWER LEVEL - SECURE AREA</td>\n",
       "      <td>56</td>\n",
       "    </tr>\n",
       "    <tr>\n",
       "      <th>49733</th>\n",
       "      <td>13014222</td>\n",
       "      <td>JG190452</td>\n",
       "      <td>03/18/2023 05:20:00 PM</td>\n",
       "      <td>0530</td>\n",
       "      <td>ASSAULT</td>\n",
       "      <td>AGGRAVATED - OTHER DANGEROUS WEAPON</td>\n",
       "      <td>GROCERY FOOD STORE</td>\n",
       "      <td>57</td>\n",
       "    </tr>\n",
       "  </tbody>\n",
       "</table>\n",
       "</div>"
      ],
      "text/plain": [
       "             id case_number                    date  iucr primary_type  \\\n",
       "78688  13061447    JG246841  04/30/2023 05:20:00 PM  0810        THEFT   \n",
       "29606  12983895    JG154134  02/15/2023 07:30:00 PM  0810        THEFT   \n",
       "49733  13014222    JG190452  03/18/2023 05:20:00 PM  0530      ASSAULT   \n",
       "\n",
       "                               description  \\\n",
       "78688                            OVER $500   \n",
       "29606                            OVER $500   \n",
       "49733  AGGRAVATED - OTHER DANGEROUS WEAPON   \n",
       "\n",
       "                             location_description  community_area  \n",
       "78688                                   APARTMENT              24  \n",
       "29606  AIRPORT TERMINAL LOWER LEVEL - SECURE AREA              56  \n",
       "49733                          GROCERY FOOD STORE              57  "
      ]
     },
     "execution_count": 4,
     "metadata": {},
     "output_type": "execute_result"
    }
   ],
   "source": [
    "df_crimes = pd.read_csv(r'./csv/chicago_crimes_2023.csv').drop('Unnamed: 0', axis = 1)\n",
    "df_crimes.sample(3)"
   ]
  },
  {
   "cell_type": "markdown",
   "id": "4d6b8633",
   "metadata": {},
   "source": [
    "### Crimes Table \n",
    "\n",
    "- id: ID of the person.\n",
    "- iucr: four-digit codes that law enforcement agencies use to classify criminal incidents when taking individual reports.\n",
    "- primary_type: the type of crime committed by a person.\n",
    "- community_area: the ID of the area where the person resides.\n",
    "- case_number: the case number assigned to the person's case.\n",
    "- description: a detailed description of the crime.\n",
    "- location_description: a description of the location where the crime occurred."
   ]
  },
  {
   "cell_type": "code",
   "execution_count": 5,
   "id": "c2c7d673",
   "metadata": {},
   "outputs": [
    {
     "name": "stdout",
     "output_type": "stream",
     "text": [
      "Done.\n"
     ]
    },
    {
     "data": {
      "text/plain": [
       "[]"
      ]
     },
     "execution_count": 5,
     "metadata": {},
     "output_type": "execute_result"
    }
   ],
   "source": [
    "%%sql sqlite://\n",
    "\n",
    "CREATE TABLE crimes ( \n",
    "    id INTEGER PRIMARY KEY,\n",
    "    case_number TEXT, \n",
    "    date DATE,\n",
    "    iucr INTEGER, \n",
    "    primary_type TEXT,\n",
    "    description TEXT,\n",
    "    location_description TEXT,\n",
    "    community_area INTEGER\n",
    ")"
   ]
  },
  {
   "cell_type": "code",
   "execution_count": 6,
   "id": "195ccacc",
   "metadata": {
    "scrolled": false
   },
   "outputs": [
    {
     "name": "stdout",
     "output_type": "stream",
     "text": [
      "Done.\n"
     ]
    },
    {
     "data": {
      "text/html": [
       "<table>\n",
       "    <thead>\n",
       "        <tr>\n",
       "            <th>cid</th>\n",
       "            <th>name</th>\n",
       "            <th>type</th>\n",
       "            <th>notnull</th>\n",
       "            <th>dflt_value</th>\n",
       "            <th>pk</th>\n",
       "        </tr>\n",
       "    </thead>\n",
       "    <tbody>\n",
       "        <tr>\n",
       "            <td>0</td>\n",
       "            <td>id</td>\n",
       "            <td>INTEGER</td>\n",
       "            <td>0</td>\n",
       "            <td>None</td>\n",
       "            <td>1</td>\n",
       "        </tr>\n",
       "        <tr>\n",
       "            <td>1</td>\n",
       "            <td>case_number</td>\n",
       "            <td>TEXT</td>\n",
       "            <td>0</td>\n",
       "            <td>None</td>\n",
       "            <td>0</td>\n",
       "        </tr>\n",
       "        <tr>\n",
       "            <td>2</td>\n",
       "            <td>date</td>\n",
       "            <td>DATE</td>\n",
       "            <td>0</td>\n",
       "            <td>None</td>\n",
       "            <td>0</td>\n",
       "        </tr>\n",
       "        <tr>\n",
       "            <td>3</td>\n",
       "            <td>iucr</td>\n",
       "            <td>INTEGER</td>\n",
       "            <td>0</td>\n",
       "            <td>None</td>\n",
       "            <td>0</td>\n",
       "        </tr>\n",
       "        <tr>\n",
       "            <td>4</td>\n",
       "            <td>primary_type</td>\n",
       "            <td>TEXT</td>\n",
       "            <td>0</td>\n",
       "            <td>None</td>\n",
       "            <td>0</td>\n",
       "        </tr>\n",
       "        <tr>\n",
       "            <td>5</td>\n",
       "            <td>description</td>\n",
       "            <td>TEXT</td>\n",
       "            <td>0</td>\n",
       "            <td>None</td>\n",
       "            <td>0</td>\n",
       "        </tr>\n",
       "        <tr>\n",
       "            <td>6</td>\n",
       "            <td>location_description</td>\n",
       "            <td>TEXT</td>\n",
       "            <td>0</td>\n",
       "            <td>None</td>\n",
       "            <td>0</td>\n",
       "        </tr>\n",
       "        <tr>\n",
       "            <td>7</td>\n",
       "            <td>community_area</td>\n",
       "            <td>INTEGER</td>\n",
       "            <td>0</td>\n",
       "            <td>None</td>\n",
       "            <td>0</td>\n",
       "        </tr>\n",
       "    </tbody>\n",
       "</table>"
      ],
      "text/plain": [
       "[(0, 'id', 'INTEGER', 0, None, 1),\n",
       " (1, 'case_number', 'TEXT', 0, None, 0),\n",
       " (2, 'date', 'DATE', 0, None, 0),\n",
       " (3, 'iucr', 'INTEGER', 0, None, 0),\n",
       " (4, 'primary_type', 'TEXT', 0, None, 0),\n",
       " (5, 'description', 'TEXT', 0, None, 0),\n",
       " (6, 'location_description', 'TEXT', 0, None, 0),\n",
       " (7, 'community_area', 'INTEGER', 0, None, 0)]"
      ]
     },
     "execution_count": 6,
     "metadata": {},
     "output_type": "execute_result"
    }
   ],
   "source": [
    "%%sql sqlite://\n",
    "\n",
    "PRAGMA TABLE_INFO(crimes)"
   ]
  },
  {
   "cell_type": "code",
   "execution_count": 7,
   "id": "245cda52",
   "metadata": {},
   "outputs": [
    {
     "data": {
      "text/plain": [
       "86607"
      ]
     },
     "execution_count": 7,
     "metadata": {},
     "output_type": "execute_result"
    }
   ],
   "source": [
    "conn = sqlite3.connect('chicago_crimes.db')\n",
    "df_crimes.to_sql('crimes', conn, if_exists='append', index=False)"
   ]
  },
  {
   "cell_type": "code",
   "execution_count": 8,
   "id": "8876fe08",
   "metadata": {},
   "outputs": [
    {
     "name": "stdout",
     "output_type": "stream",
     "text": [
      "Done.\n"
     ]
    },
    {
     "data": {
      "text/html": [
       "<table>\n",
       "    <thead>\n",
       "        <tr>\n",
       "            <th>id</th>\n",
       "            <th>case_number</th>\n",
       "            <th>date</th>\n",
       "            <th>iucr</th>\n",
       "            <th>primary_type</th>\n",
       "            <th>description</th>\n",
       "            <th>location_description</th>\n",
       "            <th>community_area</th>\n",
       "        </tr>\n",
       "    </thead>\n",
       "    <tbody>\n",
       "        <tr>\n",
       "            <td>12993568</td>\n",
       "            <td>JG164776</td>\n",
       "            <td>02/24/2023 08:23:00 PM</td>\n",
       "            <td>1780</td>\n",
       "            <td>OFFENSE INVOLVING CHILDREN</td>\n",
       "            <td>OTHER OFFENSE</td>\n",
       "            <td>APARTMENT</td>\n",
       "            <td>15</td>\n",
       "        </tr>\n",
       "        <tr>\n",
       "            <td>12980212</td>\n",
       "            <td>JG149363</td>\n",
       "            <td>02/11/2023 10:35:00 PM</td>\n",
       "            <td>143A</td>\n",
       "            <td>WEAPONS VIOLATION</td>\n",
       "            <td>UNLAWFUL POSSESSION - HANDGUN</td>\n",
       "            <td>SIDEWALK</td>\n",
       "            <td>68</td>\n",
       "        </tr>\n",
       "        <tr>\n",
       "            <td>13033296</td>\n",
       "            <td>JG212891</td>\n",
       "            <td>04/05/2023 09:00:00 PM</td>\n",
       "            <td>1242</td>\n",
       "            <td>DECEPTIVE PRACTICE</td>\n",
       "            <td>COMPUTER FRAUD</td>\n",
       "            <td>APARTMENT</td>\n",
       "            <td>6</td>\n",
       "        </tr>\n",
       "    </tbody>\n",
       "</table>"
      ],
      "text/plain": [
       "[(12993568, 'JG164776', '02/24/2023 08:23:00 PM', 1780, 'OFFENSE INVOLVING CHILDREN', 'OTHER OFFENSE', 'APARTMENT', 15),\n",
       " (12980212, 'JG149363', '02/11/2023 10:35:00 PM', '143A', 'WEAPONS VIOLATION', 'UNLAWFUL POSSESSION - HANDGUN', 'SIDEWALK', 68),\n",
       " (13033296, 'JG212891', '04/05/2023 09:00:00 PM', 1242, 'DECEPTIVE PRACTICE', 'COMPUTER FRAUD', 'APARTMENT', 6)]"
      ]
     },
     "execution_count": 8,
     "metadata": {},
     "output_type": "execute_result"
    }
   ],
   "source": [
    "%%sql sqlite://\n",
    "\n",
    "SELECT * \n",
    "FROM crimes\n",
    "ORDER BY RANDOM() \n",
    "LIMIT 3"
   ]
  },
  {
   "cell_type": "markdown",
   "id": "c8bc7085",
   "metadata": {},
   "source": [
    "## Socio-Economics Data Frame"
   ]
  },
  {
   "cell_type": "code",
   "execution_count": 9,
   "id": "ce2ed549",
   "metadata": {},
   "outputs": [
    {
     "data": {
      "text/html": [
       "<div>\n",
       "<style scoped>\n",
       "    .dataframe tbody tr th:only-of-type {\n",
       "        vertical-align: middle;\n",
       "    }\n",
       "\n",
       "    .dataframe tbody tr th {\n",
       "        vertical-align: top;\n",
       "    }\n",
       "\n",
       "    .dataframe thead th {\n",
       "        text-align: right;\n",
       "    }\n",
       "</style>\n",
       "<table border=\"1\" class=\"dataframe\">\n",
       "  <thead>\n",
       "    <tr style=\"text-align: right;\">\n",
       "      <th></th>\n",
       "      <th>community_area_number</th>\n",
       "      <th>community_area_name</th>\n",
       "      <th>percent_households_below_poverty</th>\n",
       "      <th>per_capita_income</th>\n",
       "      <th>hardship_index</th>\n",
       "    </tr>\n",
       "  </thead>\n",
       "  <tbody>\n",
       "    <tr>\n",
       "      <th>24</th>\n",
       "      <td>25.0</td>\n",
       "      <td>Austin</td>\n",
       "      <td>28.6</td>\n",
       "      <td>15957</td>\n",
       "      <td>73.0</td>\n",
       "    </tr>\n",
       "    <tr>\n",
       "      <th>45</th>\n",
       "      <td>46.0</td>\n",
       "      <td>South Chicago</td>\n",
       "      <td>29.8</td>\n",
       "      <td>16579</td>\n",
       "      <td>75.0</td>\n",
       "    </tr>\n",
       "    <tr>\n",
       "      <th>25</th>\n",
       "      <td>26.0</td>\n",
       "      <td>West Garfield Park</td>\n",
       "      <td>41.7</td>\n",
       "      <td>10934</td>\n",
       "      <td>92.0</td>\n",
       "    </tr>\n",
       "    <tr>\n",
       "      <th>59</th>\n",
       "      <td>60.0</td>\n",
       "      <td>Bridgeport</td>\n",
       "      <td>18.9</td>\n",
       "      <td>22694</td>\n",
       "      <td>43.0</td>\n",
       "    </tr>\n",
       "    <tr>\n",
       "      <th>76</th>\n",
       "      <td>77.0</td>\n",
       "      <td>Edgewater</td>\n",
       "      <td>18.2</td>\n",
       "      <td>33385</td>\n",
       "      <td>19.0</td>\n",
       "    </tr>\n",
       "  </tbody>\n",
       "</table>\n",
       "</div>"
      ],
      "text/plain": [
       "    community_area_number community_area_name  \\\n",
       "24                   25.0              Austin   \n",
       "45                   46.0       South Chicago   \n",
       "25                   26.0  West Garfield Park   \n",
       "59                   60.0          Bridgeport   \n",
       "76                   77.0           Edgewater   \n",
       "\n",
       "    percent_households_below_poverty  per_capita_income  hardship_index  \n",
       "24                              28.6              15957            73.0  \n",
       "45                              29.8              16579            75.0  \n",
       "25                              41.7              10934            92.0  \n",
       "59                              18.9              22694            43.0  \n",
       "76                              18.2              33385            19.0  "
      ]
     },
     "execution_count": 9,
     "metadata": {},
     "output_type": "execute_result"
    }
   ],
   "source": [
    "df_economics = pd.read_csv(r'./csv/chicago_economics.csv').drop('Unnamed: 0', axis = 1)\n",
    "df_economics.sample(5)"
   ]
  },
  {
   "cell_type": "markdown",
   "id": "641c8854",
   "metadata": {},
   "source": [
    "### Socio-Economics Table\n",
    "- community_area_number: ID of the area.\n",
    "- community_area_name: name of the community.\n",
    "- per_capita_income: income per capita.\n",
    "- percent_households_below_poverty: percentage of households below the poverty line.\n",
    "- hardship_index: index of hardship."
   ]
  },
  {
   "cell_type": "code",
   "execution_count": 10,
   "id": "fe545be3",
   "metadata": {},
   "outputs": [
    {
     "name": "stdout",
     "output_type": "stream",
     "text": [
      "Done.\n"
     ]
    },
    {
     "data": {
      "text/plain": [
       "[]"
      ]
     },
     "execution_count": 10,
     "metadata": {},
     "output_type": "execute_result"
    }
   ],
   "source": [
    "%%sql sqlite://\n",
    "\n",
    "CREATE TABLE economics ( \n",
    "    community_area_number INTEGER PRIMARY KEY,\n",
    "    community_area_name TEXT, \n",
    "    percent_households_below_poverty REAL ,\n",
    "    per_capita_income INTEGER , \n",
    "    hardship_index REAL\n",
    ")"
   ]
  },
  {
   "cell_type": "code",
   "execution_count": 11,
   "id": "73901f6e",
   "metadata": {},
   "outputs": [
    {
     "name": "stdout",
     "output_type": "stream",
     "text": [
      "Done.\n"
     ]
    },
    {
     "data": {
      "text/html": [
       "<table>\n",
       "    <thead>\n",
       "        <tr>\n",
       "            <th>cid</th>\n",
       "            <th>name</th>\n",
       "            <th>type</th>\n",
       "            <th>notnull</th>\n",
       "            <th>dflt_value</th>\n",
       "            <th>pk</th>\n",
       "        </tr>\n",
       "    </thead>\n",
       "    <tbody>\n",
       "        <tr>\n",
       "            <td>0</td>\n",
       "            <td>community_area_number</td>\n",
       "            <td>INTEGER</td>\n",
       "            <td>0</td>\n",
       "            <td>None</td>\n",
       "            <td>1</td>\n",
       "        </tr>\n",
       "        <tr>\n",
       "            <td>1</td>\n",
       "            <td>community_area_name</td>\n",
       "            <td>TEXT</td>\n",
       "            <td>0</td>\n",
       "            <td>None</td>\n",
       "            <td>0</td>\n",
       "        </tr>\n",
       "        <tr>\n",
       "            <td>2</td>\n",
       "            <td>percent_households_below_poverty</td>\n",
       "            <td>REAL</td>\n",
       "            <td>0</td>\n",
       "            <td>None</td>\n",
       "            <td>0</td>\n",
       "        </tr>\n",
       "        <tr>\n",
       "            <td>3</td>\n",
       "            <td>per_capita_income</td>\n",
       "            <td>INTEGER</td>\n",
       "            <td>0</td>\n",
       "            <td>None</td>\n",
       "            <td>0</td>\n",
       "        </tr>\n",
       "        <tr>\n",
       "            <td>4</td>\n",
       "            <td>hardship_index</td>\n",
       "            <td>REAL</td>\n",
       "            <td>0</td>\n",
       "            <td>None</td>\n",
       "            <td>0</td>\n",
       "        </tr>\n",
       "    </tbody>\n",
       "</table>"
      ],
      "text/plain": [
       "[(0, 'community_area_number', 'INTEGER', 0, None, 1),\n",
       " (1, 'community_area_name', 'TEXT', 0, None, 0),\n",
       " (2, 'percent_households_below_poverty', 'REAL', 0, None, 0),\n",
       " (3, 'per_capita_income', 'INTEGER', 0, None, 0),\n",
       " (4, 'hardship_index', 'REAL', 0, None, 0)]"
      ]
     },
     "execution_count": 11,
     "metadata": {},
     "output_type": "execute_result"
    }
   ],
   "source": [
    "%%sql sqlite://\n",
    "\n",
    "PRAGMA TABLE_INFO(economics)"
   ]
  },
  {
   "cell_type": "code",
   "execution_count": 12,
   "id": "216f124b",
   "metadata": {},
   "outputs": [
    {
     "data": {
      "text/plain": [
       "77"
      ]
     },
     "execution_count": 12,
     "metadata": {},
     "output_type": "execute_result"
    }
   ],
   "source": [
    "conn = sqlite3.connect('chicago_crimes.db')\n",
    "df_economics.to_sql('economics', conn, if_exists='append', index=False)"
   ]
  },
  {
   "cell_type": "code",
   "execution_count": 13,
   "id": "af786178",
   "metadata": {},
   "outputs": [
    {
     "name": "stdout",
     "output_type": "stream",
     "text": [
      "Done.\n"
     ]
    },
    {
     "data": {
      "text/html": [
       "<table>\n",
       "    <thead>\n",
       "        <tr>\n",
       "            <th>community_area_number</th>\n",
       "            <th>community_area_name</th>\n",
       "            <th>percent_households_below_poverty</th>\n",
       "            <th>per_capita_income</th>\n",
       "            <th>hardship_index</th>\n",
       "        </tr>\n",
       "    </thead>\n",
       "    <tbody>\n",
       "        <tr>\n",
       "            <td>55</td>\n",
       "            <td>Hegewisch</td>\n",
       "            <td>17.1</td>\n",
       "            <td>22677</td>\n",
       "            <td>44.0</td>\n",
       "        </tr>\n",
       "        <tr>\n",
       "            <td>40</td>\n",
       "            <td>Washington Park</td>\n",
       "            <td>42.1</td>\n",
       "            <td>13785</td>\n",
       "            <td>88.0</td>\n",
       "        </tr>\n",
       "        <tr>\n",
       "            <td>42</td>\n",
       "            <td>Woodlawn</td>\n",
       "            <td>30.7</td>\n",
       "            <td>18672</td>\n",
       "            <td>58.0</td>\n",
       "        </tr>\n",
       "        <tr>\n",
       "            <td>49</td>\n",
       "            <td>Roseland</td>\n",
       "            <td>19.8</td>\n",
       "            <td>17949</td>\n",
       "            <td>52.0</td>\n",
       "        </tr>\n",
       "        <tr>\n",
       "            <td>72</td>\n",
       "            <td>Beverly</td>\n",
       "            <td>5.1</td>\n",
       "            <td>39523</td>\n",
       "            <td>12.0</td>\n",
       "        </tr>\n",
       "    </tbody>\n",
       "</table>"
      ],
      "text/plain": [
       "[(55, 'Hegewisch', 17.1, 22677, 44.0),\n",
       " (40, 'Washington Park', 42.1, 13785, 88.0),\n",
       " (42, 'Woodlawn', 30.7, 18672, 58.0),\n",
       " (49, 'Roseland', 19.8, 17949, 52.0),\n",
       " (72, 'Beverly', 5.1, 39523, 12.0)]"
      ]
     },
     "execution_count": 13,
     "metadata": {},
     "output_type": "execute_result"
    }
   ],
   "source": [
    "%%sql sqlite://\n",
    "\n",
    "SELECT * \n",
    "FROM economics\n",
    "ORDER BY RANDOM() \n",
    "LIMIT 5"
   ]
  },
  {
   "cell_type": "markdown",
   "id": "8736a001",
   "metadata": {},
   "source": [
    "# Exploratory Data Analysis\n",
    "\n",
    "## Questions to answer:\n",
    "- Find the total number of crimes recorded in the CRIME table.\n",
    "- List community areas with per capita income less than 11000.\n",
    "- List all case numbers for crimes involving minors?(children are not considered minors for the purposes of crime analysis)\n",
    "- List all kidnapping crimes involving a child?\n",
    "- What kind of crimes were recorded at schools?\n",
    "- List the average safety score for all types of schools.\n",
    "- List 5 community areas with highest % of households below poverty line.\n",
    "- Which community area(number) is most crime prone?\n",
    "- Use a sub-query to find the name of the community area with highest hardship index.\n",
    "- Use a sub-query to determine the Community Area Name with most number of crimes?"
   ]
  },
  {
   "cell_type": "markdown",
   "id": "5f7fa1d8",
   "metadata": {},
   "source": [
    "**Find the total number of crimes recorded in the CRIME table**\n",
    "\n",
    "_Answer: there are 86,607 records from 1/01/2023 to 5/11/2023_"
   ]
  },
  {
   "cell_type": "code",
   "execution_count": 14,
   "id": "56efa13f",
   "metadata": {},
   "outputs": [
    {
     "name": "stdout",
     "output_type": "stream",
     "text": [
      "Done.\n"
     ]
    },
    {
     "data": {
      "text/html": [
       "<table>\n",
       "    <thead>\n",
       "        <tr>\n",
       "            <th>crime_records</th>\n",
       "        </tr>\n",
       "    </thead>\n",
       "    <tbody>\n",
       "        <tr>\n",
       "            <td>86607</td>\n",
       "        </tr>\n",
       "    </tbody>\n",
       "</table>"
      ],
      "text/plain": [
       "[(86607,)]"
      ]
     },
     "execution_count": 14,
     "metadata": {},
     "output_type": "execute_result"
    }
   ],
   "source": [
    "%%sql sqlite://\n",
    "\n",
    "SELECT COUNT(*) AS crime_records\n",
    "FROM crimes"
   ]
  },
  {
   "cell_type": "markdown",
   "id": "c2cbd7fb",
   "metadata": {},
   "source": [
    "**List community areas with per capita income less than 11000.**\n",
    "\n",
    "_Answer: West Garfield Park, South Lawndale, Fuller Park, Riverdale\tcommunity has less than 11,000 income_"
   ]
  },
  {
   "cell_type": "code",
   "execution_count": 15,
   "id": "1a24a53d",
   "metadata": {},
   "outputs": [
    {
     "name": "stdout",
     "output_type": "stream",
     "text": [
      "Done.\n"
     ]
    },
    {
     "data": {
      "text/html": [
       "<table>\n",
       "    <thead>\n",
       "        <tr>\n",
       "            <th>community_area_number</th>\n",
       "            <th>community_area_name</th>\n",
       "            <th>per_capita_income</th>\n",
       "        </tr>\n",
       "    </thead>\n",
       "    <tbody>\n",
       "        <tr>\n",
       "            <td>26</td>\n",
       "            <td>West Garfield Park</td>\n",
       "            <td>10934</td>\n",
       "        </tr>\n",
       "        <tr>\n",
       "            <td>30</td>\n",
       "            <td>South Lawndale</td>\n",
       "            <td>10402</td>\n",
       "        </tr>\n",
       "        <tr>\n",
       "            <td>37</td>\n",
       "            <td>Fuller Park</td>\n",
       "            <td>10432</td>\n",
       "        </tr>\n",
       "        <tr>\n",
       "            <td>54</td>\n",
       "            <td>Riverdale</td>\n",
       "            <td>8201</td>\n",
       "        </tr>\n",
       "    </tbody>\n",
       "</table>"
      ],
      "text/plain": [
       "[(26, 'West Garfield Park', 10934),\n",
       " (30, 'South Lawndale', 10402),\n",
       " (37, 'Fuller Park', 10432),\n",
       " (54, 'Riverdale', 8201)]"
      ]
     },
     "execution_count": 15,
     "metadata": {},
     "output_type": "execute_result"
    }
   ],
   "source": [
    "%%sql sqlite://\n",
    "\n",
    "SELECT community_area_number, community_area_name, per_capita_income\n",
    "FROM economics\n",
    "WHERE per_capita_income < 11000"
   ]
  },
  {
   "cell_type": "markdown",
   "id": "52de3aea",
   "metadata": {},
   "source": [
    "**List all case numbers for crimes involving minors?(children are not considered minors for the purposes of crime analysis)**"
   ]
  },
  {
   "cell_type": "code",
   "execution_count": 16,
   "id": "926543dc",
   "metadata": {},
   "outputs": [
    {
     "name": "stdout",
     "output_type": "stream",
     "text": [
      "Done.\n"
     ]
    },
    {
     "data": {
      "text/html": [
       "<table>\n",
       "    <thead>\n",
       "        <tr>\n",
       "            <th>id</th>\n",
       "            <th>case_number</th>\n",
       "            <th>primary_type</th>\n",
       "            <th>description</th>\n",
       "        </tr>\n",
       "    </thead>\n",
       "    <tbody>\n",
       "        <tr>\n",
       "            <td>12951095</td>\n",
       "            <td>JG114028</td>\n",
       "            <td>LIQUOR LAW VIOLATION</td>\n",
       "            <td>SELL / GIVE / DELIVER LIQUOR TO MINOR</td>\n",
       "        </tr>\n",
       "        <tr>\n",
       "            <td>12951330</td>\n",
       "            <td>JG115117</td>\n",
       "            <td>LIQUOR LAW VIOLATION</td>\n",
       "            <td>SELL / GIVE / DELIVER LIQUOR TO MINOR</td>\n",
       "        </tr>\n",
       "        <tr>\n",
       "            <td>12958759</td>\n",
       "            <td>JG123650</td>\n",
       "            <td>LIQUOR LAW VIOLATION</td>\n",
       "            <td>SELL / GIVE / DELIVER LIQUOR TO MINOR</td>\n",
       "        </tr>\n",
       "        <tr>\n",
       "            <td>12959000</td>\n",
       "            <td>JG118997</td>\n",
       "            <td>OBSCENITY</td>\n",
       "            <td>SALE / DISTRIBUTE OBSCENE MATERIAL TO MINOR</td>\n",
       "        </tr>\n",
       "        <tr>\n",
       "            <td>12962590</td>\n",
       "            <td>JG128232</td>\n",
       "            <td>LIQUOR LAW VIOLATION</td>\n",
       "            <td>SELL / GIVE / DELIVER LIQUOR TO MINOR</td>\n",
       "        </tr>\n",
       "        <tr>\n",
       "            <td>12964635</td>\n",
       "            <td>JG130750</td>\n",
       "            <td>LIQUOR LAW VIOLATION</td>\n",
       "            <td>SELL / GIVE / DELIVER LIQUOR TO MINOR</td>\n",
       "        </tr>\n",
       "        <tr>\n",
       "            <td>12970164</td>\n",
       "            <td>JG137500</td>\n",
       "            <td>LIQUOR LAW VIOLATION</td>\n",
       "            <td>SELL / GIVE / DELIVER LIQUOR TO MINOR</td>\n",
       "        </tr>\n",
       "        <tr>\n",
       "            <td>12972039</td>\n",
       "            <td>JG139778</td>\n",
       "            <td>LIQUOR LAW VIOLATION</td>\n",
       "            <td>SELL / GIVE / DELIVER LIQUOR TO MINOR</td>\n",
       "        </tr>\n",
       "        <tr>\n",
       "            <td>12977976</td>\n",
       "            <td>JG146801</td>\n",
       "            <td>LIQUOR LAW VIOLATION</td>\n",
       "            <td>SELL / GIVE / DELIVER LIQUOR TO MINOR</td>\n",
       "        </tr>\n",
       "        <tr>\n",
       "            <td>12985982</td>\n",
       "            <td>JG156460</td>\n",
       "            <td>LIQUOR LAW VIOLATION</td>\n",
       "            <td>SELL / GIVE / DELIVER LIQUOR TO MINOR</td>\n",
       "        </tr>\n",
       "        <tr>\n",
       "            <td>12995197</td>\n",
       "            <td>JG167355</td>\n",
       "            <td>LIQUOR LAW VIOLATION</td>\n",
       "            <td>ILLEGAL CONSUMPTION BY MINOR</td>\n",
       "        </tr>\n",
       "        <tr>\n",
       "            <td>12998127</td>\n",
       "            <td>JG171086</td>\n",
       "            <td>OBSCENITY</td>\n",
       "            <td>SALE / DISTRIBUTE OBSCENE MATERIAL TO MINOR</td>\n",
       "        </tr>\n",
       "        <tr>\n",
       "            <td>12999287</td>\n",
       "            <td>JG171896</td>\n",
       "            <td>LIQUOR LAW VIOLATION</td>\n",
       "            <td>SELL / GIVE / DELIVER LIQUOR TO MINOR</td>\n",
       "        </tr>\n",
       "        <tr>\n",
       "            <td>13006460</td>\n",
       "            <td>JG181067</td>\n",
       "            <td>LIQUOR LAW VIOLATION</td>\n",
       "            <td>SELL / GIVE / DELIVER LIQUOR TO MINOR</td>\n",
       "        </tr>\n",
       "        <tr>\n",
       "            <td>13007087</td>\n",
       "            <td>JG181817</td>\n",
       "            <td>LIQUOR LAW VIOLATION</td>\n",
       "            <td>SELL / GIVE / DELIVER LIQUOR TO MINOR</td>\n",
       "        </tr>\n",
       "        <tr>\n",
       "            <td>13012261</td>\n",
       "            <td>JG188141</td>\n",
       "            <td>LIQUOR LAW VIOLATION</td>\n",
       "            <td>SELL / GIVE / DELIVER LIQUOR TO MINOR</td>\n",
       "        </tr>\n",
       "        <tr>\n",
       "            <td>13013303</td>\n",
       "            <td>JG189345</td>\n",
       "            <td>LIQUOR LAW VIOLATION</td>\n",
       "            <td>SELL / GIVE / DELIVER LIQUOR TO MINOR</td>\n",
       "        </tr>\n",
       "        <tr>\n",
       "            <td>13013999</td>\n",
       "            <td>JG189529</td>\n",
       "            <td>LIQUOR LAW VIOLATION</td>\n",
       "            <td>ILLEGAL CONSUMPTION BY MINOR</td>\n",
       "        </tr>\n",
       "        <tr>\n",
       "            <td>13019525</td>\n",
       "            <td>JG196683</td>\n",
       "            <td>LIQUOR LAW VIOLATION</td>\n",
       "            <td>SELL / GIVE / DELIVER LIQUOR TO MINOR</td>\n",
       "        </tr>\n",
       "        <tr>\n",
       "            <td>13019538</td>\n",
       "            <td>JG196624</td>\n",
       "            <td>LIQUOR LAW VIOLATION</td>\n",
       "            <td>SELL / GIVE / DELIVER LIQUOR TO MINOR</td>\n",
       "        </tr>\n",
       "        <tr>\n",
       "            <td>13021672</td>\n",
       "            <td>JG199255</td>\n",
       "            <td>LIQUOR LAW VIOLATION</td>\n",
       "            <td>ILLEGAL POSSESSION BY MINOR</td>\n",
       "        </tr>\n",
       "        <tr>\n",
       "            <td>13022310</td>\n",
       "            <td>JG199683</td>\n",
       "            <td>LIQUOR LAW VIOLATION</td>\n",
       "            <td>SELL / GIVE / DELIVER LIQUOR TO MINOR</td>\n",
       "        </tr>\n",
       "        <tr>\n",
       "            <td>13024290</td>\n",
       "            <td>JG202339</td>\n",
       "            <td>OBSCENITY</td>\n",
       "            <td>SALE / DISTRIBUTE OBSCENE MATERIAL TO MINOR</td>\n",
       "        </tr>\n",
       "        <tr>\n",
       "            <td>13024427</td>\n",
       "            <td>JG202551</td>\n",
       "            <td>LIQUOR LAW VIOLATION</td>\n",
       "            <td>SELL / GIVE / DELIVER LIQUOR TO MINOR</td>\n",
       "        </tr>\n",
       "        <tr>\n",
       "            <td>13025627</td>\n",
       "            <td>JG203912</td>\n",
       "            <td>LIQUOR LAW VIOLATION</td>\n",
       "            <td>SELL / GIVE / DELIVER LIQUOR TO MINOR</td>\n",
       "        </tr>\n",
       "        <tr>\n",
       "            <td>13032790</td>\n",
       "            <td>JG212336</td>\n",
       "            <td>LIQUOR LAW VIOLATION</td>\n",
       "            <td>SELL / GIVE / DELIVER LIQUOR TO MINOR</td>\n",
       "        </tr>\n",
       "        <tr>\n",
       "            <td>13033828</td>\n",
       "            <td>JG213553</td>\n",
       "            <td>LIQUOR LAW VIOLATION</td>\n",
       "            <td>SELL / GIVE / DELIVER LIQUOR TO MINOR</td>\n",
       "        </tr>\n",
       "        <tr>\n",
       "            <td>13046585</td>\n",
       "            <td>JG228737</td>\n",
       "            <td>LIQUOR LAW VIOLATION</td>\n",
       "            <td>SELL / GIVE / DELIVER LIQUOR TO MINOR</td>\n",
       "        </tr>\n",
       "        <tr>\n",
       "            <td>13050272</td>\n",
       "            <td>JG233237</td>\n",
       "            <td>LIQUOR LAW VIOLATION</td>\n",
       "            <td>SELL / GIVE / DELIVER LIQUOR TO MINOR</td>\n",
       "        </tr>\n",
       "        <tr>\n",
       "            <td>13053569</td>\n",
       "            <td>JG237179</td>\n",
       "            <td>LIQUOR LAW VIOLATION</td>\n",
       "            <td>SELL / GIVE / DELIVER LIQUOR TO MINOR</td>\n",
       "        </tr>\n",
       "        <tr>\n",
       "            <td>13063327</td>\n",
       "            <td>JG248823</td>\n",
       "            <td>LIQUOR LAW VIOLATION</td>\n",
       "            <td>SELL / GIVE / DELIVER LIQUOR TO MINOR</td>\n",
       "        </tr>\n",
       "        <tr>\n",
       "            <td>13063811</td>\n",
       "            <td>JG249503</td>\n",
       "            <td>LIQUOR LAW VIOLATION</td>\n",
       "            <td>SELL / GIVE / DELIVER LIQUOR TO MINOR</td>\n",
       "        </tr>\n",
       "        <tr>\n",
       "            <td>13067620</td>\n",
       "            <td>JG254256</td>\n",
       "            <td>LIQUOR LAW VIOLATION</td>\n",
       "            <td>SELL / GIVE / DELIVER LIQUOR TO MINOR</td>\n",
       "        </tr>\n",
       "        <tr>\n",
       "            <td>13068808</td>\n",
       "            <td>JG255693</td>\n",
       "            <td>LIQUOR LAW VIOLATION</td>\n",
       "            <td>SELL / GIVE / DELIVER LIQUOR TO MINOR</td>\n",
       "        </tr>\n",
       "        <tr>\n",
       "            <td>13070078</td>\n",
       "            <td>JG257201</td>\n",
       "            <td>LIQUOR LAW VIOLATION</td>\n",
       "            <td>SELL / GIVE / DELIVER LIQUOR TO MINOR</td>\n",
       "        </tr>\n",
       "    </tbody>\n",
       "</table>"
      ],
      "text/plain": [
       "[(12951095, 'JG114028', 'LIQUOR LAW VIOLATION', 'SELL / GIVE / DELIVER LIQUOR TO MINOR'),\n",
       " (12951330, 'JG115117', 'LIQUOR LAW VIOLATION', 'SELL / GIVE / DELIVER LIQUOR TO MINOR'),\n",
       " (12958759, 'JG123650', 'LIQUOR LAW VIOLATION', 'SELL / GIVE / DELIVER LIQUOR TO MINOR'),\n",
       " (12959000, 'JG118997', 'OBSCENITY', 'SALE / DISTRIBUTE OBSCENE MATERIAL TO MINOR'),\n",
       " (12962590, 'JG128232', 'LIQUOR LAW VIOLATION', 'SELL / GIVE / DELIVER LIQUOR TO MINOR'),\n",
       " (12964635, 'JG130750', 'LIQUOR LAW VIOLATION', 'SELL / GIVE / DELIVER LIQUOR TO MINOR'),\n",
       " (12970164, 'JG137500', 'LIQUOR LAW VIOLATION', 'SELL / GIVE / DELIVER LIQUOR TO MINOR'),\n",
       " (12972039, 'JG139778', 'LIQUOR LAW VIOLATION', 'SELL / GIVE / DELIVER LIQUOR TO MINOR'),\n",
       " (12977976, 'JG146801', 'LIQUOR LAW VIOLATION', 'SELL / GIVE / DELIVER LIQUOR TO MINOR'),\n",
       " (12985982, 'JG156460', 'LIQUOR LAW VIOLATION', 'SELL / GIVE / DELIVER LIQUOR TO MINOR'),\n",
       " (12995197, 'JG167355', 'LIQUOR LAW VIOLATION', 'ILLEGAL CONSUMPTION BY MINOR'),\n",
       " (12998127, 'JG171086', 'OBSCENITY', 'SALE / DISTRIBUTE OBSCENE MATERIAL TO MINOR'),\n",
       " (12999287, 'JG171896', 'LIQUOR LAW VIOLATION', 'SELL / GIVE / DELIVER LIQUOR TO MINOR'),\n",
       " (13006460, 'JG181067', 'LIQUOR LAW VIOLATION', 'SELL / GIVE / DELIVER LIQUOR TO MINOR'),\n",
       " (13007087, 'JG181817', 'LIQUOR LAW VIOLATION', 'SELL / GIVE / DELIVER LIQUOR TO MINOR'),\n",
       " (13012261, 'JG188141', 'LIQUOR LAW VIOLATION', 'SELL / GIVE / DELIVER LIQUOR TO MINOR'),\n",
       " (13013303, 'JG189345', 'LIQUOR LAW VIOLATION', 'SELL / GIVE / DELIVER LIQUOR TO MINOR'),\n",
       " (13013999, 'JG189529', 'LIQUOR LAW VIOLATION', 'ILLEGAL CONSUMPTION BY MINOR'),\n",
       " (13019525, 'JG196683', 'LIQUOR LAW VIOLATION', 'SELL / GIVE / DELIVER LIQUOR TO MINOR'),\n",
       " (13019538, 'JG196624', 'LIQUOR LAW VIOLATION', 'SELL / GIVE / DELIVER LIQUOR TO MINOR'),\n",
       " (13021672, 'JG199255', 'LIQUOR LAW VIOLATION', 'ILLEGAL POSSESSION BY MINOR'),\n",
       " (13022310, 'JG199683', 'LIQUOR LAW VIOLATION', 'SELL / GIVE / DELIVER LIQUOR TO MINOR'),\n",
       " (13024290, 'JG202339', 'OBSCENITY', 'SALE / DISTRIBUTE OBSCENE MATERIAL TO MINOR'),\n",
       " (13024427, 'JG202551', 'LIQUOR LAW VIOLATION', 'SELL / GIVE / DELIVER LIQUOR TO MINOR'),\n",
       " (13025627, 'JG203912', 'LIQUOR LAW VIOLATION', 'SELL / GIVE / DELIVER LIQUOR TO MINOR'),\n",
       " (13032790, 'JG212336', 'LIQUOR LAW VIOLATION', 'SELL / GIVE / DELIVER LIQUOR TO MINOR'),\n",
       " (13033828, 'JG213553', 'LIQUOR LAW VIOLATION', 'SELL / GIVE / DELIVER LIQUOR TO MINOR'),\n",
       " (13046585, 'JG228737', 'LIQUOR LAW VIOLATION', 'SELL / GIVE / DELIVER LIQUOR TO MINOR'),\n",
       " (13050272, 'JG233237', 'LIQUOR LAW VIOLATION', 'SELL / GIVE / DELIVER LIQUOR TO MINOR'),\n",
       " (13053569, 'JG237179', 'LIQUOR LAW VIOLATION', 'SELL / GIVE / DELIVER LIQUOR TO MINOR'),\n",
       " (13063327, 'JG248823', 'LIQUOR LAW VIOLATION', 'SELL / GIVE / DELIVER LIQUOR TO MINOR'),\n",
       " (13063811, 'JG249503', 'LIQUOR LAW VIOLATION', 'SELL / GIVE / DELIVER LIQUOR TO MINOR'),\n",
       " (13067620, 'JG254256', 'LIQUOR LAW VIOLATION', 'SELL / GIVE / DELIVER LIQUOR TO MINOR'),\n",
       " (13068808, 'JG255693', 'LIQUOR LAW VIOLATION', 'SELL / GIVE / DELIVER LIQUOR TO MINOR'),\n",
       " (13070078, 'JG257201', 'LIQUOR LAW VIOLATION', 'SELL / GIVE / DELIVER LIQUOR TO MINOR')]"
      ]
     },
     "execution_count": 16,
     "metadata": {},
     "output_type": "execute_result"
    }
   ],
   "source": [
    "%%sql sqlite://\n",
    "\n",
    "SELECT id, case_number, primary_type, description\n",
    "FROM crimes\n",
    "WHERE description LIKE \"%minor\" COLLATE NOCASE"
   ]
  },
  {
   "cell_type": "markdown",
   "id": "8f7e2c31",
   "metadata": {},
   "source": [
    "**List all kidnapping crimes involving a child?**"
   ]
  },
  {
   "cell_type": "code",
   "execution_count": 17,
   "id": "edac6b2e",
   "metadata": {},
   "outputs": [
    {
     "name": "stdout",
     "output_type": "stream",
     "text": [
      "Done.\n"
     ]
    },
    {
     "data": {
      "text/html": [
       "<table>\n",
       "    <thead>\n",
       "        <tr>\n",
       "            <th>id</th>\n",
       "            <th>case_number</th>\n",
       "            <th>primary_type</th>\n",
       "            <th>description</th>\n",
       "        </tr>\n",
       "    </thead>\n",
       "    <tbody>\n",
       "        <tr>\n",
       "            <td>12955625</td>\n",
       "            <td>JG119981</td>\n",
       "            <td>KIDNAPPING</td>\n",
       "            <td>CHILD ABDUCTION / STRANGER</td>\n",
       "        </tr>\n",
       "        <tr>\n",
       "            <td>12956371</td>\n",
       "            <td>JG120818</td>\n",
       "            <td>KIDNAPPING</td>\n",
       "            <td>CHILD ABDUCTION / STRANGER</td>\n",
       "        </tr>\n",
       "        <tr>\n",
       "            <td>12966379</td>\n",
       "            <td>JG132742</td>\n",
       "            <td>KIDNAPPING</td>\n",
       "            <td>CHILD ABDUCTION / STRANGER</td>\n",
       "        </tr>\n",
       "        <tr>\n",
       "            <td>12997495</td>\n",
       "            <td>JG167961</td>\n",
       "            <td>KIDNAPPING</td>\n",
       "            <td>CHILD ABDUCTION / STRANGER</td>\n",
       "        </tr>\n",
       "        <tr>\n",
       "            <td>13025213</td>\n",
       "            <td>JG203175</td>\n",
       "            <td>KIDNAPPING</td>\n",
       "            <td>CHILD ABDUCTION / STRANGER</td>\n",
       "        </tr>\n",
       "        <tr>\n",
       "            <td>13052755</td>\n",
       "            <td>JG236194</td>\n",
       "            <td>KIDNAPPING</td>\n",
       "            <td>CHILD ABDUCTION / STRANGER</td>\n",
       "        </tr>\n",
       "        <tr>\n",
       "            <td>13059596</td>\n",
       "            <td>JG244548</td>\n",
       "            <td>KIDNAPPING</td>\n",
       "            <td>CHILD ABDUCTION / STRANGER</td>\n",
       "        </tr>\n",
       "        <tr>\n",
       "            <td>13061841</td>\n",
       "            <td>JG246935</td>\n",
       "            <td>KIDNAPPING</td>\n",
       "            <td>CHILD ABDUCTION / STRANGER</td>\n",
       "        </tr>\n",
       "        <tr>\n",
       "            <td>13066764</td>\n",
       "            <td>JG253121</td>\n",
       "            <td>KIDNAPPING</td>\n",
       "            <td>CHILD ABDUCTION / STRANGER</td>\n",
       "        </tr>\n",
       "        <tr>\n",
       "            <td>13067671</td>\n",
       "            <td>JG254360</td>\n",
       "            <td>KIDNAPPING</td>\n",
       "            <td>CHILD ABDUCTION / STRANGER</td>\n",
       "        </tr>\n",
       "        <tr>\n",
       "            <td>13068636</td>\n",
       "            <td>JG254898</td>\n",
       "            <td>KIDNAPPING</td>\n",
       "            <td>CHILD ABDUCTION / STRANGER</td>\n",
       "        </tr>\n",
       "    </tbody>\n",
       "</table>"
      ],
      "text/plain": [
       "[(12955625, 'JG119981', 'KIDNAPPING', 'CHILD ABDUCTION / STRANGER'),\n",
       " (12956371, 'JG120818', 'KIDNAPPING', 'CHILD ABDUCTION / STRANGER'),\n",
       " (12966379, 'JG132742', 'KIDNAPPING', 'CHILD ABDUCTION / STRANGER'),\n",
       " (12997495, 'JG167961', 'KIDNAPPING', 'CHILD ABDUCTION / STRANGER'),\n",
       " (13025213, 'JG203175', 'KIDNAPPING', 'CHILD ABDUCTION / STRANGER'),\n",
       " (13052755, 'JG236194', 'KIDNAPPING', 'CHILD ABDUCTION / STRANGER'),\n",
       " (13059596, 'JG244548', 'KIDNAPPING', 'CHILD ABDUCTION / STRANGER'),\n",
       " (13061841, 'JG246935', 'KIDNAPPING', 'CHILD ABDUCTION / STRANGER'),\n",
       " (13066764, 'JG253121', 'KIDNAPPING', 'CHILD ABDUCTION / STRANGER'),\n",
       " (13067671, 'JG254360', 'KIDNAPPING', 'CHILD ABDUCTION / STRANGER'),\n",
       " (13068636, 'JG254898', 'KIDNAPPING', 'CHILD ABDUCTION / STRANGER')]"
      ]
     },
     "execution_count": 17,
     "metadata": {},
     "output_type": "execute_result"
    }
   ],
   "source": [
    "%%sql sqlite://\n",
    "\n",
    "SELECT id, case_number, primary_type, description\n",
    "FROM crimes\n",
    "WHERE primary_type LIKE \"%kidnapping%\" and description LIKE \"%child%\" COLLATE NOCASE"
   ]
  },
  {
   "cell_type": "markdown",
   "id": "819a2545",
   "metadata": {},
   "source": [
    "**What kind of crimes were recorded at schools?**\n",
    "\n",
    "_Answer: Within the realm of schools, a comprehensive analysis of recorded crimes reveals intriguing insights. Topping the list is the crime of BATTERY, with a staggering **830 cases** reported. Following closely behind is the offense of ASSAULT, with **371 cases**. Not far behind, THEFT is recorded with **173 cases**. Collectively, these three types of crimes constitute a significant portion, accounting for a remarkable **65.30%** of the total crimes reported within school premises._"
   ]
  },
  {
   "cell_type": "code",
   "execution_count": 18,
   "id": "40188fe6",
   "metadata": {
    "scrolled": false
   },
   "outputs": [
    {
     "name": "stdout",
     "output_type": "stream",
     "text": [
      "Done.\n"
     ]
    },
    {
     "data": {
      "text/html": [
       "<table>\n",
       "    <thead>\n",
       "        <tr>\n",
       "            <th>primary_type</th>\n",
       "            <th>cases</th>\n",
       "            <th>rate</th>\n",
       "        </tr>\n",
       "    </thead>\n",
       "    <tbody>\n",
       "        <tr>\n",
       "            <td>BATTERY</td>\n",
       "            <td>830</td>\n",
       "            <td>45.13</td>\n",
       "        </tr>\n",
       "        <tr>\n",
       "            <td>ASSAULT</td>\n",
       "            <td>371</td>\n",
       "            <td>20.17</td>\n",
       "        </tr>\n",
       "        <tr>\n",
       "            <td>THEFT</td>\n",
       "            <td>173</td>\n",
       "            <td>9.41</td>\n",
       "        </tr>\n",
       "        <tr>\n",
       "            <td>OTHER OFFENSE</td>\n",
       "            <td>109</td>\n",
       "            <td>5.93</td>\n",
       "        </tr>\n",
       "        <tr>\n",
       "            <td>CRIMINAL DAMAGE</td>\n",
       "            <td>75</td>\n",
       "            <td>4.08</td>\n",
       "        </tr>\n",
       "        <tr>\n",
       "            <td>OFFENSE INVOLVING CHILDREN</td>\n",
       "            <td>48</td>\n",
       "            <td>2.61</td>\n",
       "        </tr>\n",
       "        <tr>\n",
       "            <td>SEX OFFENSE</td>\n",
       "            <td>39</td>\n",
       "            <td>2.12</td>\n",
       "        </tr>\n",
       "        <tr>\n",
       "            <td>CRIMINAL TRESPASS</td>\n",
       "            <td>37</td>\n",
       "            <td>2.01</td>\n",
       "        </tr>\n",
       "        <tr>\n",
       "            <td>NARCOTICS</td>\n",
       "            <td>30</td>\n",
       "            <td>1.63</td>\n",
       "        </tr>\n",
       "        <tr>\n",
       "            <td>PUBLIC PEACE VIOLATION</td>\n",
       "            <td>23</td>\n",
       "            <td>1.25</td>\n",
       "        </tr>\n",
       "        <tr>\n",
       "            <td>MOTOR VEHICLE THEFT</td>\n",
       "            <td>23</td>\n",
       "            <td>1.25</td>\n",
       "        </tr>\n",
       "        <tr>\n",
       "            <td>DECEPTIVE PRACTICE</td>\n",
       "            <td>18</td>\n",
       "            <td>0.98</td>\n",
       "        </tr>\n",
       "        <tr>\n",
       "            <td>CRIMINAL SEXUAL ASSAULT</td>\n",
       "            <td>18</td>\n",
       "            <td>0.98</td>\n",
       "        </tr>\n",
       "        <tr>\n",
       "            <td>BURGLARY</td>\n",
       "            <td>17</td>\n",
       "            <td>0.92</td>\n",
       "        </tr>\n",
       "        <tr>\n",
       "            <td>WEAPONS VIOLATION</td>\n",
       "            <td>16</td>\n",
       "            <td>0.87</td>\n",
       "        </tr>\n",
       "        <tr>\n",
       "            <td>ROBBERY</td>\n",
       "            <td>7</td>\n",
       "            <td>0.38</td>\n",
       "        </tr>\n",
       "        <tr>\n",
       "            <td>INTIMIDATION</td>\n",
       "            <td>2</td>\n",
       "            <td>0.11</td>\n",
       "        </tr>\n",
       "        <tr>\n",
       "            <td>HOMICIDE</td>\n",
       "            <td>1</td>\n",
       "            <td>0.05</td>\n",
       "        </tr>\n",
       "        <tr>\n",
       "            <td>CONCEALED CARRY LICENSE VIOLATION</td>\n",
       "            <td>1</td>\n",
       "            <td>0.05</td>\n",
       "        </tr>\n",
       "        <tr>\n",
       "            <td>ARSON</td>\n",
       "            <td>1</td>\n",
       "            <td>0.05</td>\n",
       "        </tr>\n",
       "    </tbody>\n",
       "</table>"
      ],
      "text/plain": [
       "[('BATTERY', 830, 45.13),\n",
       " ('ASSAULT', 371, 20.17),\n",
       " ('THEFT', 173, 9.41),\n",
       " ('OTHER OFFENSE', 109, 5.93),\n",
       " ('CRIMINAL DAMAGE', 75, 4.08),\n",
       " ('OFFENSE INVOLVING CHILDREN', 48, 2.61),\n",
       " ('SEX OFFENSE', 39, 2.12),\n",
       " ('CRIMINAL TRESPASS', 37, 2.01),\n",
       " ('NARCOTICS', 30, 1.63),\n",
       " ('PUBLIC PEACE VIOLATION', 23, 1.25),\n",
       " ('MOTOR VEHICLE THEFT', 23, 1.25),\n",
       " ('DECEPTIVE PRACTICE', 18, 0.98),\n",
       " ('CRIMINAL SEXUAL ASSAULT', 18, 0.98),\n",
       " ('BURGLARY', 17, 0.92),\n",
       " ('WEAPONS VIOLATION', 16, 0.87),\n",
       " ('ROBBERY', 7, 0.38),\n",
       " ('INTIMIDATION', 2, 0.11),\n",
       " ('HOMICIDE', 1, 0.05),\n",
       " ('CONCEALED CARRY LICENSE VIOLATION', 1, 0.05),\n",
       " ('ARSON', 1, 0.05)]"
      ]
     },
     "execution_count": 18,
     "metadata": {},
     "output_type": "execute_result"
    }
   ],
   "source": [
    "%%sql sqlite://\n",
    "    \n",
    "SELECT \n",
    "    primary_type,\n",
    "    COUNT(primary_type) AS cases,\n",
    "    ROUND(COUNT(primary_type) * 100.0 / (SELECT COUNT(*) FROM crimes WHERE location_description LIKE \"%school%\"), 2) AS rate\n",
    "FROM crimes\n",
    "WHERE location_description LIKE \"%school%\"\n",
    "GROUP BY primary_type\n",
    "ORDER BY cases DESC"
   ]
  },
  {
   "cell_type": "markdown",
   "id": "dbc2b151",
   "metadata": {},
   "source": [
    "**List 5 community areas with highest % of households below poverty line.**\n",
    "\n",
    "_Answer: Riverdale, Fuller Park, Englewood, North Lawndale, East Garfield Park has the highest % of households below poverty line._"
   ]
  },
  {
   "cell_type": "code",
   "execution_count": 23,
   "id": "a25079ac",
   "metadata": {},
   "outputs": [
    {
     "name": "stdout",
     "output_type": "stream",
     "text": [
      "Done.\n"
     ]
    },
    {
     "data": {
      "text/html": [
       "<table>\n",
       "    <thead>\n",
       "        <tr>\n",
       "            <th>community_area_number</th>\n",
       "            <th>community_area_name</th>\n",
       "            <th>percent_households_below_poverty</th>\n",
       "        </tr>\n",
       "    </thead>\n",
       "    <tbody>\n",
       "        <tr>\n",
       "            <td>54</td>\n",
       "            <td>Riverdale</td>\n",
       "            <td>56.5</td>\n",
       "        </tr>\n",
       "        <tr>\n",
       "            <td>37</td>\n",
       "            <td>Fuller Park</td>\n",
       "            <td>51.2</td>\n",
       "        </tr>\n",
       "        <tr>\n",
       "            <td>68</td>\n",
       "            <td>Englewood</td>\n",
       "            <td>46.6</td>\n",
       "        </tr>\n",
       "        <tr>\n",
       "            <td>29</td>\n",
       "            <td>North Lawndale</td>\n",
       "            <td>43.1</td>\n",
       "        </tr>\n",
       "        <tr>\n",
       "            <td>27</td>\n",
       "            <td>East Garfield Park</td>\n",
       "            <td>42.4</td>\n",
       "        </tr>\n",
       "    </tbody>\n",
       "</table>"
      ],
      "text/plain": [
       "[(54, 'Riverdale', 56.5),\n",
       " (37, 'Fuller Park', 51.2),\n",
       " (68, 'Englewood', 46.6),\n",
       " (29, 'North Lawndale', 43.1),\n",
       " (27, 'East Garfield Park', 42.4)]"
      ]
     },
     "execution_count": 23,
     "metadata": {},
     "output_type": "execute_result"
    }
   ],
   "source": [
    "%%sql sqlite://\n",
    "    \n",
    "SELECT\n",
    "    community_area_number,\n",
    "    community_area_name,\n",
    "    percent_households_below_poverty\n",
    "FROM economics\n",
    "ORDER BY percent_households_below_poverty DESC\n",
    "LIMIT 5"
   ]
  },
  {
   "cell_type": "markdown",
   "id": "87761c44",
   "metadata": {},
   "source": [
    "**Which community area(number) is most crime prone?**\n",
    "\n",
    "_Answer: **Austin** (25) is the most crime prone having a total of **4254** crime cases._"
   ]
  },
  {
   "cell_type": "code",
   "execution_count": 20,
   "id": "2ce9147b",
   "metadata": {},
   "outputs": [
    {
     "name": "stdout",
     "output_type": "stream",
     "text": [
      "Done.\n"
     ]
    },
    {
     "data": {
      "text/html": [
       "<table>\n",
       "    <thead>\n",
       "        <tr>\n",
       "            <th>community_area</th>\n",
       "            <th>community_area_name</th>\n",
       "            <th>crime_cases</th>\n",
       "        </tr>\n",
       "    </thead>\n",
       "    <tbody>\n",
       "        <tr>\n",
       "            <td>25</td>\n",
       "            <td>Austin</td>\n",
       "            <td>4254</td>\n",
       "        </tr>\n",
       "        <tr>\n",
       "            <td>8</td>\n",
       "            <td>Near North Side</td>\n",
       "            <td>3694</td>\n",
       "        </tr>\n",
       "        <tr>\n",
       "            <td>28</td>\n",
       "            <td>Near West Side</td>\n",
       "            <td>3456</td>\n",
       "        </tr>\n",
       "        <tr>\n",
       "            <td>43</td>\n",
       "            <td>South Shore</td>\n",
       "            <td>3170</td>\n",
       "        </tr>\n",
       "        <tr>\n",
       "            <td>32</td>\n",
       "            <td>Loop</td>\n",
       "            <td>2886</td>\n",
       "        </tr>\n",
       "    </tbody>\n",
       "</table>"
      ],
      "text/plain": [
       "[(25, 'Austin', 4254),\n",
       " (8, 'Near North Side', 3694),\n",
       " (28, 'Near West Side', 3456),\n",
       " (43, 'South Shore', 3170),\n",
       " (32, 'Loop', 2886)]"
      ]
     },
     "execution_count": 20,
     "metadata": {},
     "output_type": "execute_result"
    }
   ],
   "source": [
    "%%sql sqlite://\n",
    "    \n",
    "SELECT \n",
    "    c.community_area,\n",
    "    e.community_area_name,\n",
    "    COUNT(*) AS crime_cases\n",
    "FROM crimes AS c\n",
    "LEFT JOIN economics AS e ON c.community_area = e.community_area_number\n",
    "GROUP BY community_area\n",
    "ORDER BY crime_cases DESC\n",
    "LIMIT 5"
   ]
  },
  {
   "cell_type": "markdown",
   "id": "fa07a815",
   "metadata": {},
   "source": [
    "**Use a sub-query to find the name of the community area with highest hardship index.**\n",
    "\n",
    "_Answer: Riverdale has the highest hardship index at 98_"
   ]
  },
  {
   "cell_type": "code",
   "execution_count": 21,
   "id": "7df1d56c",
   "metadata": {},
   "outputs": [
    {
     "name": "stdout",
     "output_type": "stream",
     "text": [
      "Done.\n"
     ]
    },
    {
     "data": {
      "text/html": [
       "<table>\n",
       "    <thead>\n",
       "        <tr>\n",
       "            <th>community_area_name</th>\n",
       "            <th>hardship_index</th>\n",
       "        </tr>\n",
       "    </thead>\n",
       "    <tbody>\n",
       "        <tr>\n",
       "            <td>Riverdale</td>\n",
       "            <td>98.0</td>\n",
       "        </tr>\n",
       "    </tbody>\n",
       "</table>"
      ],
      "text/plain": [
       "[('Riverdale', 98.0)]"
      ]
     },
     "execution_count": 21,
     "metadata": {},
     "output_type": "execute_result"
    }
   ],
   "source": [
    "%%sql sqlite://\n",
    "    \n",
    "SELECT community_area_name, hardship_index\n",
    "FROM economics\n",
    "WHERE hardship_index = (\n",
    "    SELECT MAX(hardship_index)\n",
    "    FROM economics\n",
    ")"
   ]
  },
  {
   "cell_type": "markdown",
   "id": "063713b3",
   "metadata": {},
   "source": [
    "**Use a sub-query to determine the Community Area Name with most number of crimes?**\n",
    "\n",
    "_Answer: Austin has the most number of crimes at 4254 cases_"
   ]
  },
  {
   "cell_type": "code",
   "execution_count": 22,
   "id": "f2e964a0",
   "metadata": {},
   "outputs": [
    {
     "name": "stdout",
     "output_type": "stream",
     "text": [
      "Done.\n"
     ]
    },
    {
     "data": {
      "text/html": [
       "<table>\n",
       "    <thead>\n",
       "        <tr>\n",
       "            <th>community_area_name</th>\n",
       "            <th>community_area</th>\n",
       "            <th>crime_cases</th>\n",
       "        </tr>\n",
       "    </thead>\n",
       "    <tbody>\n",
       "        <tr>\n",
       "            <td>Austin</td>\n",
       "            <td>25</td>\n",
       "            <td>4254</td>\n",
       "        </tr>\n",
       "    </tbody>\n",
       "</table>"
      ],
      "text/plain": [
       "[('Austin', 25, 4254)]"
      ]
     },
     "execution_count": 22,
     "metadata": {},
     "output_type": "execute_result"
    }
   ],
   "source": [
    "%%sql sqlite://\n",
    "    \n",
    "SELECT e.community_area_name, c.community_area, COUNT(c.primary_type) as crime_cases\n",
    "FROM crimes AS c\n",
    "LEFT JOIN economics AS e ON c.community_area = e.community_area_number\n",
    "GROUP BY c.community_area\n",
    "HAVING COUNT(c.primary_type) = (\n",
    "    SELECT MAX(crime_count)\n",
    "    FROM (\n",
    "        SELECT COUNT(primary_type) AS crime_count\n",
    "        FROM crimes\n",
    "        GROUP BY community_area\n",
    "    )\n",
    ")"
   ]
  }
 ],
 "metadata": {
  "kernelspec": {
   "display_name": "Python 3 (ipykernel)",
   "language": "python",
   "name": "python3"
  },
  "language_info": {
   "codemirror_mode": {
    "name": "ipython",
    "version": 3
   },
   "file_extension": ".py",
   "mimetype": "text/x-python",
   "name": "python",
   "nbconvert_exporter": "python",
   "pygments_lexer": "ipython3",
   "version": "3.10.7"
  }
 },
 "nbformat": 4,
 "nbformat_minor": 5
}
