{
 "cells": [
  {
   "cell_type": "markdown",
   "id": "00552c0e",
   "metadata": {},
   "source": [
    "# Crimes in Chicago 01/01/2023 - 05/11/2023"
   ]
  },
  {
   "cell_type": "code",
   "execution_count": 1,
   "id": "e7d123e3",
   "metadata": {},
   "outputs": [],
   "source": [
    "import pandas as pd"
   ]
  },
  {
   "cell_type": "code",
   "execution_count": 2,
   "id": "4342ca09",
   "metadata": {},
   "outputs": [],
   "source": [
    "# Options\n",
    "pd.set_option('display.max_columns', 100)\n",
    "pd.set_option('display.max_rows', 15)"
   ]
  },
  {
   "cell_type": "markdown",
   "id": "eb5b8d4e",
   "metadata": {},
   "source": [
    "# Data Wrangling"
   ]
  },
  {
   "cell_type": "markdown",
   "id": "bab07e73",
   "metadata": {},
   "source": [
    "## Crimes Data"
   ]
  },
  {
   "cell_type": "code",
   "execution_count": 3,
   "id": "428c903e",
   "metadata": {},
   "outputs": [
    {
     "data": {
      "text/html": [
       "<div>\n",
       "<style scoped>\n",
       "    .dataframe tbody tr th:only-of-type {\n",
       "        vertical-align: middle;\n",
       "    }\n",
       "\n",
       "    .dataframe tbody tr th {\n",
       "        vertical-align: top;\n",
       "    }\n",
       "\n",
       "    .dataframe thead th {\n",
       "        text-align: right;\n",
       "    }\n",
       "</style>\n",
       "<table border=\"1\" class=\"dataframe\">\n",
       "  <thead>\n",
       "    <tr style=\"text-align: right;\">\n",
       "      <th></th>\n",
       "      <th>ID</th>\n",
       "      <th>Case Number</th>\n",
       "      <th>Date</th>\n",
       "      <th>Block</th>\n",
       "      <th>IUCR</th>\n",
       "      <th>Primary Type</th>\n",
       "      <th>Description</th>\n",
       "      <th>Location Description</th>\n",
       "      <th>Arrest</th>\n",
       "      <th>Domestic</th>\n",
       "      <th>Beat</th>\n",
       "      <th>District</th>\n",
       "      <th>Ward</th>\n",
       "      <th>Community Area</th>\n",
       "      <th>FBI Code</th>\n",
       "      <th>X Coordinate</th>\n",
       "      <th>Y Coordinate</th>\n",
       "      <th>Year</th>\n",
       "      <th>Updated On</th>\n",
       "      <th>Latitude</th>\n",
       "      <th>Longitude</th>\n",
       "      <th>Location</th>\n",
       "    </tr>\n",
       "  </thead>\n",
       "  <tbody>\n",
       "    <tr>\n",
       "      <th>50676</th>\n",
       "      <td>13015894</td>\n",
       "      <td>JG192428</td>\n",
       "      <td>03/20/2023 02:37:00 PM</td>\n",
       "      <td>050XX S PRAIRIE AVE</td>\n",
       "      <td>031A</td>\n",
       "      <td>ROBBERY</td>\n",
       "      <td>ARMED - HANDGUN</td>\n",
       "      <td>SIDEWALK</td>\n",
       "      <td>False</td>\n",
       "      <td>False</td>\n",
       "      <td>224</td>\n",
       "      <td>2</td>\n",
       "      <td>3.0</td>\n",
       "      <td>38</td>\n",
       "      <td>03</td>\n",
       "      <td>1178892.0</td>\n",
       "      <td>1871731.0</td>\n",
       "      <td>2023</td>\n",
       "      <td>03/27/2023 04:58:01 PM</td>\n",
       "      <td>41.803327</td>\n",
       "      <td>-87.619441</td>\n",
       "      <td>(41.803326653, -87.619440895)</td>\n",
       "    </tr>\n",
       "    <tr>\n",
       "      <th>73593</th>\n",
       "      <td>13051674</td>\n",
       "      <td>JG234821</td>\n",
       "      <td>04/23/2023 08:40:00 PM</td>\n",
       "      <td>041XX W 66TH ST</td>\n",
       "      <td>1320</td>\n",
       "      <td>CRIMINAL DAMAGE</td>\n",
       "      <td>TO VEHICLE</td>\n",
       "      <td>DRIVEWAY - RESIDENTIAL</td>\n",
       "      <td>False</td>\n",
       "      <td>False</td>\n",
       "      <td>833</td>\n",
       "      <td>8</td>\n",
       "      <td>13.0</td>\n",
       "      <td>65</td>\n",
       "      <td>14</td>\n",
       "      <td>1149705.0</td>\n",
       "      <td>1860506.0</td>\n",
       "      <td>2023</td>\n",
       "      <td>04/30/2023 04:47:35 PM</td>\n",
       "      <td>41.773139</td>\n",
       "      <td>-87.726775</td>\n",
       "      <td>(41.773138867, -87.726774789)</td>\n",
       "    </tr>\n",
       "    <tr>\n",
       "      <th>75334</th>\n",
       "      <td>13052817</td>\n",
       "      <td>JG236266</td>\n",
       "      <td>04/25/2023 12:21:00 AM</td>\n",
       "      <td>052XX S HERMITAGE AVE</td>\n",
       "      <td>031A</td>\n",
       "      <td>ROBBERY</td>\n",
       "      <td>ARMED - HANDGUN</td>\n",
       "      <td>ALLEY</td>\n",
       "      <td>False</td>\n",
       "      <td>False</td>\n",
       "      <td>932</td>\n",
       "      <td>9</td>\n",
       "      <td>16.0</td>\n",
       "      <td>61</td>\n",
       "      <td>03</td>\n",
       "      <td>1165568.0</td>\n",
       "      <td>1869928.0</td>\n",
       "      <td>2023</td>\n",
       "      <td>05/02/2023 04:47:56 PM</td>\n",
       "      <td>41.798672</td>\n",
       "      <td>-87.668357</td>\n",
       "      <td>(41.798672295, -87.668357467)</td>\n",
       "    </tr>\n",
       "    <tr>\n",
       "      <th>9938</th>\n",
       "      <td>12953639</td>\n",
       "      <td>JG117670</td>\n",
       "      <td>01/15/2023 10:44:00 PM</td>\n",
       "      <td>034XX W CARROLL AVE</td>\n",
       "      <td>0486</td>\n",
       "      <td>BATTERY</td>\n",
       "      <td>DOMESTIC BATTERY SIMPLE</td>\n",
       "      <td>APARTMENT</td>\n",
       "      <td>False</td>\n",
       "      <td>True</td>\n",
       "      <td>1123</td>\n",
       "      <td>11</td>\n",
       "      <td>28.0</td>\n",
       "      <td>27</td>\n",
       "      <td>08B</td>\n",
       "      <td>1153330.0</td>\n",
       "      <td>1902186.0</td>\n",
       "      <td>2023</td>\n",
       "      <td>01/22/2023 03:50:37 PM</td>\n",
       "      <td>41.887443</td>\n",
       "      <td>-87.712382</td>\n",
       "      <td>(41.887443217, -87.712381872)</td>\n",
       "    </tr>\n",
       "    <tr>\n",
       "      <th>1107</th>\n",
       "      <td>12939661</td>\n",
       "      <td>JG101417</td>\n",
       "      <td>01/02/2023 08:50:00 AM</td>\n",
       "      <td>076XX S ST LAWRENCE AVE</td>\n",
       "      <td>0496</td>\n",
       "      <td>BATTERY</td>\n",
       "      <td>AGGRAVATED DOMESTIC BATTERY - KNIFE / CUTTING ...</td>\n",
       "      <td>APARTMENT</td>\n",
       "      <td>True</td>\n",
       "      <td>True</td>\n",
       "      <td>624</td>\n",
       "      <td>6</td>\n",
       "      <td>6.0</td>\n",
       "      <td>69</td>\n",
       "      <td>04B</td>\n",
       "      <td>1181557.0</td>\n",
       "      <td>1854523.0</td>\n",
       "      <td>2023</td>\n",
       "      <td>02/04/2023 03:46:13 PM</td>\n",
       "      <td>41.756045</td>\n",
       "      <td>-87.610198</td>\n",
       "      <td>(41.756045113, -87.610197882)</td>\n",
       "    </tr>\n",
       "  </tbody>\n",
       "</table>\n",
       "</div>"
      ],
      "text/plain": [
       "             ID Case Number                    Date                    Block  \\\n",
       "50676  13015894    JG192428  03/20/2023 02:37:00 PM      050XX S PRAIRIE AVE   \n",
       "73593  13051674    JG234821  04/23/2023 08:40:00 PM          041XX W 66TH ST   \n",
       "75334  13052817    JG236266  04/25/2023 12:21:00 AM    052XX S HERMITAGE AVE   \n",
       "9938   12953639    JG117670  01/15/2023 10:44:00 PM      034XX W CARROLL AVE   \n",
       "1107   12939661    JG101417  01/02/2023 08:50:00 AM  076XX S ST LAWRENCE AVE   \n",
       "\n",
       "       IUCR     Primary Type  \\\n",
       "50676  031A          ROBBERY   \n",
       "73593  1320  CRIMINAL DAMAGE   \n",
       "75334  031A          ROBBERY   \n",
       "9938   0486          BATTERY   \n",
       "1107   0496          BATTERY   \n",
       "\n",
       "                                             Description  \\\n",
       "50676                                    ARMED - HANDGUN   \n",
       "73593                                         TO VEHICLE   \n",
       "75334                                    ARMED - HANDGUN   \n",
       "9938                             DOMESTIC BATTERY SIMPLE   \n",
       "1107   AGGRAVATED DOMESTIC BATTERY - KNIFE / CUTTING ...   \n",
       "\n",
       "         Location Description  Arrest  Domestic  Beat  District  Ward  \\\n",
       "50676                SIDEWALK   False     False   224         2   3.0   \n",
       "73593  DRIVEWAY - RESIDENTIAL   False     False   833         8  13.0   \n",
       "75334                   ALLEY   False     False   932         9  16.0   \n",
       "9938                APARTMENT   False      True  1123        11  28.0   \n",
       "1107                APARTMENT    True      True   624         6   6.0   \n",
       "\n",
       "       Community Area FBI Code  X Coordinate  Y Coordinate  Year  \\\n",
       "50676              38       03     1178892.0     1871731.0  2023   \n",
       "73593              65       14     1149705.0     1860506.0  2023   \n",
       "75334              61       03     1165568.0     1869928.0  2023   \n",
       "9938               27      08B     1153330.0     1902186.0  2023   \n",
       "1107               69      04B     1181557.0     1854523.0  2023   \n",
       "\n",
       "                   Updated On   Latitude  Longitude  \\\n",
       "50676  03/27/2023 04:58:01 PM  41.803327 -87.619441   \n",
       "73593  04/30/2023 04:47:35 PM  41.773139 -87.726775   \n",
       "75334  05/02/2023 04:47:56 PM  41.798672 -87.668357   \n",
       "9938   01/22/2023 03:50:37 PM  41.887443 -87.712382   \n",
       "1107   02/04/2023 03:46:13 PM  41.756045 -87.610198   \n",
       "\n",
       "                            Location  \n",
       "50676  (41.803326653, -87.619440895)  \n",
       "73593  (41.773138867, -87.726774789)  \n",
       "75334  (41.798672295, -87.668357467)  \n",
       "9938   (41.887443217, -87.712381872)  \n",
       "1107   (41.756045113, -87.610197882)  "
      ]
     },
     "execution_count": 3,
     "metadata": {},
     "output_type": "execute_result"
    }
   ],
   "source": [
    "df_crimes = pd.read_csv(r'Crimes_-_2023.csv')\n",
    "df_crimes.sample(5)"
   ]
  },
  {
   "cell_type": "markdown",
   "id": "febeda66",
   "metadata": {},
   "source": [
    "Let's change the columns to snekcase, so it will be readable and easy to access."
   ]
  },
  {
   "cell_type": "code",
   "execution_count": 4,
   "id": "a4ceb606",
   "metadata": {},
   "outputs": [
    {
     "data": {
      "text/plain": [
       "Index(['id', 'case_number', 'date', 'block', 'iucr', 'primary_type',\n",
       "       'description', 'location_description', 'arrest', 'domestic', 'beat',\n",
       "       'district', 'ward', 'community_area', 'fbi_code', 'x_coordinate',\n",
       "       'y_coordinate', 'year', 'updated_on', 'latitude', 'longitude',\n",
       "       'location'],\n",
       "      dtype='object')"
      ]
     },
     "execution_count": 4,
     "metadata": {},
     "output_type": "execute_result"
    }
   ],
   "source": [
    "df_crimes.columns = df_crimes.columns.str.lower().str.replace(' ', '_')\n",
    "df_crimes.columns"
   ]
  },
  {
   "cell_type": "markdown",
   "id": "d55c3f3b",
   "metadata": {},
   "source": [
    "I only need these columns so I can answer the questions given to us\n",
    "- id: ID of the person.\n",
    "- iucr: four-digit codes that law enforcement agencies use to classify criminal incidents when taking individual reports.\n",
    "- primary_type: the type of crime committed by a person.\n",
    "- community_area: the ID of the area where the person resides.\n",
    "- case_number: the case number assigned to the person's case.\n",
    "- description: a detailed description of the crime.\n",
    "- location_description: a description of the location where the crime occurred."
   ]
  },
  {
   "cell_type": "code",
   "execution_count": 5,
   "id": "c1599da8",
   "metadata": {},
   "outputs": [
    {
     "data": {
      "text/html": [
       "<div>\n",
       "<style scoped>\n",
       "    .dataframe tbody tr th:only-of-type {\n",
       "        vertical-align: middle;\n",
       "    }\n",
       "\n",
       "    .dataframe tbody tr th {\n",
       "        vertical-align: top;\n",
       "    }\n",
       "\n",
       "    .dataframe thead th {\n",
       "        text-align: right;\n",
       "    }\n",
       "</style>\n",
       "<table border=\"1\" class=\"dataframe\">\n",
       "  <thead>\n",
       "    <tr style=\"text-align: right;\">\n",
       "      <th></th>\n",
       "      <th>id</th>\n",
       "      <th>case_number</th>\n",
       "      <th>date</th>\n",
       "      <th>iucr</th>\n",
       "      <th>primary_type</th>\n",
       "      <th>description</th>\n",
       "      <th>location_description</th>\n",
       "      <th>community_area</th>\n",
       "    </tr>\n",
       "  </thead>\n",
       "  <tbody>\n",
       "    <tr>\n",
       "      <th>56316</th>\n",
       "      <td>13024107</td>\n",
       "      <td>JG202121</td>\n",
       "      <td>03/28/2023 12:59:00 PM</td>\n",
       "      <td>1811</td>\n",
       "      <td>NARCOTICS</td>\n",
       "      <td>POSSESS - CANNABIS 30 GRAMS OR LESS</td>\n",
       "      <td>STREET</td>\n",
       "      <td>15</td>\n",
       "    </tr>\n",
       "    <tr>\n",
       "      <th>86402</th>\n",
       "      <td>13070092</td>\n",
       "      <td>JG257097</td>\n",
       "      <td>05/11/2023 06:39:00 PM</td>\n",
       "      <td>0520</td>\n",
       "      <td>ASSAULT</td>\n",
       "      <td>AGGRAVATED - KNIFE / CUTTING INSTRUMENT</td>\n",
       "      <td>APARTMENT</td>\n",
       "      <td>43</td>\n",
       "    </tr>\n",
       "    <tr>\n",
       "      <th>3174</th>\n",
       "      <td>12943505</td>\n",
       "      <td>JG105924</td>\n",
       "      <td>01/05/2023 09:00:00 PM</td>\n",
       "      <td>2014</td>\n",
       "      <td>NARCOTICS</td>\n",
       "      <td>MANUFACTURE / DELIVER -  HEROIN (WHITE)</td>\n",
       "      <td>SIDEWALK</td>\n",
       "      <td>23</td>\n",
       "    </tr>\n",
       "    <tr>\n",
       "      <th>54675</th>\n",
       "      <td>13021673</td>\n",
       "      <td>JG199212</td>\n",
       "      <td>03/25/2023 11:30:00 PM</td>\n",
       "      <td>0610</td>\n",
       "      <td>BURGLARY</td>\n",
       "      <td>FORCIBLE ENTRY</td>\n",
       "      <td>RESIDENCE</td>\n",
       "      <td>46</td>\n",
       "    </tr>\n",
       "    <tr>\n",
       "      <th>64853</th>\n",
       "      <td>13036923</td>\n",
       "      <td>JG217139</td>\n",
       "      <td>04/10/2023 01:45:00 AM</td>\n",
       "      <td>0460</td>\n",
       "      <td>BATTERY</td>\n",
       "      <td>SIMPLE</td>\n",
       "      <td>APARTMENT</td>\n",
       "      <td>30</td>\n",
       "    </tr>\n",
       "  </tbody>\n",
       "</table>\n",
       "</div>"
      ],
      "text/plain": [
       "             id case_number                    date  iucr primary_type  \\\n",
       "56316  13024107    JG202121  03/28/2023 12:59:00 PM  1811    NARCOTICS   \n",
       "86402  13070092    JG257097  05/11/2023 06:39:00 PM  0520      ASSAULT   \n",
       "3174   12943505    JG105924  01/05/2023 09:00:00 PM  2014    NARCOTICS   \n",
       "54675  13021673    JG199212  03/25/2023 11:30:00 PM  0610     BURGLARY   \n",
       "64853  13036923    JG217139  04/10/2023 01:45:00 AM  0460      BATTERY   \n",
       "\n",
       "                                   description location_description  \\\n",
       "56316      POSSESS - CANNABIS 30 GRAMS OR LESS               STREET   \n",
       "86402  AGGRAVATED - KNIFE / CUTTING INSTRUMENT            APARTMENT   \n",
       "3174   MANUFACTURE / DELIVER -  HEROIN (WHITE)             SIDEWALK   \n",
       "54675                           FORCIBLE ENTRY            RESIDENCE   \n",
       "64853                                   SIMPLE            APARTMENT   \n",
       "\n",
       "       community_area  \n",
       "56316              15  \n",
       "86402              43  \n",
       "3174               23  \n",
       "54675              46  \n",
       "64853              30  "
      ]
     },
     "execution_count": 5,
     "metadata": {},
     "output_type": "execute_result"
    }
   ],
   "source": [
    "# Let's make a copy and filter the columns that I need and save it to CSV.\n",
    "df_crimes_copy = df_crimes.copy()\n",
    "df_crimes_copy = df_crimes_copy[['id', 'case_number', 'date', 'iucr', 'primary_type', 'description', 'location_description', 'community_area']]\n",
    "df_crimes_copy.sample(5)"
   ]
  },
  {
   "cell_type": "markdown",
   "id": "5030fcd8",
   "metadata": {},
   "source": [
    "### Check for null values\n",
    "\n",
    "#### Null values observation\n",
    "The dataset contains null values in the \"location_description\" column. Upon analyzing the data, it is observed that the crimes with null location descriptions are classified as \"DECEPTIVE PRACTICE\" with the description \"FINANCIAL IDENTITY THEFT\". Furthermore, the \"ARREST\" column has only one unique value, which is False. Based on this information, it can be inferred that the NaN values in the \"location_description\" column should be replaced with \"Unknown\" since the exact location of the fraudulent activity cannot be determined.\n",
    "\n",
    "Please note that this observation is based on the available data and assumptions made for missing information."
   ]
  },
  {
   "cell_type": "code",
   "execution_count": 6,
   "id": "196ed305",
   "metadata": {},
   "outputs": [
    {
     "data": {
      "text/plain": [
       "id                        0\n",
       "case_number               0\n",
       "date                      0\n",
       "iucr                      0\n",
       "primary_type              0\n",
       "description               0\n",
       "location_description    384\n",
       "community_area            0\n",
       "dtype: int64"
      ]
     },
     "execution_count": 6,
     "metadata": {},
     "output_type": "execute_result"
    }
   ],
   "source": [
    "df_crimes_copy.isnull().sum()"
   ]
  },
  {
   "cell_type": "code",
   "execution_count": 7,
   "id": "27d8a71f",
   "metadata": {},
   "outputs": [
    {
     "data": {
      "text/plain": [
       "id                      384\n",
       "case_number             384\n",
       "date                    376\n",
       "iucr                      4\n",
       "primary_type              1\n",
       "description               4\n",
       "location_description      0\n",
       "community_area           67\n",
       "dtype: int64"
      ]
     },
     "execution_count": 7,
     "metadata": {},
     "output_type": "execute_result"
    }
   ],
   "source": [
    "df_crimes_copy[df_crimes_copy.isnull().any(axis=1)].nunique()"
   ]
  },
  {
   "cell_type": "markdown",
   "id": "de6ee0de",
   "metadata": {},
   "source": [
    "Let's check for the original df for more information"
   ]
  },
  {
   "cell_type": "code",
   "execution_count": 8,
   "id": "8c3dce07",
   "metadata": {},
   "outputs": [
    {
     "data": {
      "text/html": [
       "<div>\n",
       "<style scoped>\n",
       "    .dataframe tbody tr th:only-of-type {\n",
       "        vertical-align: middle;\n",
       "    }\n",
       "\n",
       "    .dataframe tbody tr th {\n",
       "        vertical-align: top;\n",
       "    }\n",
       "\n",
       "    .dataframe thead th {\n",
       "        text-align: right;\n",
       "    }\n",
       "</style>\n",
       "<table border=\"1\" class=\"dataframe\">\n",
       "  <thead>\n",
       "    <tr style=\"text-align: right;\">\n",
       "      <th></th>\n",
       "      <th>id</th>\n",
       "      <th>case_number</th>\n",
       "      <th>date</th>\n",
       "      <th>block</th>\n",
       "      <th>iucr</th>\n",
       "      <th>primary_type</th>\n",
       "      <th>description</th>\n",
       "      <th>location_description</th>\n",
       "      <th>arrest</th>\n",
       "      <th>domestic</th>\n",
       "      <th>beat</th>\n",
       "      <th>district</th>\n",
       "      <th>ward</th>\n",
       "      <th>community_area</th>\n",
       "      <th>fbi_code</th>\n",
       "      <th>x_coordinate</th>\n",
       "      <th>y_coordinate</th>\n",
       "      <th>year</th>\n",
       "      <th>updated_on</th>\n",
       "      <th>latitude</th>\n",
       "      <th>longitude</th>\n",
       "      <th>location</th>\n",
       "    </tr>\n",
       "  </thead>\n",
       "  <tbody>\n",
       "    <tr>\n",
       "      <th>34743</th>\n",
       "      <td>12997807</td>\n",
       "      <td>JG170144</td>\n",
       "      <td>02/17/2023 11:05:00 AM</td>\n",
       "      <td>004XX E WATERSIDE DR</td>\n",
       "      <td>1154</td>\n",
       "      <td>DECEPTIVE PRACTICE</td>\n",
       "      <td>FINANCIAL IDENTITY THEFT $300 AND UNDER</td>\n",
       "      <td>NaN</td>\n",
       "      <td>False</td>\n",
       "      <td>False</td>\n",
       "      <td>114</td>\n",
       "      <td>1</td>\n",
       "      <td>42.0</td>\n",
       "      <td>32</td>\n",
       "      <td>11</td>\n",
       "      <td>1179704.0</td>\n",
       "      <td>1902210.0</td>\n",
       "      <td>2023</td>\n",
       "      <td>03/03/2023 03:47:46 PM</td>\n",
       "      <td>41.886945</td>\n",
       "      <td>-87.615529</td>\n",
       "      <td>(41.886944528, -87.615528657)</td>\n",
       "    </tr>\n",
       "    <tr>\n",
       "      <th>19372</th>\n",
       "      <td>12972118</td>\n",
       "      <td>JG139467</td>\n",
       "      <td>01/30/2023 10:32:00 AM</td>\n",
       "      <td>021XX S CALIFORNIA AVE</td>\n",
       "      <td>1153</td>\n",
       "      <td>DECEPTIVE PRACTICE</td>\n",
       "      <td>FINANCIAL IDENTITY THEFT OVER $ 300</td>\n",
       "      <td>NaN</td>\n",
       "      <td>False</td>\n",
       "      <td>False</td>\n",
       "      <td>1023</td>\n",
       "      <td>10</td>\n",
       "      <td>12.0</td>\n",
       "      <td>30</td>\n",
       "      <td>11</td>\n",
       "      <td>1158023.0</td>\n",
       "      <td>1889721.0</td>\n",
       "      <td>2023</td>\n",
       "      <td>02/06/2023 03:49:33 PM</td>\n",
       "      <td>41.853144</td>\n",
       "      <td>-87.695488</td>\n",
       "      <td>(41.853143528, -87.695487845)</td>\n",
       "    </tr>\n",
       "    <tr>\n",
       "      <th>85204</th>\n",
       "      <td>13073928</td>\n",
       "      <td>JG261600</td>\n",
       "      <td>04/24/2023 06:05:00 PM</td>\n",
       "      <td>031XX N TROY ST</td>\n",
       "      <td>1154</td>\n",
       "      <td>DECEPTIVE PRACTICE</td>\n",
       "      <td>FINANCIAL IDENTITY THEFT $300 AND UNDER</td>\n",
       "      <td>NaN</td>\n",
       "      <td>False</td>\n",
       "      <td>False</td>\n",
       "      <td>1411</td>\n",
       "      <td>14</td>\n",
       "      <td>35.0</td>\n",
       "      <td>21</td>\n",
       "      <td>11</td>\n",
       "      <td>1154839.0</td>\n",
       "      <td>1920465.0</td>\n",
       "      <td>2023</td>\n",
       "      <td>05/17/2023 04:48:11 PM</td>\n",
       "      <td>41.937572</td>\n",
       "      <td>-87.706350</td>\n",
       "      <td>(41.937572263, -87.706349641)</td>\n",
       "    </tr>\n",
       "    <tr>\n",
       "      <th>69436</th>\n",
       "      <td>13047560</td>\n",
       "      <td>JG229006</td>\n",
       "      <td>04/17/2023 10:25:00 PM</td>\n",
       "      <td>021XX W RANDOLPH ST</td>\n",
       "      <td>1153</td>\n",
       "      <td>DECEPTIVE PRACTICE</td>\n",
       "      <td>FINANCIAL IDENTITY THEFT OVER $ 300</td>\n",
       "      <td>NaN</td>\n",
       "      <td>False</td>\n",
       "      <td>False</td>\n",
       "      <td>1223</td>\n",
       "      <td>12</td>\n",
       "      <td>27.0</td>\n",
       "      <td>28</td>\n",
       "      <td>11</td>\n",
       "      <td>1162201.0</td>\n",
       "      <td>1901194.0</td>\n",
       "      <td>2023</td>\n",
       "      <td>04/24/2023 04:49:17 PM</td>\n",
       "      <td>41.884540</td>\n",
       "      <td>-87.679833</td>\n",
       "      <td>(41.884540314, -87.67983259)</td>\n",
       "    </tr>\n",
       "    <tr>\n",
       "      <th>34752</th>\n",
       "      <td>12992849</td>\n",
       "      <td>JG164301</td>\n",
       "      <td>02/24/2023 01:15:00 PM</td>\n",
       "      <td>004XX E OHIO ST</td>\n",
       "      <td>1153</td>\n",
       "      <td>DECEPTIVE PRACTICE</td>\n",
       "      <td>FINANCIAL IDENTITY THEFT OVER $ 300</td>\n",
       "      <td>NaN</td>\n",
       "      <td>False</td>\n",
       "      <td>False</td>\n",
       "      <td>1834</td>\n",
       "      <td>18</td>\n",
       "      <td>42.0</td>\n",
       "      <td>8</td>\n",
       "      <td>11</td>\n",
       "      <td>1179501.0</td>\n",
       "      <td>1904294.0</td>\n",
       "      <td>2023</td>\n",
       "      <td>03/03/2023 03:50:14 PM</td>\n",
       "      <td>41.892668</td>\n",
       "      <td>-87.616210</td>\n",
       "      <td>(41.892667777, -87.616210158)</td>\n",
       "    </tr>\n",
       "  </tbody>\n",
       "</table>\n",
       "</div>"
      ],
      "text/plain": [
       "             id case_number                    date                   block  \\\n",
       "34743  12997807    JG170144  02/17/2023 11:05:00 AM    004XX E WATERSIDE DR   \n",
       "19372  12972118    JG139467  01/30/2023 10:32:00 AM  021XX S CALIFORNIA AVE   \n",
       "85204  13073928    JG261600  04/24/2023 06:05:00 PM         031XX N TROY ST   \n",
       "69436  13047560    JG229006  04/17/2023 10:25:00 PM     021XX W RANDOLPH ST   \n",
       "34752  12992849    JG164301  02/24/2023 01:15:00 PM         004XX E OHIO ST   \n",
       "\n",
       "       iucr        primary_type                              description  \\\n",
       "34743  1154  DECEPTIVE PRACTICE  FINANCIAL IDENTITY THEFT $300 AND UNDER   \n",
       "19372  1153  DECEPTIVE PRACTICE      FINANCIAL IDENTITY THEFT OVER $ 300   \n",
       "85204  1154  DECEPTIVE PRACTICE  FINANCIAL IDENTITY THEFT $300 AND UNDER   \n",
       "69436  1153  DECEPTIVE PRACTICE      FINANCIAL IDENTITY THEFT OVER $ 300   \n",
       "34752  1153  DECEPTIVE PRACTICE      FINANCIAL IDENTITY THEFT OVER $ 300   \n",
       "\n",
       "      location_description  arrest  domestic  beat  district  ward  \\\n",
       "34743                  NaN   False     False   114         1  42.0   \n",
       "19372                  NaN   False     False  1023        10  12.0   \n",
       "85204                  NaN   False     False  1411        14  35.0   \n",
       "69436                  NaN   False     False  1223        12  27.0   \n",
       "34752                  NaN   False     False  1834        18  42.0   \n",
       "\n",
       "       community_area fbi_code  x_coordinate  y_coordinate  year  \\\n",
       "34743              32       11     1179704.0     1902210.0  2023   \n",
       "19372              30       11     1158023.0     1889721.0  2023   \n",
       "85204              21       11     1154839.0     1920465.0  2023   \n",
       "69436              28       11     1162201.0     1901194.0  2023   \n",
       "34752               8       11     1179501.0     1904294.0  2023   \n",
       "\n",
       "                   updated_on   latitude  longitude  \\\n",
       "34743  03/03/2023 03:47:46 PM  41.886945 -87.615529   \n",
       "19372  02/06/2023 03:49:33 PM  41.853144 -87.695488   \n",
       "85204  05/17/2023 04:48:11 PM  41.937572 -87.706350   \n",
       "69436  04/24/2023 04:49:17 PM  41.884540 -87.679833   \n",
       "34752  03/03/2023 03:50:14 PM  41.892668 -87.616210   \n",
       "\n",
       "                            location  \n",
       "34743  (41.886944528, -87.615528657)  \n",
       "19372  (41.853143528, -87.695487845)  \n",
       "85204  (41.937572263, -87.706349641)  \n",
       "69436   (41.884540314, -87.67983259)  \n",
       "34752  (41.892667777, -87.616210158)  "
      ]
     },
     "execution_count": 8,
     "metadata": {},
     "output_type": "execute_result"
    }
   ],
   "source": [
    "df_crimes[df_crimes.location_description.isnull()].sample(5)"
   ]
  },
  {
   "cell_type": "code",
   "execution_count": 9,
   "id": "53e14b45",
   "metadata": {},
   "outputs": [
    {
     "data": {
      "text/plain": [
       "1"
      ]
     },
     "execution_count": 9,
     "metadata": {},
     "output_type": "execute_result"
    }
   ],
   "source": [
    "df_crimes[df_crimes.location_description.isnull()].arrest.nunique()"
   ]
  },
  {
   "cell_type": "code",
   "execution_count": 10,
   "id": "c85c58da",
   "metadata": {},
   "outputs": [
    {
     "data": {
      "text/plain": [
       "0"
      ]
     },
     "execution_count": 10,
     "metadata": {},
     "output_type": "execute_result"
    }
   ],
   "source": [
    "df_crimes[df_crimes.location_description.isnull() & (df_crimes.arrest == True)].arrest.count()"
   ]
  },
  {
   "cell_type": "code",
   "execution_count": 11,
   "id": "b9366137",
   "metadata": {},
   "outputs": [],
   "source": [
    "# Change the NaN to unknown location\n",
    "df_crimes_copy.location_description.fillna('UNKNOWN', inplace=True)"
   ]
  },
  {
   "cell_type": "markdown",
   "id": "01197363",
   "metadata": {},
   "source": [
    "### Check for duplicates\n",
    "\n",
    "#### Duplicates observation\n",
    "I need to ensure that the \"ID\" and \"case_number\" columns do not have duplicates. While there are no duplicates in the \"ID\" column, I have identified 6 duplicates in the \"case_number\" column. Since the \"case_number\" should be unique to each person's case, I will remove the duplicates and retain the last recorded data for each case."
   ]
  },
  {
   "cell_type": "code",
   "execution_count": 12,
   "id": "ca9bea66",
   "metadata": {},
   "outputs": [
    {
     "data": {
      "text/plain": [
       "id                           0\n",
       "case_number                  6\n",
       "date                    44,662\n",
       "iucr                    86,333\n",
       "primary_type            86,582\n",
       "description             86,352\n",
       "location_description    86,493\n",
       "community_area          86,536\n",
       "dtype: object"
      ]
     },
     "execution_count": 12,
     "metadata": {},
     "output_type": "execute_result"
    }
   ],
   "source": [
    "duplicates_per_column = df_crimes_copy.apply(lambda x: f\"{x.duplicated().sum():,}\", axis=0)\n",
    "duplicates_per_column"
   ]
  },
  {
   "cell_type": "code",
   "execution_count": 13,
   "id": "14ff1b8b",
   "metadata": {},
   "outputs": [
    {
     "data": {
      "text/plain": [
       "id                           0\n",
       "case_number                  0\n",
       "date                    44,659\n",
       "iucr                    86,327\n",
       "primary_type            86,576\n",
       "description             86,346\n",
       "location_description    86,487\n",
       "community_area          86,530\n",
       "dtype: object"
      ]
     },
     "execution_count": 13,
     "metadata": {},
     "output_type": "execute_result"
    }
   ],
   "source": [
    "df_crimes_copy = df_crimes_copy.drop_duplicates(subset='case_number', keep='last')\n",
    "duplicates_per_column = df_crimes_copy.apply(lambda x: f\"{x.duplicated().sum():,}\", axis=0)\n",
    "duplicates_per_column"
   ]
  },
  {
   "cell_type": "markdown",
   "id": "2778bd4c",
   "metadata": {},
   "source": [
    "Saving the new dataframe that we need to CSV and transfering it to SQL"
   ]
  },
  {
   "cell_type": "code",
   "execution_count": 14,
   "id": "4a2ef9d0",
   "metadata": {},
   "outputs": [],
   "source": [
    "df_crimes_copy.to_csv('./csv/chicago_crimes_2023.csv')"
   ]
  },
  {
   "cell_type": "markdown",
   "id": "4b3dcc5a",
   "metadata": {},
   "source": [
    "# Socio-Economics Data"
   ]
  },
  {
   "cell_type": "code",
   "execution_count": 15,
   "id": "c27e3d38",
   "metadata": {
    "scrolled": true
   },
   "outputs": [
    {
     "data": {
      "text/html": [
       "<div>\n",
       "<style scoped>\n",
       "    .dataframe tbody tr th:only-of-type {\n",
       "        vertical-align: middle;\n",
       "    }\n",
       "\n",
       "    .dataframe tbody tr th {\n",
       "        vertical-align: top;\n",
       "    }\n",
       "\n",
       "    .dataframe thead th {\n",
       "        text-align: right;\n",
       "    }\n",
       "</style>\n",
       "<table border=\"1\" class=\"dataframe\">\n",
       "  <thead>\n",
       "    <tr style=\"text-align: right;\">\n",
       "      <th></th>\n",
       "      <th>community_area_number</th>\n",
       "      <th>community_area_name</th>\n",
       "      <th>percent_of_housing_crowded</th>\n",
       "      <th>percent_households_below_poverty</th>\n",
       "      <th>percent_aged_16+_unemployed</th>\n",
       "      <th>percent_aged_25+_without_high_school_diploma</th>\n",
       "      <th>percent_aged_under_18_or_over_64</th>\n",
       "      <th>per_capita_income</th>\n",
       "      <th>hardship_index</th>\n",
       "    </tr>\n",
       "  </thead>\n",
       "  <tbody>\n",
       "    <tr>\n",
       "      <th>16</th>\n",
       "      <td>17.0</td>\n",
       "      <td>Dunning</td>\n",
       "      <td>5.2</td>\n",
       "      <td>10.6</td>\n",
       "      <td>10.0</td>\n",
       "      <td>16.2</td>\n",
       "      <td>33.6</td>\n",
       "      <td>26282</td>\n",
       "      <td>28.0</td>\n",
       "    </tr>\n",
       "    <tr>\n",
       "      <th>48</th>\n",
       "      <td>49.0</td>\n",
       "      <td>Roseland</td>\n",
       "      <td>2.5</td>\n",
       "      <td>19.8</td>\n",
       "      <td>20.3</td>\n",
       "      <td>16.9</td>\n",
       "      <td>41.2</td>\n",
       "      <td>17949</td>\n",
       "      <td>52.0</td>\n",
       "    </tr>\n",
       "    <tr>\n",
       "      <th>52</th>\n",
       "      <td>53.0</td>\n",
       "      <td>West Pullman</td>\n",
       "      <td>3.3</td>\n",
       "      <td>25.9</td>\n",
       "      <td>19.4</td>\n",
       "      <td>20.5</td>\n",
       "      <td>42.1</td>\n",
       "      <td>16563</td>\n",
       "      <td>62.0</td>\n",
       "    </tr>\n",
       "    <tr>\n",
       "      <th>72</th>\n",
       "      <td>73.0</td>\n",
       "      <td>Washington Height</td>\n",
       "      <td>1.1</td>\n",
       "      <td>16.9</td>\n",
       "      <td>20.8</td>\n",
       "      <td>13.7</td>\n",
       "      <td>42.6</td>\n",
       "      <td>19713</td>\n",
       "      <td>48.0</td>\n",
       "    </tr>\n",
       "    <tr>\n",
       "      <th>17</th>\n",
       "      <td>18.0</td>\n",
       "      <td>Montclaire</td>\n",
       "      <td>8.1</td>\n",
       "      <td>15.3</td>\n",
       "      <td>13.8</td>\n",
       "      <td>23.5</td>\n",
       "      <td>38.6</td>\n",
       "      <td>22014</td>\n",
       "      <td>50.0</td>\n",
       "    </tr>\n",
       "  </tbody>\n",
       "</table>\n",
       "</div>"
      ],
      "text/plain": [
       "    community_area_number community_area_name  percent_of_housing_crowded  \\\n",
       "16                   17.0             Dunning                         5.2   \n",
       "48                   49.0            Roseland                         2.5   \n",
       "52                   53.0        West Pullman                         3.3   \n",
       "72                   73.0   Washington Height                         1.1   \n",
       "17                   18.0          Montclaire                         8.1   \n",
       "\n",
       "    percent_households_below_poverty  percent_aged_16+_unemployed  \\\n",
       "16                              10.6                         10.0   \n",
       "48                              19.8                         20.3   \n",
       "52                              25.9                         19.4   \n",
       "72                              16.9                         20.8   \n",
       "17                              15.3                         13.8   \n",
       "\n",
       "    percent_aged_25+_without_high_school_diploma  \\\n",
       "16                                          16.2   \n",
       "48                                          16.9   \n",
       "52                                          20.5   \n",
       "72                                          13.7   \n",
       "17                                          23.5   \n",
       "\n",
       "    percent_aged_under_18_or_over_64  per_capita_income  hardship_index  \n",
       "16                              33.6              26282            28.0  \n",
       "48                              41.2              17949            52.0  \n",
       "52                              42.1              16563            62.0  \n",
       "72                              42.6              19713            48.0  \n",
       "17                              38.6              22014            50.0  "
      ]
     },
     "execution_count": 15,
     "metadata": {},
     "output_type": "execute_result"
    }
   ],
   "source": [
    "df_economic = pd.read_csv(r'Census_Data_-_Selected_socioeconomic_indicators_in_Chicago__2008___2012.csv')\n",
    "df_economic.columns = df_economic.columns.str.lower().str.replace(' ', '_')\n",
    "df_economic.rename(columns={'per_capita_income_': 'per_capita_income'}, inplace=True)\n",
    "df_economic.sample(5)"
   ]
  },
  {
   "cell_type": "code",
   "execution_count": 16,
   "id": "7c62dd3b",
   "metadata": {},
   "outputs": [
    {
     "data": {
      "text/plain": [
       "Index(['community_area_number', 'community_area_name',\n",
       "       'percent_of_housing_crowded', 'percent_households_below_poverty',\n",
       "       'percent_aged_16+_unemployed',\n",
       "       'percent_aged_25+_without_high_school_diploma',\n",
       "       'percent_aged_under_18_or_over_64', 'per_capita_income',\n",
       "       'hardship_index'],\n",
       "      dtype='object')"
      ]
     },
     "execution_count": 16,
     "metadata": {},
     "output_type": "execute_result"
    }
   ],
   "source": [
    "df_economic.columns"
   ]
  },
  {
   "cell_type": "markdown",
   "id": "20e7656c",
   "metadata": {},
   "source": [
    "I only need these columns in our socio-economic data so I can answer the questions given to us\n",
    "- community_area_number: ID of the area.\n",
    "- community_area_name: name of the community.\n",
    "- per_capita_income: income per capita.\n",
    "- percent_households_below_poverty: percentage of households below the poverty line.\n",
    "- hardship_index: index of hardship."
   ]
  },
  {
   "cell_type": "code",
   "execution_count": 17,
   "id": "4d646e0d",
   "metadata": {},
   "outputs": [
    {
     "data": {
      "text/html": [
       "<div>\n",
       "<style scoped>\n",
       "    .dataframe tbody tr th:only-of-type {\n",
       "        vertical-align: middle;\n",
       "    }\n",
       "\n",
       "    .dataframe tbody tr th {\n",
       "        vertical-align: top;\n",
       "    }\n",
       "\n",
       "    .dataframe thead th {\n",
       "        text-align: right;\n",
       "    }\n",
       "</style>\n",
       "<table border=\"1\" class=\"dataframe\">\n",
       "  <thead>\n",
       "    <tr style=\"text-align: right;\">\n",
       "      <th></th>\n",
       "      <th>community_area_number</th>\n",
       "      <th>community_area_name</th>\n",
       "      <th>percent_households_below_poverty</th>\n",
       "      <th>per_capita_income</th>\n",
       "      <th>hardship_index</th>\n",
       "    </tr>\n",
       "  </thead>\n",
       "  <tbody>\n",
       "    <tr>\n",
       "      <th>20</th>\n",
       "      <td>21.0</td>\n",
       "      <td>Avondale</td>\n",
       "      <td>15.3</td>\n",
       "      <td>20039</td>\n",
       "      <td>42.0</td>\n",
       "    </tr>\n",
       "    <tr>\n",
       "      <th>26</th>\n",
       "      <td>27.0</td>\n",
       "      <td>East Garfield Park</td>\n",
       "      <td>42.4</td>\n",
       "      <td>12961</td>\n",
       "      <td>83.0</td>\n",
       "    </tr>\n",
       "    <tr>\n",
       "      <th>71</th>\n",
       "      <td>72.0</td>\n",
       "      <td>Beverly</td>\n",
       "      <td>5.1</td>\n",
       "      <td>39523</td>\n",
       "      <td>12.0</td>\n",
       "    </tr>\n",
       "    <tr>\n",
       "      <th>5</th>\n",
       "      <td>6.0</td>\n",
       "      <td>Lake View</td>\n",
       "      <td>11.4</td>\n",
       "      <td>60058</td>\n",
       "      <td>5.0</td>\n",
       "    </tr>\n",
       "    <tr>\n",
       "      <th>36</th>\n",
       "      <td>37.0</td>\n",
       "      <td>Fuller Park</td>\n",
       "      <td>51.2</td>\n",
       "      <td>10432</td>\n",
       "      <td>97.0</td>\n",
       "    </tr>\n",
       "  </tbody>\n",
       "</table>\n",
       "</div>"
      ],
      "text/plain": [
       "    community_area_number community_area_name  \\\n",
       "20                   21.0            Avondale   \n",
       "26                   27.0  East Garfield Park   \n",
       "71                   72.0             Beverly   \n",
       "5                     6.0           Lake View   \n",
       "36                   37.0         Fuller Park   \n",
       "\n",
       "    percent_households_below_poverty  per_capita_income  hardship_index  \n",
       "20                              15.3              20039            42.0  \n",
       "26                              42.4              12961            83.0  \n",
       "71                               5.1              39523            12.0  \n",
       "5                               11.4              60058             5.0  \n",
       "36                              51.2              10432            97.0  "
      ]
     },
     "execution_count": 17,
     "metadata": {},
     "output_type": "execute_result"
    }
   ],
   "source": [
    "df_economic_copy = df_economic.copy()\n",
    "df_economic_copy = df_economic_copy[['community_area_number', 'community_area_name', 'percent_households_below_poverty', 'per_capita_income', 'hardship_index']]\n",
    "df_economic_copy.sample(5)"
   ]
  },
  {
   "cell_type": "markdown",
   "id": "98f3b934",
   "metadata": {},
   "source": [
    "### Check for null values\n",
    "\n",
    "#### Null values observation\n",
    "It appears that there is an error in the entry for the \"Community Area Number\" column. Chicago is not assigned a community area number; instead, it is divided into 77 distinct community areas. To address this issue, I will just remove the \"Chicago\" from \"Community Area Number\" column from the dataset."
   ]
  },
  {
   "cell_type": "code",
   "execution_count": 18,
   "id": "2338c5d7",
   "metadata": {},
   "outputs": [
    {
     "data": {
      "text/html": [
       "<div>\n",
       "<style scoped>\n",
       "    .dataframe tbody tr th:only-of-type {\n",
       "        vertical-align: middle;\n",
       "    }\n",
       "\n",
       "    .dataframe tbody tr th {\n",
       "        vertical-align: top;\n",
       "    }\n",
       "\n",
       "    .dataframe thead th {\n",
       "        text-align: right;\n",
       "    }\n",
       "</style>\n",
       "<table border=\"1\" class=\"dataframe\">\n",
       "  <thead>\n",
       "    <tr style=\"text-align: right;\">\n",
       "      <th></th>\n",
       "      <th>community_area_number</th>\n",
       "      <th>community_area_name</th>\n",
       "      <th>percent_households_below_poverty</th>\n",
       "      <th>per_capita_income</th>\n",
       "      <th>hardship_index</th>\n",
       "    </tr>\n",
       "  </thead>\n",
       "  <tbody>\n",
       "    <tr>\n",
       "      <th>77</th>\n",
       "      <td>NaN</td>\n",
       "      <td>CHICAGO</td>\n",
       "      <td>19.7</td>\n",
       "      <td>28202</td>\n",
       "      <td>NaN</td>\n",
       "    </tr>\n",
       "  </tbody>\n",
       "</table>\n",
       "</div>"
      ],
      "text/plain": [
       "    community_area_number community_area_name  \\\n",
       "77                    NaN             CHICAGO   \n",
       "\n",
       "    percent_households_below_poverty  per_capita_income  hardship_index  \n",
       "77                              19.7              28202             NaN  "
      ]
     },
     "execution_count": 18,
     "metadata": {},
     "output_type": "execute_result"
    }
   ],
   "source": [
    "df_economic_copy[df_economic_copy.isnull().any(axis=1)]"
   ]
  },
  {
   "cell_type": "code",
   "execution_count": 19,
   "id": "8c18eadf",
   "metadata": {},
   "outputs": [
    {
     "data": {
      "text/html": [
       "<div>\n",
       "<style scoped>\n",
       "    .dataframe tbody tr th:only-of-type {\n",
       "        vertical-align: middle;\n",
       "    }\n",
       "\n",
       "    .dataframe tbody tr th {\n",
       "        vertical-align: top;\n",
       "    }\n",
       "\n",
       "    .dataframe thead th {\n",
       "        text-align: right;\n",
       "    }\n",
       "</style>\n",
       "<table border=\"1\" class=\"dataframe\">\n",
       "  <thead>\n",
       "    <tr style=\"text-align: right;\">\n",
       "      <th></th>\n",
       "      <th>community_area_number</th>\n",
       "    </tr>\n",
       "  </thead>\n",
       "  <tbody>\n",
       "    <tr>\n",
       "      <th>count</th>\n",
       "      <td>77.000000</td>\n",
       "    </tr>\n",
       "    <tr>\n",
       "      <th>mean</th>\n",
       "      <td>39.000000</td>\n",
       "    </tr>\n",
       "    <tr>\n",
       "      <th>std</th>\n",
       "      <td>22.371857</td>\n",
       "    </tr>\n",
       "    <tr>\n",
       "      <th>min</th>\n",
       "      <td>1.000000</td>\n",
       "    </tr>\n",
       "    <tr>\n",
       "      <th>25%</th>\n",
       "      <td>20.000000</td>\n",
       "    </tr>\n",
       "    <tr>\n",
       "      <th>50%</th>\n",
       "      <td>39.000000</td>\n",
       "    </tr>\n",
       "    <tr>\n",
       "      <th>75%</th>\n",
       "      <td>58.000000</td>\n",
       "    </tr>\n",
       "    <tr>\n",
       "      <th>max</th>\n",
       "      <td>77.000000</td>\n",
       "    </tr>\n",
       "  </tbody>\n",
       "</table>\n",
       "</div>"
      ],
      "text/plain": [
       "       community_area_number\n",
       "count              77.000000\n",
       "mean               39.000000\n",
       "std                22.371857\n",
       "min                 1.000000\n",
       "25%                20.000000\n",
       "50%                39.000000\n",
       "75%                58.000000\n",
       "max                77.000000"
      ]
     },
     "execution_count": 19,
     "metadata": {},
     "output_type": "execute_result"
    }
   ],
   "source": [
    "df_economic_copy.community_area_number.describe().to_frame()"
   ]
  },
  {
   "cell_type": "code",
   "execution_count": 20,
   "id": "83c0002d",
   "metadata": {},
   "outputs": [],
   "source": [
    "# Drop the NaN value\n",
    "df_economic_copy.dropna(how='any', inplace=True)"
   ]
  },
  {
   "cell_type": "code",
   "execution_count": 21,
   "id": "c52a6606",
   "metadata": {},
   "outputs": [
    {
     "data": {
      "text/plain": [
       "community_area_number               0\n",
       "community_area_name                 0\n",
       "percent_households_below_poverty    0\n",
       "per_capita_income                   0\n",
       "hardship_index                      0\n",
       "dtype: int64"
      ]
     },
     "execution_count": 21,
     "metadata": {},
     "output_type": "execute_result"
    }
   ],
   "source": [
    "df_economic_copy.isnull().sum()"
   ]
  },
  {
   "cell_type": "markdown",
   "id": "94f7e8be",
   "metadata": {},
   "source": [
    "### Check for duplicates\n",
    "\n",
    "#### Duplicates observation\n",
    "There are 10 duplicate values in the \"percent_households_below_poverty\" column. However, it is acceptable in this case because different communities can have the same percentage of households below the poverty line. Therefore, I will keep these duplicates as they are without any issues."
   ]
  },
  {
   "cell_type": "code",
   "execution_count": 22,
   "id": "ca3d7391",
   "metadata": {},
   "outputs": [
    {
     "data": {
      "text/plain": [
       "0"
      ]
     },
     "execution_count": 22,
     "metadata": {},
     "output_type": "execute_result"
    }
   ],
   "source": [
    "df_economic_copy.duplicated().sum()"
   ]
  },
  {
   "cell_type": "code",
   "execution_count": 23,
   "id": "3e358ed7",
   "metadata": {},
   "outputs": [
    {
     "data": {
      "text/plain": [
       "community_area_number                0\n",
       "community_area_name                  0\n",
       "percent_households_below_poverty    10\n",
       "per_capita_income                    0\n",
       "hardship_index                       0\n",
       "dtype: object"
      ]
     },
     "execution_count": 23,
     "metadata": {},
     "output_type": "execute_result"
    }
   ],
   "source": [
    "duplicates_per_column = df_economic_copy.apply(lambda x: f\"{x.duplicated().sum():,}\", axis=0)\n",
    "duplicates_per_column"
   ]
  },
  {
   "cell_type": "code",
   "execution_count": 24,
   "id": "031fd05b",
   "metadata": {},
   "outputs": [
    {
     "data": {
      "text/html": [
       "<div>\n",
       "<style scoped>\n",
       "    .dataframe tbody tr th:only-of-type {\n",
       "        vertical-align: middle;\n",
       "    }\n",
       "\n",
       "    .dataframe tbody tr th {\n",
       "        vertical-align: top;\n",
       "    }\n",
       "\n",
       "    .dataframe thead th {\n",
       "        text-align: right;\n",
       "    }\n",
       "</style>\n",
       "<table border=\"1\" class=\"dataframe\">\n",
       "  <thead>\n",
       "    <tr style=\"text-align: right;\">\n",
       "      <th></th>\n",
       "      <th>community_area_number</th>\n",
       "      <th>community_area_name</th>\n",
       "      <th>percent_households_below_poverty</th>\n",
       "      <th>per_capita_income</th>\n",
       "      <th>hardship_index</th>\n",
       "    </tr>\n",
       "  </thead>\n",
       "  <tbody>\n",
       "    <tr>\n",
       "      <th>4</th>\n",
       "      <td>5.0</td>\n",
       "      <td>North Center</td>\n",
       "      <td>7.5</td>\n",
       "      <td>57123</td>\n",
       "      <td>6.0</td>\n",
       "    </tr>\n",
       "    <tr>\n",
       "      <th>11</th>\n",
       "      <td>12.0</td>\n",
       "      <td>Forest Glen</td>\n",
       "      <td>7.5</td>\n",
       "      <td>44164</td>\n",
       "      <td>11.0</td>\n",
       "    </tr>\n",
       "    <tr>\n",
       "      <th>74</th>\n",
       "      <td>75.0</td>\n",
       "      <td>Morgan Park</td>\n",
       "      <td>13.2</td>\n",
       "      <td>27149</td>\n",
       "      <td>30.0</td>\n",
       "    </tr>\n",
       "    <tr>\n",
       "      <th>12</th>\n",
       "      <td>13.0</td>\n",
       "      <td>North Park</td>\n",
       "      <td>13.2</td>\n",
       "      <td>26576</td>\n",
       "      <td>33.0</td>\n",
       "    </tr>\n",
       "    <tr>\n",
       "      <th>31</th>\n",
       "      <td>32.0</td>\n",
       "      <td>Loop</td>\n",
       "      <td>14.7</td>\n",
       "      <td>65526</td>\n",
       "      <td>3.0</td>\n",
       "    </tr>\n",
       "    <tr>\n",
       "      <th>...</th>\n",
       "      <td>...</td>\n",
       "      <td>...</td>\n",
       "      <td>...</td>\n",
       "      <td>...</td>\n",
       "      <td>...</td>\n",
       "    </tr>\n",
       "    <tr>\n",
       "      <th>0</th>\n",
       "      <td>1.0</td>\n",
       "      <td>Rogers Park</td>\n",
       "      <td>23.6</td>\n",
       "      <td>23939</td>\n",
       "      <td>39.0</td>\n",
       "    </tr>\n",
       "    <tr>\n",
       "      <th>68</th>\n",
       "      <td>69.0</td>\n",
       "      <td>Greater Grand Crossing</td>\n",
       "      <td>29.6</td>\n",
       "      <td>17285</td>\n",
       "      <td>66.0</td>\n",
       "    </tr>\n",
       "    <tr>\n",
       "      <th>34</th>\n",
       "      <td>35.0</td>\n",
       "      <td>Douglas</td>\n",
       "      <td>29.6</td>\n",
       "      <td>23791</td>\n",
       "      <td>47.0</td>\n",
       "    </tr>\n",
       "    <tr>\n",
       "      <th>29</th>\n",
       "      <td>30.0</td>\n",
       "      <td>South Lawndale</td>\n",
       "      <td>30.7</td>\n",
       "      <td>10402</td>\n",
       "      <td>96.0</td>\n",
       "    </tr>\n",
       "    <tr>\n",
       "      <th>41</th>\n",
       "      <td>42.0</td>\n",
       "      <td>Woodlawn</td>\n",
       "      <td>30.7</td>\n",
       "      <td>18672</td>\n",
       "      <td>58.0</td>\n",
       "    </tr>\n",
       "  </tbody>\n",
       "</table>\n",
       "<p>20 rows × 5 columns</p>\n",
       "</div>"
      ],
      "text/plain": [
       "    community_area_number     community_area_name  \\\n",
       "4                     5.0            North Center   \n",
       "11                   12.0             Forest Glen   \n",
       "74                   75.0             Morgan Park   \n",
       "12                   13.0              North Park   \n",
       "31                   32.0                    Loop   \n",
       "..                    ...                     ...   \n",
       "0                     1.0             Rogers Park   \n",
       "68                   69.0  Greater Grand Crossing   \n",
       "34                   35.0                 Douglas   \n",
       "29                   30.0          South Lawndale   \n",
       "41                   42.0                Woodlawn   \n",
       "\n",
       "    percent_households_below_poverty  per_capita_income  hardship_index  \n",
       "4                                7.5              57123             6.0  \n",
       "11                               7.5              44164            11.0  \n",
       "74                              13.2              27149            30.0  \n",
       "12                              13.2              26576            33.0  \n",
       "31                              14.7              65526             3.0  \n",
       "..                               ...                ...             ...  \n",
       "0                               23.6              23939            39.0  \n",
       "68                              29.6              17285            66.0  \n",
       "34                              29.6              23791            47.0  \n",
       "29                              30.7              10402            96.0  \n",
       "41                              30.7              18672            58.0  \n",
       "\n",
       "[20 rows x 5 columns]"
      ]
     },
     "execution_count": 24,
     "metadata": {},
     "output_type": "execute_result"
    }
   ],
   "source": [
    "df_economic_copy[df_economic_copy.percent_households_below_poverty.duplicated(keep=False)].sort_values('percent_households_below_poverty')"
   ]
  },
  {
   "cell_type": "markdown",
   "id": "6ee92c78",
   "metadata": {},
   "source": [
    "Now we're finish let's save the new csv!"
   ]
  },
  {
   "cell_type": "code",
   "execution_count": 25,
   "id": "8a9c8fa3",
   "metadata": {},
   "outputs": [],
   "source": [
    "df_economic_copy.to_csv('./csv/chicago_economics.csv')"
   ]
  }
 ],
 "metadata": {
  "kernelspec": {
   "display_name": "Python 3 (ipykernel)",
   "language": "python",
   "name": "python3"
  },
  "language_info": {
   "codemirror_mode": {
    "name": "ipython",
    "version": 3
   },
   "file_extension": ".py",
   "mimetype": "text/x-python",
   "name": "python",
   "nbconvert_exporter": "python",
   "pygments_lexer": "ipython3",
   "version": "3.10.7"
  }
 },
 "nbformat": 4,
 "nbformat_minor": 5
}
