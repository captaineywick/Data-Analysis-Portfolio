{
 "cells": [
  {
   "cell_type": "markdown",
   "id": "b4fc46e0",
   "metadata": {},
   "source": [
    "# Content\n",
    "Data from a study of serious suicide attempts over three years in a predominantly rural population in Shandong, China.\n",
    "\n",
    "## Format\n",
    "A data frame with 2571 observations on the following 11 variables.\n",
    "\n",
    "- Person_ID: ID number\n",
    "- Hospitalised: yes/no\n",
    "- Died: yes/no\n",
    "- Urban: yes/no/unknown\n",
    "- Year: 2009, 2010, or 2011\n",
    "- Month: 1=Jan through 12=December\n",
    "- Sex: female/male\n",
    "- Age: years\n",
    "- Education: Education level (illiterate, primary, secondary, tertiary, or unknown)\n",
    "- Occupation: 1-10 occupation categories\n",
    "- method: 1-9 possible methods\n",
    "\n",
    "## Source\n",
    "Sun J, Guo X, Zhang J, Wang M, Jia C, Xu A (2015) \"Incidence and fatality of serious suicide attempts in a predominantly rural population in Shandong, China: a public health surveillance study,\" BMJ Open 5(2): e006762. https://doi.org/10.1136/bmjopen-2014-006762\n",
    "\n",
    "## Questions:\n",
    "1. How many survived and how many died? Hospitalised and non hospitalised.\n",
    "2. What year had the highest suicide attempts and deaths?\n",
    "3. What is the year with the highest number of deaths from attempted suicide, considering hospitalised and not hospitalised cases?\n",
    "4. What month had the highest suicide attempts and deaths?\n",
    "5. What gender had the highest suicide attempts and deaths?\n",
    "6. What occupation had the highest suicide attempts and deaths?\n",
    "7. What group of age had the highest suicide attempts and deaths?\n",
    "8. Which method was most commonly used in suicide attempts?\n",
    "9. What method of suicide has the highest fatality rate?\n",
    "10. What is the number of suicide attempts and deaths among individuals with different levels of education, such as primary, secondary, and tertiary?\n",
    "\n",
    "## Conclusion\n",
    "\n",
    "In conclusion, the dataset highlights the serious issue of attempted suicide, with an overall fatality rate of 48.85%. Those who did not receive hospitalization had a 100% fatality rate, while hospitalized individuals had a lower rate of 15.33%. It is crucial to note that the survival rate for those who received hospitalization was 84.67%, whereas for those who did not, the survival rate was 0%.\n",
    "\n",
    "It is deeply concerning that drowning, hanging, and jumping had reported fatality rates of 100%, 97.22%, and 80%, respectively. This highlights the crucial need to increase awareness about the risks associated with different suicide methods and implement effective prevention measures.\n",
    "\n",
    "Pesticide ingestion was the most commonly used method, accounting for 68.77% of cases, followed by hanging at 16.76%. Pesticide ingestion had a high fatality rate of 43.55%, underscoring the urgent need to address this issue and prevent its use as a suicide method.\n",
    "\n",
    "Notably, farmers accounted for 79.04% of the total 2571 suicide attempts, which helps to explain the high prevalence of pesticide ingestion as a method of suicide.\n",
    "\n",
    "Given the sensitivity of this issue, it is essential to approach it with empathy and compassion and emphasize the importance of providing support and resources to individuals struggling with suicidal thoughts. Preventing suicide requires a multifaceted approach, including early identification, intervention, and ongoing support."
   ]
  },
  {
   "cell_type": "code",
   "execution_count": 1,
   "id": "ccf00748",
   "metadata": {},
   "outputs": [],
   "source": [
    "import pandas as pd"
   ]
  },
  {
   "cell_type": "markdown",
   "id": "fdebd8c4",
   "metadata": {},
   "source": [
    "The data is in CSV format, I'll insert it to SQLite then do data manipulations to answer my questions."
   ]
  },
  {
   "cell_type": "code",
   "execution_count": 2,
   "id": "a01656b1",
   "metadata": {},
   "outputs": [
    {
     "data": {
      "text/html": [
       "<div>\n",
       "<style scoped>\n",
       "    .dataframe tbody tr th:only-of-type {\n",
       "        vertical-align: middle;\n",
       "    }\n",
       "\n",
       "    .dataframe tbody tr th {\n",
       "        vertical-align: top;\n",
       "    }\n",
       "\n",
       "    .dataframe thead th {\n",
       "        text-align: right;\n",
       "    }\n",
       "</style>\n",
       "<table border=\"1\" class=\"dataframe\">\n",
       "  <thead>\n",
       "    <tr style=\"text-align: right;\">\n",
       "      <th></th>\n",
       "      <th>person_id</th>\n",
       "      <th>hospitalised</th>\n",
       "      <th>died</th>\n",
       "      <th>urban</th>\n",
       "      <th>year</th>\n",
       "      <th>month</th>\n",
       "      <th>sex</th>\n",
       "      <th>age</th>\n",
       "      <th>education</th>\n",
       "      <th>occupation</th>\n",
       "      <th>method</th>\n",
       "    </tr>\n",
       "  </thead>\n",
       "  <tbody>\n",
       "    <tr>\n",
       "      <th>1921</th>\n",
       "      <td>1922</td>\n",
       "      <td>yes</td>\n",
       "      <td>yes</td>\n",
       "      <td>no</td>\n",
       "      <td>2009</td>\n",
       "      <td>6</td>\n",
       "      <td>male</td>\n",
       "      <td>61</td>\n",
       "      <td>Secondary</td>\n",
       "      <td>farming</td>\n",
       "      <td>Pesticide</td>\n",
       "    </tr>\n",
       "    <tr>\n",
       "      <th>2445</th>\n",
       "      <td>2446</td>\n",
       "      <td>no</td>\n",
       "      <td>yes</td>\n",
       "      <td>no</td>\n",
       "      <td>2011</td>\n",
       "      <td>12</td>\n",
       "      <td>male</td>\n",
       "      <td>56</td>\n",
       "      <td>Secondary</td>\n",
       "      <td>farming</td>\n",
       "      <td>Pesticide</td>\n",
       "    </tr>\n",
       "    <tr>\n",
       "      <th>237</th>\n",
       "      <td>238</td>\n",
       "      <td>yes</td>\n",
       "      <td>no</td>\n",
       "      <td>no</td>\n",
       "      <td>2009</td>\n",
       "      <td>1</td>\n",
       "      <td>female</td>\n",
       "      <td>89</td>\n",
       "      <td>primary</td>\n",
       "      <td>others/unknown</td>\n",
       "      <td>Other poison</td>\n",
       "    </tr>\n",
       "    <tr>\n",
       "      <th>546</th>\n",
       "      <td>547</td>\n",
       "      <td>yes</td>\n",
       "      <td>no</td>\n",
       "      <td>no</td>\n",
       "      <td>2010</td>\n",
       "      <td>6</td>\n",
       "      <td>male</td>\n",
       "      <td>19</td>\n",
       "      <td>unknown</td>\n",
       "      <td>others/unknown</td>\n",
       "      <td>Pesticide</td>\n",
       "    </tr>\n",
       "    <tr>\n",
       "      <th>474</th>\n",
       "      <td>475</td>\n",
       "      <td>yes</td>\n",
       "      <td>yes</td>\n",
       "      <td>no</td>\n",
       "      <td>2009</td>\n",
       "      <td>8</td>\n",
       "      <td>female</td>\n",
       "      <td>86</td>\n",
       "      <td>iliterate</td>\n",
       "      <td>farming</td>\n",
       "      <td>Pesticide</td>\n",
       "    </tr>\n",
       "  </tbody>\n",
       "</table>\n",
       "</div>"
      ],
      "text/plain": [
       "      person_id hospitalised died urban  year  month     sex  age  education  \\\n",
       "1921       1922          yes  yes    no  2009      6    male   61  Secondary   \n",
       "2445       2446           no  yes    no  2011     12    male   56  Secondary   \n",
       "237         238          yes   no    no  2009      1  female   89    primary   \n",
       "546         547          yes   no    no  2010      6    male   19    unknown   \n",
       "474         475          yes  yes    no  2009      8  female   86  iliterate   \n",
       "\n",
       "          occupation        method  \n",
       "1921         farming     Pesticide  \n",
       "2445         farming     Pesticide  \n",
       "237   others/unknown  Other poison  \n",
       "546   others/unknown     Pesticide  \n",
       "474          farming     Pesticide  "
      ]
     },
     "execution_count": 2,
     "metadata": {},
     "output_type": "execute_result"
    }
   ],
   "source": [
    "df = pd.read_csv(r'SuicideChina.csv').drop(columns=[\"Unnamed: 0\"])\n",
    "df.columns = df.columns.str.lower()\n",
    "df.sample(5)"
   ]
  },
  {
   "cell_type": "code",
   "execution_count": 3,
   "id": "a60643ac",
   "metadata": {},
   "outputs": [
    {
     "data": {
      "text/plain": [
       "person_id       2571\n",
       "hospitalised       2\n",
       "died               2\n",
       "urban              3\n",
       "year               3\n",
       "month             12\n",
       "sex                2\n",
       "age               87\n",
       "education          5\n",
       "occupation        10\n",
       "method             9\n",
       "dtype: int64"
      ]
     },
     "execution_count": 3,
     "metadata": {},
     "output_type": "execute_result"
    }
   ],
   "source": [
    "df.nunique()"
   ]
  },
  {
   "cell_type": "code",
   "execution_count": 4,
   "id": "74d4df9c",
   "metadata": {},
   "outputs": [
    {
     "data": {
      "text/html": [
       "<div>\n",
       "<style scoped>\n",
       "    .dataframe tbody tr th:only-of-type {\n",
       "        vertical-align: middle;\n",
       "    }\n",
       "\n",
       "    .dataframe tbody tr th {\n",
       "        vertical-align: top;\n",
       "    }\n",
       "\n",
       "    .dataframe thead th {\n",
       "        text-align: right;\n",
       "    }\n",
       "</style>\n",
       "<table border=\"1\" class=\"dataframe\">\n",
       "  <thead>\n",
       "    <tr style=\"text-align: right;\">\n",
       "      <th></th>\n",
       "      <th>person_id</th>\n",
       "      <th>year</th>\n",
       "      <th>month</th>\n",
       "      <th>age</th>\n",
       "    </tr>\n",
       "  </thead>\n",
       "  <tbody>\n",
       "    <tr>\n",
       "      <th>count</th>\n",
       "      <td>2571.00</td>\n",
       "      <td>2571.00</td>\n",
       "      <td>2571.0</td>\n",
       "      <td>2571.00</td>\n",
       "    </tr>\n",
       "    <tr>\n",
       "      <th>mean</th>\n",
       "      <td>1286.00</td>\n",
       "      <td>2010.05</td>\n",
       "      <td>6.3</td>\n",
       "      <td>52.63</td>\n",
       "    </tr>\n",
       "    <tr>\n",
       "      <th>std</th>\n",
       "      <td>742.33</td>\n",
       "      <td>0.79</td>\n",
       "      <td>3.2</td>\n",
       "      <td>19.78</td>\n",
       "    </tr>\n",
       "    <tr>\n",
       "      <th>min</th>\n",
       "      <td>1.00</td>\n",
       "      <td>2009.00</td>\n",
       "      <td>1.0</td>\n",
       "      <td>12.00</td>\n",
       "    </tr>\n",
       "    <tr>\n",
       "      <th>25%</th>\n",
       "      <td>643.50</td>\n",
       "      <td>2009.00</td>\n",
       "      <td>4.0</td>\n",
       "      <td>37.00</td>\n",
       "    </tr>\n",
       "    <tr>\n",
       "      <th>50%</th>\n",
       "      <td>1286.00</td>\n",
       "      <td>2010.00</td>\n",
       "      <td>6.0</td>\n",
       "      <td>53.00</td>\n",
       "    </tr>\n",
       "    <tr>\n",
       "      <th>75%</th>\n",
       "      <td>1928.50</td>\n",
       "      <td>2011.00</td>\n",
       "      <td>9.0</td>\n",
       "      <td>69.00</td>\n",
       "    </tr>\n",
       "    <tr>\n",
       "      <th>max</th>\n",
       "      <td>2571.00</td>\n",
       "      <td>2011.00</td>\n",
       "      <td>12.0</td>\n",
       "      <td>100.00</td>\n",
       "    </tr>\n",
       "  </tbody>\n",
       "</table>\n",
       "</div>"
      ],
      "text/plain": [
       "       person_id     year   month      age\n",
       "count    2571.00  2571.00  2571.0  2571.00\n",
       "mean     1286.00  2010.05     6.3    52.63\n",
       "std       742.33     0.79     3.2    19.78\n",
       "min         1.00  2009.00     1.0    12.00\n",
       "25%       643.50  2009.00     4.0    37.00\n",
       "50%      1286.00  2010.00     6.0    53.00\n",
       "75%      1928.50  2011.00     9.0    69.00\n",
       "max      2571.00  2011.00    12.0   100.00"
      ]
     },
     "execution_count": 4,
     "metadata": {},
     "output_type": "execute_result"
    }
   ],
   "source": [
    "df.describe().round(2)"
   ]
  },
  {
   "cell_type": "code",
   "execution_count": 5,
   "id": "a9ceafa7",
   "metadata": {},
   "outputs": [
    {
     "data": {
      "text/plain": [
       "Secondary    1280\n",
       "primary       659\n",
       "iliterate     533\n",
       "unknown        80\n",
       "Tertiary       19\n",
       "Name: education, dtype: int64"
      ]
     },
     "execution_count": 5,
     "metadata": {},
     "output_type": "execute_result"
    }
   ],
   "source": [
    "df.education.value_counts()"
   ]
  },
  {
   "cell_type": "markdown",
   "id": "bb01f5d4",
   "metadata": {},
   "source": [
    "We have a typo in our data. Iliterate should be illiterate, we'll fix this before creating the database."
   ]
  },
  {
   "cell_type": "code",
   "execution_count": 6,
   "id": "23037564",
   "metadata": {},
   "outputs": [
    {
     "data": {
      "text/plain": [
       "Secondary     1280\n",
       "primary        659\n",
       "illiterate     533\n",
       "unknown         80\n",
       "Tertiary        19\n",
       "Name: education, dtype: int64"
      ]
     },
     "execution_count": 6,
     "metadata": {},
     "output_type": "execute_result"
    }
   ],
   "source": [
    "df.education = df.education.replace(to_replace='iliterate', value='illiterate')\n",
    "df.education.value_counts()"
   ]
  },
  {
   "cell_type": "markdown",
   "id": "8f2f5caf",
   "metadata": {},
   "source": [
    "# Data Wrangling"
   ]
  },
  {
   "cell_type": "code",
   "execution_count": 7,
   "id": "1a735ea2",
   "metadata": {},
   "outputs": [],
   "source": [
    "%load_ext sql\n",
    "%sql sqlite:///suicide_attempts.db"
   ]
  },
  {
   "cell_type": "markdown",
   "id": "02a50b8f",
   "metadata": {},
   "source": [
    "## Creating the database"
   ]
  },
  {
   "cell_type": "markdown",
   "id": "cdb0a9c9",
   "metadata": {},
   "source": [
    "Let's load the SQL in Jupyter and create a Database."
   ]
  },
  {
   "cell_type": "code",
   "execution_count": 8,
   "id": "b1714d67",
   "metadata": {},
   "outputs": [
    {
     "name": "stdout",
     "output_type": "stream",
     "text": [
      "Done.\n"
     ]
    },
    {
     "data": {
      "text/plain": [
       "[]"
      ]
     },
     "execution_count": 8,
     "metadata": {},
     "output_type": "execute_result"
    }
   ],
   "source": [
    "%%sql sqlite://\n",
    "\n",
    "CREATE TABLE shangdong_china (\n",
    "    Person_ID INTEGER PRIMARY KEY,\n",
    "    Hospitalised TEXT COLLATE NOCASE CHECK(Hospitalised IN ('yes', 'no')),\n",
    "    Died TEXT COLLATE NOCASE CHECK(Died IN ('yes', 'no')),\n",
    "    Urban TEXT COLLATE NOCASE CHECK(Urban IN ('yes', 'no', 'unknown')),\n",
    "    Year INTEGER CHECK(Year IN (2009, 2010, 2011)),\n",
    "    Month INTEGER CHECK(Month BETWEEN 1 AND 12),\n",
    "    Sex TEXT COLLATE NOCASE CHECK(Sex IN ('female', 'male')),\n",
    "    Age INTEGER,\n",
    "    Education TEXT COLLATE NOCASE CHECK(Education IN ('illiterate', 'primary', 'secondary', 'tertiary', 'unknown')),\n",
    "    Occupation TEXT,\n",
    "    Method TEXT\n",
    ")"
   ]
  },
  {
   "cell_type": "markdown",
   "id": "69124d7c",
   "metadata": {},
   "source": [
    "I want to add some constraints to ensure that the data we are getting from the **CSV** file is correct based on its format. Additionally, I want to make sure that the string comparisons are case-insensitive. To achieve this, I will use the **COLLATE NOCASE** clause in the **CHECK** constraints.\n",
    "\n",
    "Let's view the table that we created"
   ]
  },
  {
   "cell_type": "code",
   "execution_count": 9,
   "id": "2c304d42",
   "metadata": {},
   "outputs": [
    {
     "name": "stdout",
     "output_type": "stream",
     "text": [
      "Done.\n"
     ]
    },
    {
     "data": {
      "text/html": [
       "<table>\n",
       "    <thead>\n",
       "        <tr>\n",
       "            <th>cid</th>\n",
       "            <th>name</th>\n",
       "            <th>type</th>\n",
       "            <th>notnull</th>\n",
       "            <th>dflt_value</th>\n",
       "            <th>pk</th>\n",
       "        </tr>\n",
       "    </thead>\n",
       "    <tbody>\n",
       "        <tr>\n",
       "            <td>0</td>\n",
       "            <td>Person_ID</td>\n",
       "            <td>INTEGER</td>\n",
       "            <td>0</td>\n",
       "            <td>None</td>\n",
       "            <td>1</td>\n",
       "        </tr>\n",
       "        <tr>\n",
       "            <td>1</td>\n",
       "            <td>Hospitalised</td>\n",
       "            <td>TEXT</td>\n",
       "            <td>0</td>\n",
       "            <td>None</td>\n",
       "            <td>0</td>\n",
       "        </tr>\n",
       "        <tr>\n",
       "            <td>2</td>\n",
       "            <td>Died</td>\n",
       "            <td>TEXT</td>\n",
       "            <td>0</td>\n",
       "            <td>None</td>\n",
       "            <td>0</td>\n",
       "        </tr>\n",
       "        <tr>\n",
       "            <td>3</td>\n",
       "            <td>Urban</td>\n",
       "            <td>TEXT</td>\n",
       "            <td>0</td>\n",
       "            <td>None</td>\n",
       "            <td>0</td>\n",
       "        </tr>\n",
       "        <tr>\n",
       "            <td>4</td>\n",
       "            <td>Year</td>\n",
       "            <td>INTEGER</td>\n",
       "            <td>0</td>\n",
       "            <td>None</td>\n",
       "            <td>0</td>\n",
       "        </tr>\n",
       "        <tr>\n",
       "            <td>5</td>\n",
       "            <td>Month</td>\n",
       "            <td>INTEGER</td>\n",
       "            <td>0</td>\n",
       "            <td>None</td>\n",
       "            <td>0</td>\n",
       "        </tr>\n",
       "        <tr>\n",
       "            <td>6</td>\n",
       "            <td>Sex</td>\n",
       "            <td>TEXT</td>\n",
       "            <td>0</td>\n",
       "            <td>None</td>\n",
       "            <td>0</td>\n",
       "        </tr>\n",
       "        <tr>\n",
       "            <td>7</td>\n",
       "            <td>Age</td>\n",
       "            <td>INTEGER</td>\n",
       "            <td>0</td>\n",
       "            <td>None</td>\n",
       "            <td>0</td>\n",
       "        </tr>\n",
       "        <tr>\n",
       "            <td>8</td>\n",
       "            <td>Education</td>\n",
       "            <td>TEXT</td>\n",
       "            <td>0</td>\n",
       "            <td>None</td>\n",
       "            <td>0</td>\n",
       "        </tr>\n",
       "        <tr>\n",
       "            <td>9</td>\n",
       "            <td>Occupation</td>\n",
       "            <td>TEXT</td>\n",
       "            <td>0</td>\n",
       "            <td>None</td>\n",
       "            <td>0</td>\n",
       "        </tr>\n",
       "        <tr>\n",
       "            <td>10</td>\n",
       "            <td>Method</td>\n",
       "            <td>TEXT</td>\n",
       "            <td>0</td>\n",
       "            <td>None</td>\n",
       "            <td>0</td>\n",
       "        </tr>\n",
       "    </tbody>\n",
       "</table>"
      ],
      "text/plain": [
       "[(0, 'Person_ID', 'INTEGER', 0, None, 1),\n",
       " (1, 'Hospitalised', 'TEXT', 0, None, 0),\n",
       " (2, 'Died', 'TEXT', 0, None, 0),\n",
       " (3, 'Urban', 'TEXT', 0, None, 0),\n",
       " (4, 'Year', 'INTEGER', 0, None, 0),\n",
       " (5, 'Month', 'INTEGER', 0, None, 0),\n",
       " (6, 'Sex', 'TEXT', 0, None, 0),\n",
       " (7, 'Age', 'INTEGER', 0, None, 0),\n",
       " (8, 'Education', 'TEXT', 0, None, 0),\n",
       " (9, 'Occupation', 'TEXT', 0, None, 0),\n",
       " (10, 'Method', 'TEXT', 0, None, 0)]"
      ]
     },
     "execution_count": 9,
     "metadata": {},
     "output_type": "execute_result"
    }
   ],
   "source": [
    "%%sql sqlite://\n",
    "\n",
    "PRAGMA table_info(shangdong_china)"
   ]
  },
  {
   "cell_type": "markdown",
   "id": "8d1509eb",
   "metadata": {},
   "source": [
    "## Inserting the data"
   ]
  },
  {
   "cell_type": "markdown",
   "id": "d9ac14ca",
   "metadata": {},
   "source": [
    "Now I'll insert the CSV to our SQL. In pandas we can use .to_sql method to do it."
   ]
  },
  {
   "cell_type": "code",
   "execution_count": 10,
   "id": "6dafe44c",
   "metadata": {},
   "outputs": [
    {
     "data": {
      "text/plain": [
       "2571"
      ]
     },
     "execution_count": 10,
     "metadata": {},
     "output_type": "execute_result"
    }
   ],
   "source": [
    "import sqlite3\n",
    "\n",
    "conn = sqlite3.connect('suicide_attempts.db')\n",
    "df.to_sql('shangdong_china', conn, if_exists='append', index=False)"
   ]
  },
  {
   "cell_type": "markdown",
   "id": "ea63f69f",
   "metadata": {},
   "source": [
    "## Cleaning the data"
   ]
  },
  {
   "cell_type": "markdown",
   "id": "cabe4cc8",
   "metadata": {},
   "source": [
    "Let's view the database, I'll view it randomly so I can get a hold of the information on what this data is."
   ]
  },
  {
   "cell_type": "code",
   "execution_count": 11,
   "id": "09927061",
   "metadata": {},
   "outputs": [
    {
     "name": "stdout",
     "output_type": "stream",
     "text": [
      "Done.\n"
     ]
    },
    {
     "data": {
      "text/html": [
       "<table>\n",
       "    <thead>\n",
       "        <tr>\n",
       "            <th>Person_ID</th>\n",
       "            <th>Hospitalised</th>\n",
       "            <th>Died</th>\n",
       "            <th>Urban</th>\n",
       "            <th>Year</th>\n",
       "            <th>Month</th>\n",
       "            <th>Sex</th>\n",
       "            <th>Age</th>\n",
       "            <th>Education</th>\n",
       "            <th>Occupation</th>\n",
       "            <th>Method</th>\n",
       "        </tr>\n",
       "    </thead>\n",
       "    <tbody>\n",
       "        <tr>\n",
       "            <td>2018</td>\n",
       "            <td>yes</td>\n",
       "            <td>yes</td>\n",
       "            <td>no</td>\n",
       "            <td>2009</td>\n",
       "            <td>3</td>\n",
       "            <td>female</td>\n",
       "            <td>84</td>\n",
       "            <td>Secondary</td>\n",
       "            <td>farming</td>\n",
       "            <td>Pesticide</td>\n",
       "        </tr>\n",
       "        <tr>\n",
       "            <td>1770</td>\n",
       "            <td>no</td>\n",
       "            <td>yes</td>\n",
       "            <td>no</td>\n",
       "            <td>2009</td>\n",
       "            <td>8</td>\n",
       "            <td>female</td>\n",
       "            <td>83</td>\n",
       "            <td>primary</td>\n",
       "            <td>farming</td>\n",
       "            <td>Hanging</td>\n",
       "        </tr>\n",
       "        <tr>\n",
       "            <td>1506</td>\n",
       "            <td>no</td>\n",
       "            <td>yes</td>\n",
       "            <td>no</td>\n",
       "            <td>2011</td>\n",
       "            <td>4</td>\n",
       "            <td>male</td>\n",
       "            <td>72</td>\n",
       "            <td>illiterate</td>\n",
       "            <td>farming</td>\n",
       "            <td>Hanging</td>\n",
       "        </tr>\n",
       "        <tr>\n",
       "            <td>1520</td>\n",
       "            <td>yes</td>\n",
       "            <td>no</td>\n",
       "            <td>no</td>\n",
       "            <td>2009</td>\n",
       "            <td>8</td>\n",
       "            <td>female</td>\n",
       "            <td>53</td>\n",
       "            <td>primary</td>\n",
       "            <td>household</td>\n",
       "            <td>Pesticide</td>\n",
       "        </tr>\n",
       "        <tr>\n",
       "            <td>1776</td>\n",
       "            <td>no</td>\n",
       "            <td>yes</td>\n",
       "            <td>no</td>\n",
       "            <td>2010</td>\n",
       "            <td>4</td>\n",
       "            <td>male</td>\n",
       "            <td>60</td>\n",
       "            <td>primary</td>\n",
       "            <td>farming</td>\n",
       "            <td>Hanging</td>\n",
       "        </tr>\n",
       "        <tr>\n",
       "            <td>2417</td>\n",
       "            <td>no</td>\n",
       "            <td>yes</td>\n",
       "            <td>no</td>\n",
       "            <td>2010</td>\n",
       "            <td>1</td>\n",
       "            <td>male</td>\n",
       "            <td>65</td>\n",
       "            <td>Secondary</td>\n",
       "            <td>farming</td>\n",
       "            <td>Hanging</td>\n",
       "        </tr>\n",
       "        <tr>\n",
       "            <td>1034</td>\n",
       "            <td>no</td>\n",
       "            <td>yes</td>\n",
       "            <td>no</td>\n",
       "            <td>2010</td>\n",
       "            <td>10</td>\n",
       "            <td>male</td>\n",
       "            <td>74</td>\n",
       "            <td>illiterate</td>\n",
       "            <td>farming</td>\n",
       "            <td>Hanging</td>\n",
       "        </tr>\n",
       "        <tr>\n",
       "            <td>1672</td>\n",
       "            <td>yes</td>\n",
       "            <td>no</td>\n",
       "            <td>no</td>\n",
       "            <td>2009</td>\n",
       "            <td>9</td>\n",
       "            <td>female</td>\n",
       "            <td>73</td>\n",
       "            <td>primary</td>\n",
       "            <td>farming</td>\n",
       "            <td>Pesticide</td>\n",
       "        </tr>\n",
       "        <tr>\n",
       "            <td>1938</td>\n",
       "            <td>no</td>\n",
       "            <td>yes</td>\n",
       "            <td>no</td>\n",
       "            <td>2010</td>\n",
       "            <td>9</td>\n",
       "            <td>male</td>\n",
       "            <td>45</td>\n",
       "            <td>Secondary</td>\n",
       "            <td>farming</td>\n",
       "            <td>Hanging</td>\n",
       "        </tr>\n",
       "        <tr>\n",
       "            <td>1755</td>\n",
       "            <td>yes</td>\n",
       "            <td>yes</td>\n",
       "            <td>no</td>\n",
       "            <td>2011</td>\n",
       "            <td>11</td>\n",
       "            <td>male</td>\n",
       "            <td>73</td>\n",
       "            <td>primary</td>\n",
       "            <td>farming</td>\n",
       "            <td>Pesticide</td>\n",
       "        </tr>\n",
       "    </tbody>\n",
       "</table>"
      ],
      "text/plain": [
       "[(2018, 'yes', 'yes', 'no', 2009, 3, 'female', 84, 'Secondary', 'farming', 'Pesticide'),\n",
       " (1770, 'no', 'yes', 'no', 2009, 8, 'female', 83, 'primary', 'farming', 'Hanging'),\n",
       " (1506, 'no', 'yes', 'no', 2011, 4, 'male', 72, 'illiterate', 'farming', 'Hanging'),\n",
       " (1520, 'yes', 'no', 'no', 2009, 8, 'female', 53, 'primary', 'household', 'Pesticide'),\n",
       " (1776, 'no', 'yes', 'no', 2010, 4, 'male', 60, 'primary', 'farming', 'Hanging'),\n",
       " (2417, 'no', 'yes', 'no', 2010, 1, 'male', 65, 'Secondary', 'farming', 'Hanging'),\n",
       " (1034, 'no', 'yes', 'no', 2010, 10, 'male', 74, 'illiterate', 'farming', 'Hanging'),\n",
       " (1672, 'yes', 'no', 'no', 2009, 9, 'female', 73, 'primary', 'farming', 'Pesticide'),\n",
       " (1938, 'no', 'yes', 'no', 2010, 9, 'male', 45, 'Secondary', 'farming', 'Hanging'),\n",
       " (1755, 'yes', 'yes', 'no', 2011, 11, 'male', 73, 'primary', 'farming', 'Pesticide')]"
      ]
     },
     "execution_count": 11,
     "metadata": {},
     "output_type": "execute_result"
    }
   ],
   "source": [
    "%%sql sqlite://\n",
    "\n",
    "SELECT * \n",
    "FROM shangdong_china \n",
    "ORDER BY RANDOM() \n",
    "LIMIT 10"
   ]
  },
  {
   "cell_type": "markdown",
   "id": "b2cac8f1",
   "metadata": {},
   "source": [
    "### Checking for null values\n",
    "\n",
    "#### Null values observation\n",
    "\n",
    "This table doesn't contain any null values."
   ]
  },
  {
   "cell_type": "code",
   "execution_count": 12,
   "id": "daf4e29e",
   "metadata": {},
   "outputs": [
    {
     "name": "stdout",
     "output_type": "stream",
     "text": [
      "Done.\n"
     ]
    },
    {
     "data": {
      "text/html": [
       "<table>\n",
       "    <thead>\n",
       "        <tr>\n",
       "            <th>Person_ID</th>\n",
       "            <th>Hospitalised</th>\n",
       "            <th>Died</th>\n",
       "            <th>Urban</th>\n",
       "            <th>Year</th>\n",
       "            <th>Month</th>\n",
       "            <th>Sex</th>\n",
       "            <th>Age</th>\n",
       "            <th>Education</th>\n",
       "            <th>Occupation</th>\n",
       "            <th>Method</th>\n",
       "        </tr>\n",
       "    </thead>\n",
       "    <tbody>\n",
       "    </tbody>\n",
       "</table>"
      ],
      "text/plain": [
       "[]"
      ]
     },
     "execution_count": 12,
     "metadata": {},
     "output_type": "execute_result"
    }
   ],
   "source": [
    "%%sql sqlite://\n",
    "SELECT *\n",
    "FROM shangdong_china\n",
    "WHERE Person_ID IS NULL\n",
    "OR Hospitalised IS NULL\n",
    "OR Died IS NULL\n",
    "OR Urban IS NULL\n",
    "OR Year IS NULL\n",
    "OR Month IS NULL\n",
    "OR Sex IS NULL\n",
    "OR Age IS NULL\n",
    "OR Education IS NULL\n",
    "OR Occupation IS NULL\n",
    "OR Method IS NULL"
   ]
  },
  {
   "cell_type": "markdown",
   "id": "ea07c494",
   "metadata": {},
   "source": [
    "### Checking for duplicates\n",
    "\n",
    "#### Duplicates observation\n",
    "\n",
    "It is expected that there will be duplicates in several columns such as gender, year and month of suicide attempt, hospitalised, died, urban, sex, education, occupation, and method. So, it is not necessary to drop or delete any data."
   ]
  },
  {
   "cell_type": "code",
   "execution_count": 13,
   "id": "56dbe3b7",
   "metadata": {},
   "outputs": [
    {
     "name": "stdout",
     "output_type": "stream",
     "text": [
      "Done.\n"
     ]
    },
    {
     "data": {
      "text/html": [
       "<table>\n",
       "    <thead>\n",
       "        <tr>\n",
       "            <th>Person_ID</th>\n",
       "            <th>duplicates</th>\n",
       "        </tr>\n",
       "    </thead>\n",
       "    <tbody>\n",
       "    </tbody>\n",
       "</table>"
      ],
      "text/plain": [
       "[]"
      ]
     },
     "execution_count": 13,
     "metadata": {},
     "output_type": "execute_result"
    }
   ],
   "source": [
    "%%sql sqlite://\n",
    "SELECT Person_ID, COUNT(Person_ID) as duplicates\n",
    "FROM shangdong_china\n",
    "GROUP BY Person_ID\n",
    "HAVING COUNT(Person_ID) > 1"
   ]
  },
  {
   "cell_type": "markdown",
   "id": "96efcd9d",
   "metadata": {},
   "source": [
    "There's no duplicate in the Person_ID which is expected from a unique id."
   ]
  },
  {
   "cell_type": "markdown",
   "id": "4d7fb188",
   "metadata": {},
   "source": [
    "# Exploratory Data Analysis"
   ]
  },
  {
   "cell_type": "code",
   "execution_count": 14,
   "id": "71cc2aef",
   "metadata": {},
   "outputs": [
    {
     "name": "stdout",
     "output_type": "stream",
     "text": [
      "Done.\n"
     ]
    },
    {
     "data": {
      "text/html": [
       "<table>\n",
       "    <thead>\n",
       "        <tr>\n",
       "            <th>Person_ID</th>\n",
       "            <th>Hospitalised</th>\n",
       "            <th>Died</th>\n",
       "            <th>Urban</th>\n",
       "            <th>Year</th>\n",
       "            <th>Month</th>\n",
       "            <th>Sex</th>\n",
       "            <th>Age</th>\n",
       "            <th>Education</th>\n",
       "            <th>Occupation</th>\n",
       "            <th>Method</th>\n",
       "        </tr>\n",
       "    </thead>\n",
       "    <tbody>\n",
       "        <tr>\n",
       "            <td>920</td>\n",
       "            <td>no</td>\n",
       "            <td>yes</td>\n",
       "            <td>yes</td>\n",
       "            <td>2010</td>\n",
       "            <td>6</td>\n",
       "            <td>male</td>\n",
       "            <td>57</td>\n",
       "            <td>Secondary</td>\n",
       "            <td>household</td>\n",
       "            <td>Jumping</td>\n",
       "        </tr>\n",
       "        <tr>\n",
       "            <td>1168</td>\n",
       "            <td>yes</td>\n",
       "            <td>no</td>\n",
       "            <td>no</td>\n",
       "            <td>2011</td>\n",
       "            <td>9</td>\n",
       "            <td>male</td>\n",
       "            <td>24</td>\n",
       "            <td>Secondary</td>\n",
       "            <td>farming</td>\n",
       "            <td>Pesticide</td>\n",
       "        </tr>\n",
       "        <tr>\n",
       "            <td>2014</td>\n",
       "            <td>yes</td>\n",
       "            <td>no</td>\n",
       "            <td>no</td>\n",
       "            <td>2009</td>\n",
       "            <td>11</td>\n",
       "            <td>male</td>\n",
       "            <td>58</td>\n",
       "            <td>Secondary</td>\n",
       "            <td>farming</td>\n",
       "            <td>Pesticide</td>\n",
       "        </tr>\n",
       "        <tr>\n",
       "            <td>971</td>\n",
       "            <td>yes</td>\n",
       "            <td>yes</td>\n",
       "            <td>yes</td>\n",
       "            <td>2011</td>\n",
       "            <td>11</td>\n",
       "            <td>male</td>\n",
       "            <td>27</td>\n",
       "            <td>Secondary</td>\n",
       "            <td>others/unknown</td>\n",
       "            <td>Poison unspec</td>\n",
       "        </tr>\n",
       "        <tr>\n",
       "            <td>1794</td>\n",
       "            <td>yes</td>\n",
       "            <td>no</td>\n",
       "            <td>no</td>\n",
       "            <td>2009</td>\n",
       "            <td>5</td>\n",
       "            <td>female</td>\n",
       "            <td>25</td>\n",
       "            <td>Secondary</td>\n",
       "            <td>farming</td>\n",
       "            <td>Pesticide</td>\n",
       "        </tr>\n",
       "    </tbody>\n",
       "</table>"
      ],
      "text/plain": [
       "[(920, 'no', 'yes', 'yes', 2010, 6, 'male', 57, 'Secondary', 'household', 'Jumping'),\n",
       " (1168, 'yes', 'no', 'no', 2011, 9, 'male', 24, 'Secondary', 'farming', 'Pesticide'),\n",
       " (2014, 'yes', 'no', 'no', 2009, 11, 'male', 58, 'Secondary', 'farming', 'Pesticide'),\n",
       " (971, 'yes', 'yes', 'yes', 2011, 11, 'male', 27, 'Secondary', 'others/unknown', 'Poison unspec'),\n",
       " (1794, 'yes', 'no', 'no', 2009, 5, 'female', 25, 'Secondary', 'farming', 'Pesticide')]"
      ]
     },
     "execution_count": 14,
     "metadata": {},
     "output_type": "execute_result"
    }
   ],
   "source": [
    "%%sql sqlite://\n",
    "\n",
    "SELECT * \n",
    "FROM shangdong_china \n",
    "ORDER BY RANDOM() \n",
    "LIMIT 5"
   ]
  },
  {
   "cell_type": "markdown",
   "id": "e5ca05a6",
   "metadata": {},
   "source": [
    "## Question: How many survived and how many died? Hospitalised and non hospitalised.\n",
    "\n",
    "### Answer:\n",
    "\n",
    "A total of **2571 suicide attempts** were recorded, with **1256 resulting in death**, and **1315 resulting in survival**.\n",
    "\n",
    "**1553 people were hospitalised** and **1018 people were not hospitalised**. Out of those hospitalised, **238 individuals died** while **1315 individuals survived**. On the other hand, out of the **1018 people who were not hospitalised, all of them died**."
   ]
  },
  {
   "cell_type": "code",
   "execution_count": 15,
   "id": "bc403f6f",
   "metadata": {},
   "outputs": [
    {
     "name": "stdout",
     "output_type": "stream",
     "text": [
      "Done.\n"
     ]
    },
    {
     "data": {
      "text/html": [
       "<table>\n",
       "    <thead>\n",
       "        <tr>\n",
       "            <th>suicide_attempts</th>\n",
       "            <th>survivors</th>\n",
       "            <th>deaths</th>\n",
       "            <th>non_hospitalised</th>\n",
       "            <th>hospitalised</th>\n",
       "            <th>non_hospitalised_deaths</th>\n",
       "            <th>hospitalised_deaths</th>\n",
       "            <th>non_hospitalised_survivors</th>\n",
       "            <th>hospitalised_survivors</th>\n",
       "        </tr>\n",
       "    </thead>\n",
       "    <tbody>\n",
       "        <tr>\n",
       "            <td>2571</td>\n",
       "            <td>1315</td>\n",
       "            <td>1256</td>\n",
       "            <td>1018</td>\n",
       "            <td>1553</td>\n",
       "            <td>1018</td>\n",
       "            <td>238</td>\n",
       "            <td>0</td>\n",
       "            <td>1315</td>\n",
       "        </tr>\n",
       "    </tbody>\n",
       "</table>"
      ],
      "text/plain": [
       "[(2571, 1315, 1256, 1018, 1553, 1018, 238, 0, 1315)]"
      ]
     },
     "execution_count": 15,
     "metadata": {},
     "output_type": "execute_result"
    }
   ],
   "source": [
    "%%sql sqlite://\n",
    "    \n",
    "SELECT \n",
    "    COUNT(*) as suicide_attempts, \n",
    "    SUM(CASE WHEN Died = 'no' THEN 1 ELSE 0 END) as survivors,\n",
    "    SUM(CASE WHEN Died = 'yes' THEN 1 ELSE 0 END) as deaths,\n",
    "    SUM(CASE WHEN Hospitalised = 'no' THEN 1 ELSE 0 END) as non_hospitalised,\n",
    "    SUM(CASE WHEN Hospitalised = 'yes' THEN 1 ELSE 0 END) as hospitalised,\n",
    "    SUM(CASE WHEN Hospitalised = 'no' AND Died = 'yes' THEN 1 ELSE 0 END) as non_hospitalised_deaths,\n",
    "    SUM(CASE WHEN Hospitalised = 'yes' AND Died = 'yes' THEN 1 ELSE 0 END) as hospitalised_deaths,\n",
    "    SUM(CASE WHEN Hospitalised = 'no' AND Died = 'no' THEN 1 ELSE 0 END) as non_hospitalised_survivors,\n",
    "    SUM(CASE WHEN Hospitalised = 'yes' AND Died = 'no' THEN 1 ELSE 0 END) as hospitalised_survivors\n",
    "FROM shangdong_china"
   ]
  },
  {
   "cell_type": "markdown",
   "id": "f237ff0c",
   "metadata": {},
   "source": [
    "## Question: What year had the highest suicide attempts and deaths?\n",
    "\n",
    "### Answer:\n",
    "The year with the highest number of suicide attempts was **2010**, with a total of **956 attempts**. This was followed by **2011** with **866 attempts**, and **2009** with **749 attempts**."
   ]
  },
  {
   "cell_type": "code",
   "execution_count": 16,
   "id": "c4c74b7c",
   "metadata": {},
   "outputs": [
    {
     "name": "stdout",
     "output_type": "stream",
     "text": [
      "Done.\n"
     ]
    },
    {
     "data": {
      "text/html": [
       "<table>\n",
       "    <thead>\n",
       "        <tr>\n",
       "            <th>Year</th>\n",
       "            <th>suicide_attempts</th>\n",
       "        </tr>\n",
       "    </thead>\n",
       "    <tbody>\n",
       "        <tr>\n",
       "            <td>2009</td>\n",
       "            <td>749</td>\n",
       "        </tr>\n",
       "        <tr>\n",
       "            <td>2010</td>\n",
       "            <td>956</td>\n",
       "        </tr>\n",
       "        <tr>\n",
       "            <td>2011</td>\n",
       "            <td>866</td>\n",
       "        </tr>\n",
       "    </tbody>\n",
       "</table>"
      ],
      "text/plain": [
       "[(2009, 749), (2010, 956), (2011, 866)]"
      ]
     },
     "execution_count": 16,
     "metadata": {},
     "output_type": "execute_result"
    }
   ],
   "source": [
    "%%sql sqlite://\n",
    "\n",
    "SELECT \n",
    "    Year, \n",
    "    COUNT(*) as suicide_attempts\n",
    "FROM shangdong_china \n",
    "GROUP BY Year"
   ]
  },
  {
   "cell_type": "markdown",
   "id": "670b164f",
   "metadata": {},
   "source": [
    "## Question: What is the year with the highest number of deaths from attempted suicide, considering hospitalised and not hospitalised cases?\n",
    "\n",
    "### Answer:\n",
    "In **2010**, the number of individuals who died from attempted suicide **without hospitalization** was the highest at **398**, while the highest number of deaths for those who were **hospitalized** occurred in **2011**, with **102** individuals."
   ]
  },
  {
   "cell_type": "code",
   "execution_count": 17,
   "id": "40e5c167",
   "metadata": {},
   "outputs": [
    {
     "name": "stdout",
     "output_type": "stream",
     "text": [
      "Done.\n"
     ]
    },
    {
     "data": {
      "text/html": [
       "<table>\n",
       "    <thead>\n",
       "        <tr>\n",
       "            <th>Year</th>\n",
       "            <th>suicide_attempts</th>\n",
       "            <th>survivors</th>\n",
       "            <th>deaths</th>\n",
       "            <th>non_hospitalised</th>\n",
       "            <th>hospitalised</th>\n",
       "            <th>non_hospitalised_deaths</th>\n",
       "            <th>hospitalised_deaths</th>\n",
       "            <th>non_hospitalised_survivors</th>\n",
       "            <th>hospitalised_survivors</th>\n",
       "            <th>fatality_rate</th>\n",
       "        </tr>\n",
       "    </thead>\n",
       "    <tbody>\n",
       "        <tr>\n",
       "            <td>2009</td>\n",
       "            <td>749</td>\n",
       "            <td>423</td>\n",
       "            <td>326</td>\n",
       "            <td>279</td>\n",
       "            <td>470</td>\n",
       "            <td>279</td>\n",
       "            <td>47</td>\n",
       "            <td>0</td>\n",
       "            <td>423</td>\n",
       "            <td>43.52</td>\n",
       "        </tr>\n",
       "        <tr>\n",
       "            <td>2010</td>\n",
       "            <td>956</td>\n",
       "            <td>469</td>\n",
       "            <td>487</td>\n",
       "            <td>398</td>\n",
       "            <td>558</td>\n",
       "            <td>398</td>\n",
       "            <td>89</td>\n",
       "            <td>0</td>\n",
       "            <td>469</td>\n",
       "            <td>50.94</td>\n",
       "        </tr>\n",
       "        <tr>\n",
       "            <td>2011</td>\n",
       "            <td>866</td>\n",
       "            <td>423</td>\n",
       "            <td>443</td>\n",
       "            <td>341</td>\n",
       "            <td>525</td>\n",
       "            <td>341</td>\n",
       "            <td>102</td>\n",
       "            <td>0</td>\n",
       "            <td>423</td>\n",
       "            <td>51.15</td>\n",
       "        </tr>\n",
       "    </tbody>\n",
       "</table>"
      ],
      "text/plain": [
       "[(2009, 749, 423, 326, 279, 470, 279, 47, 0, 423, 43.52),\n",
       " (2010, 956, 469, 487, 398, 558, 398, 89, 0, 469, 50.94),\n",
       " (2011, 866, 423, 443, 341, 525, 341, 102, 0, 423, 51.15)]"
      ]
     },
     "execution_count": 17,
     "metadata": {},
     "output_type": "execute_result"
    }
   ],
   "source": [
    "%%sql sqlite://\n",
    "\n",
    "SELECT \n",
    "    Year, \n",
    "    COUNT(*) as suicide_attempts, \n",
    "    SUM(CASE WHEN Died = 'no' THEN 1 ELSE 0 END) as survivors,\n",
    "    SUM(CASE WHEN Died = 'yes' THEN 1 ELSE 0 END) as deaths,\n",
    "    SUM(CASE WHEN Hospitalised = 'no' THEN 1 ELSE 0 END) as non_hospitalised,\n",
    "    SUM(CASE WHEN Hospitalised = 'yes' THEN 1 ELSE 0 END) as hospitalised,\n",
    "    SUM(CASE WHEN Hospitalised = 'no' AND Died = 'yes' THEN 1 ELSE 0 END) as non_hospitalised_deaths,\n",
    "    SUM(CASE WHEN Hospitalised = 'yes' AND Died = 'yes' THEN 1 ELSE 0 END) as hospitalised_deaths,\n",
    "    SUM(CASE WHEN Hospitalised = 'no' AND Died = 'no' THEN 1 ELSE 0 END) as non_hospitalised_survivors,\n",
    "    SUM(CASE WHEN Hospitalised = 'yes' AND Died = 'no' THEN 1 ELSE 0 END) as hospitalised_survivors,\n",
    "    ROUND((CAST(SUM(CASE WHEN Died = 'yes' THEN 1 ELSE 0 END) AS FLOAT) / COUNT(*)) * 100, 2) as fatality_rate\n",
    "FROM shangdong_china \n",
    "GROUP BY Year"
   ]
  },
  {
   "cell_type": "markdown",
   "id": "9c57bc4d",
   "metadata": {},
   "source": [
    "## Question: What month had the highest suicide attempts and deaths?\n",
    "\n",
    "### Answer:\n",
    "\n",
    "Between 2009 and 2011, **June** recorded the **highest number of suicide attempts** with a total of **284**, while **December** had the **lowest** with **137 attempts**. **May** recorded the **highest number of deaths** with **135**, while **November** had the **lowest** with **75 deaths**. \n",
    "\n",
    "**March** had the **highest fatality rate** for attempted suicide at **60.53%**."
   ]
  },
  {
   "cell_type": "code",
   "execution_count": 18,
   "id": "683727a5",
   "metadata": {},
   "outputs": [
    {
     "name": "stdout",
     "output_type": "stream",
     "text": [
      "Done.\n"
     ]
    },
    {
     "data": {
      "text/html": [
       "<table>\n",
       "    <thead>\n",
       "        <tr>\n",
       "            <th>Month</th>\n",
       "            <th>suicide_attempts</th>\n",
       "            <th>total_survivors</th>\n",
       "            <th>total_deaths</th>\n",
       "            <th>fatality_rate</th>\n",
       "        </tr>\n",
       "    </thead>\n",
       "    <tbody>\n",
       "        <tr>\n",
       "            <td>1</td>\n",
       "            <td>201</td>\n",
       "            <td>101</td>\n",
       "            <td>100</td>\n",
       "            <td>49.75</td>\n",
       "        </tr>\n",
       "        <tr>\n",
       "            <td>2</td>\n",
       "            <td>208</td>\n",
       "            <td>103</td>\n",
       "            <td>105</td>\n",
       "            <td>50.48</td>\n",
       "        </tr>\n",
       "        <tr>\n",
       "            <td>3</td>\n",
       "            <td>190</td>\n",
       "            <td>75</td>\n",
       "            <td>115</td>\n",
       "            <td>60.53</td>\n",
       "        </tr>\n",
       "        <tr>\n",
       "            <td>4</td>\n",
       "            <td>208</td>\n",
       "            <td>102</td>\n",
       "            <td>106</td>\n",
       "            <td>50.96</td>\n",
       "        </tr>\n",
       "        <tr>\n",
       "            <td>5</td>\n",
       "            <td>263</td>\n",
       "            <td>128</td>\n",
       "            <td>135</td>\n",
       "            <td>51.33</td>\n",
       "        </tr>\n",
       "        <tr>\n",
       "            <td>6</td>\n",
       "            <td>284</td>\n",
       "            <td>154</td>\n",
       "            <td>130</td>\n",
       "            <td>45.77</td>\n",
       "        </tr>\n",
       "        <tr>\n",
       "            <td>7</td>\n",
       "            <td>247</td>\n",
       "            <td>144</td>\n",
       "            <td>103</td>\n",
       "            <td>41.7</td>\n",
       "        </tr>\n",
       "        <tr>\n",
       "            <td>8</td>\n",
       "            <td>229</td>\n",
       "            <td>141</td>\n",
       "            <td>88</td>\n",
       "            <td>38.43</td>\n",
       "        </tr>\n",
       "        <tr>\n",
       "            <td>9</td>\n",
       "            <td>241</td>\n",
       "            <td>134</td>\n",
       "            <td>107</td>\n",
       "            <td>44.4</td>\n",
       "        </tr>\n",
       "        <tr>\n",
       "            <td>10</td>\n",
       "            <td>211</td>\n",
       "            <td>100</td>\n",
       "            <td>111</td>\n",
       "            <td>52.61</td>\n",
       "        </tr>\n",
       "        <tr>\n",
       "            <td>11</td>\n",
       "            <td>153</td>\n",
       "            <td>78</td>\n",
       "            <td>75</td>\n",
       "            <td>49.02</td>\n",
       "        </tr>\n",
       "        <tr>\n",
       "            <td>12</td>\n",
       "            <td>136</td>\n",
       "            <td>55</td>\n",
       "            <td>81</td>\n",
       "            <td>59.56</td>\n",
       "        </tr>\n",
       "    </tbody>\n",
       "</table>"
      ],
      "text/plain": [
       "[(1, 201, 101, 100, 49.75),\n",
       " (2, 208, 103, 105, 50.48),\n",
       " (3, 190, 75, 115, 60.53),\n",
       " (4, 208, 102, 106, 50.96),\n",
       " (5, 263, 128, 135, 51.33),\n",
       " (6, 284, 154, 130, 45.77),\n",
       " (7, 247, 144, 103, 41.7),\n",
       " (8, 229, 141, 88, 38.43),\n",
       " (9, 241, 134, 107, 44.4),\n",
       " (10, 211, 100, 111, 52.61),\n",
       " (11, 153, 78, 75, 49.02),\n",
       " (12, 136, 55, 81, 59.56)]"
      ]
     },
     "execution_count": 18,
     "metadata": {},
     "output_type": "execute_result"
    }
   ],
   "source": [
    "%%sql sqlite://\n",
    "\n",
    "SELECT \n",
    "    Month, \n",
    "    COUNT(*) as suicide_attempts, \n",
    "    SUM(CASE WHEN Died = 'no' THEN 1 ELSE 0 END) as total_survivors,\n",
    "    SUM(CASE WHEN Died = 'yes' THEN 1 ELSE 0 END) as total_deaths,\n",
    "    ROUND((CAST(SUM(CASE WHEN Died = 'yes' THEN 1 ELSE 0 END) AS FLOAT) / COUNT(*)) * 100, 2) as fatality_rate\n",
    "FROM shangdong_china \n",
    "GROUP BY Month"
   ]
  },
  {
   "cell_type": "markdown",
   "id": "23beea07",
   "metadata": {},
   "source": [
    "## Question: What gender had the highest suicide attempts and deaths?\n",
    "\n",
    "### Answer:\n",
    "In terms of **suicide attempts**, **females had a higher number than males**, with **1328 attempts** compared to **1243 attempts for males**. However, when it comes to **deaths**, **males had a higher number** with a total of **669 deaths**, while **females** had **587 deaths**."
   ]
  },
  {
   "cell_type": "code",
   "execution_count": 19,
   "id": "230396a7",
   "metadata": {},
   "outputs": [
    {
     "name": "stdout",
     "output_type": "stream",
     "text": [
      "Done.\n"
     ]
    },
    {
     "data": {
      "text/html": [
       "<table>\n",
       "    <thead>\n",
       "        <tr>\n",
       "            <th>Sex</th>\n",
       "            <th>suicide_attempts</th>\n",
       "            <th>total_survivors</th>\n",
       "            <th>total_deaths</th>\n",
       "            <th>fatality_rate</th>\n",
       "        </tr>\n",
       "    </thead>\n",
       "    <tbody>\n",
       "        <tr>\n",
       "            <td>female</td>\n",
       "            <td>1328</td>\n",
       "            <td>741</td>\n",
       "            <td>587</td>\n",
       "            <td>44.2</td>\n",
       "        </tr>\n",
       "        <tr>\n",
       "            <td>male</td>\n",
       "            <td>1243</td>\n",
       "            <td>574</td>\n",
       "            <td>669</td>\n",
       "            <td>53.82</td>\n",
       "        </tr>\n",
       "    </tbody>\n",
       "</table>"
      ],
      "text/plain": [
       "[('female', 1328, 741, 587, 44.2), ('male', 1243, 574, 669, 53.82)]"
      ]
     },
     "execution_count": 19,
     "metadata": {},
     "output_type": "execute_result"
    }
   ],
   "source": [
    "%%sql sqlite://\n",
    "\n",
    "SELECT \n",
    "    Sex, \n",
    "    COUNT(*) as suicide_attempts, \n",
    "    SUM(CASE WHEN Died = 'no' THEN 1 ELSE 0 END) as total_survivors,\n",
    "    SUM(CASE WHEN Died = 'yes' THEN 1 ELSE 0 END) as total_deaths,\n",
    "    ROUND((CAST(SUM(CASE WHEN Died = 'yes' THEN 1 ELSE 0 END) AS FLOAT) / COUNT(*)) * 100, 2) as fatality_rate\n",
    "FROM shangdong_china \n",
    "GROUP BY Sex\n",
    "ORDER BY suicide_attempts DESC"
   ]
  },
  {
   "cell_type": "markdown",
   "id": "04fd30f2",
   "metadata": {},
   "source": [
    "## Question: What occupation had the highest suicide attempts and deaths?\n",
    "\n",
    "### Answer:\n",
    "\n",
    "The occupation that recorded the highest number of suicide attempts and deaths was **Farmer**, with a total of **2032 attempts** and **1093 deaths**. On the other hand, **retirees** had the lowest suicide attempt rate, with only **3 attempts** and **no recorded deaths**.\n",
    "\n",
    "**Workers** had the **highest fatality rate** for attempted suicide, which was **100%**, followed by **professionals** with a rate of **70.27%**."
   ]
  },
  {
   "cell_type": "code",
   "execution_count": 20,
   "id": "ac310049",
   "metadata": {},
   "outputs": [
    {
     "name": "stdout",
     "output_type": "stream",
     "text": [
      "Done.\n"
     ]
    },
    {
     "data": {
      "text/html": [
       "<table>\n",
       "    <thead>\n",
       "        <tr>\n",
       "            <th>Occupation</th>\n",
       "            <th>suicide_attempts</th>\n",
       "            <th>total_survivors</th>\n",
       "            <th>total_deaths</th>\n",
       "            <th>fatality_rate</th>\n",
       "        </tr>\n",
       "    </thead>\n",
       "    <tbody>\n",
       "        <tr>\n",
       "            <td>farming</td>\n",
       "            <td>2032</td>\n",
       "            <td>939</td>\n",
       "            <td>1093</td>\n",
       "            <td>53.79</td>\n",
       "        </tr>\n",
       "        <tr>\n",
       "            <td>household</td>\n",
       "            <td>248</td>\n",
       "            <td>154</td>\n",
       "            <td>94</td>\n",
       "            <td>37.9</td>\n",
       "        </tr>\n",
       "        <tr>\n",
       "            <td>others/unknown</td>\n",
       "            <td>156</td>\n",
       "            <td>146</td>\n",
       "            <td>10</td>\n",
       "            <td>6.41</td>\n",
       "        </tr>\n",
       "        <tr>\n",
       "            <td>professional</td>\n",
       "            <td>37</td>\n",
       "            <td>11</td>\n",
       "            <td>26</td>\n",
       "            <td>70.27</td>\n",
       "        </tr>\n",
       "        <tr>\n",
       "            <td>student</td>\n",
       "            <td>35</td>\n",
       "            <td>27</td>\n",
       "            <td>8</td>\n",
       "            <td>22.86</td>\n",
       "        </tr>\n",
       "        <tr>\n",
       "            <td>unemployed</td>\n",
       "            <td>30</td>\n",
       "            <td>23</td>\n",
       "            <td>7</td>\n",
       "            <td>23.33</td>\n",
       "        </tr>\n",
       "        <tr>\n",
       "            <td>business/service</td>\n",
       "            <td>21</td>\n",
       "            <td>12</td>\n",
       "            <td>9</td>\n",
       "            <td>42.86</td>\n",
       "        </tr>\n",
       "        <tr>\n",
       "            <td>worker</td>\n",
       "            <td>6</td>\n",
       "            <td>0</td>\n",
       "            <td>6</td>\n",
       "            <td>100.0</td>\n",
       "        </tr>\n",
       "        <tr>\n",
       "            <td>retiree</td>\n",
       "            <td>3</td>\n",
       "            <td>3</td>\n",
       "            <td>0</td>\n",
       "            <td>0.0</td>\n",
       "        </tr>\n",
       "        <tr>\n",
       "            <td>others</td>\n",
       "            <td>3</td>\n",
       "            <td>0</td>\n",
       "            <td>3</td>\n",
       "            <td>100.0</td>\n",
       "        </tr>\n",
       "    </tbody>\n",
       "</table>"
      ],
      "text/plain": [
       "[('farming', 2032, 939, 1093, 53.79),\n",
       " ('household', 248, 154, 94, 37.9),\n",
       " ('others/unknown', 156, 146, 10, 6.41),\n",
       " ('professional', 37, 11, 26, 70.27),\n",
       " ('student', 35, 27, 8, 22.86),\n",
       " ('unemployed', 30, 23, 7, 23.33),\n",
       " ('business/service', 21, 12, 9, 42.86),\n",
       " ('worker', 6, 0, 6, 100.0),\n",
       " ('retiree', 3, 3, 0, 0.0),\n",
       " ('others', 3, 0, 3, 100.0)]"
      ]
     },
     "execution_count": 20,
     "metadata": {},
     "output_type": "execute_result"
    }
   ],
   "source": [
    "%%sql sqlite://\n",
    "\n",
    "SELECT \n",
    "    Occupation, \n",
    "    COUNT(*) as suicide_attempts, \n",
    "    SUM(CASE WHEN Died = 'no' THEN 1 ELSE 0 END) as total_survivors,\n",
    "    SUM(CASE WHEN Died = 'yes' THEN 1 ELSE 0 END) as total_deaths,\n",
    "    ROUND((CAST(SUM(CASE WHEN Died = 'yes' THEN 1 ELSE 0 END) AS FLOAT) / COUNT(*)) * 100, 2) as fatality_rate\n",
    "FROM shangdong_china \n",
    "GROUP BY Occupation\n",
    "ORDER BY suicide_attempts DESC"
   ]
  },
  {
   "cell_type": "markdown",
   "id": "48b0f20b",
   "metadata": {},
   "source": [
    "## Question: What group of age had the highest suicide attempts and deaths?\n",
    "\n",
    "### Answer:\n",
    "\n",
    "The group of age that had the highest suicide attempt is **old age (60+)** with a total of **982 attempts** and **726 deaths**, while the lowest is **adolescence/teenage (10-19)** years with a total of **65 attempts** and **14 deaths**."
   ]
  },
  {
   "cell_type": "markdown",
   "id": "56478e53",
   "metadata": {},
   "source": [
    "I'll group the age by:\n",
    "- adolescence or teenage years (10-19)\n",
    "- young or early adulthood (approximately aged 20–39)\n",
    "- middle adulthood (40–59)\n",
    "- old age (60+)."
   ]
  },
  {
   "cell_type": "code",
   "execution_count": 21,
   "id": "dd9e81fc",
   "metadata": {},
   "outputs": [
    {
     "name": "stdout",
     "output_type": "stream",
     "text": [
      "Done.\n"
     ]
    },
    {
     "data": {
      "text/html": [
       "<table>\n",
       "    <thead>\n",
       "        <tr>\n",
       "            <th>age_bracket</th>\n",
       "            <th>suicide_attempts</th>\n",
       "            <th>total_survivors</th>\n",
       "            <th>total_deaths</th>\n",
       "            <th>fatality_rate</th>\n",
       "        </tr>\n",
       "    </thead>\n",
       "    <tbody>\n",
       "        <tr>\n",
       "            <td>10-19</td>\n",
       "            <td>65</td>\n",
       "            <td>51</td>\n",
       "            <td>14</td>\n",
       "            <td>21.54</td>\n",
       "        </tr>\n",
       "        <tr>\n",
       "            <td>20-39</td>\n",
       "            <td>654</td>\n",
       "            <td>518</td>\n",
       "            <td>136</td>\n",
       "            <td>20.8</td>\n",
       "        </tr>\n",
       "        <tr>\n",
       "            <td>40-59</td>\n",
       "            <td>870</td>\n",
       "            <td>490</td>\n",
       "            <td>380</td>\n",
       "            <td>43.68</td>\n",
       "        </tr>\n",
       "        <tr>\n",
       "            <td>60+</td>\n",
       "            <td>982</td>\n",
       "            <td>256</td>\n",
       "            <td>726</td>\n",
       "            <td>73.93</td>\n",
       "        </tr>\n",
       "    </tbody>\n",
       "</table>"
      ],
      "text/plain": [
       "[('10-19', 65, 51, 14, 21.54),\n",
       " ('20-39', 654, 518, 136, 20.8),\n",
       " ('40-59', 870, 490, 380, 43.68),\n",
       " ('60+', 982, 256, 726, 73.93)]"
      ]
     },
     "execution_count": 21,
     "metadata": {},
     "output_type": "execute_result"
    }
   ],
   "source": [
    "%%sql sqlite://\n",
    "\n",
    "SELECT \n",
    "    CASE \n",
    "        WHEN Age >= 10 AND Age <= 19 THEN '10-19' \n",
    "        WHEN Age >= 20 AND Age <= 39 THEN '20-39'\n",
    "        WHEN Age >= 40 AND Age <= 59 THEN '40-59'\n",
    "        WHEN Age >= 60 THEN '60+' \n",
    "        ELSE 'Unknown' \n",
    "    END AS age_bracket,\n",
    "    COUNT(*) AS suicide_attempts,\n",
    "    SUM(CASE WHEN Died = 'no' THEN 1 ELSE 0 END) as total_survivors,\n",
    "    SUM(CASE WHEN Died = 'yes' THEN 1 ELSE 0 END) as total_deaths,\n",
    "    ROUND((CAST(SUM(CASE WHEN Died = 'yes' THEN 1 ELSE 0 END) AS FLOAT) / COUNT(*)) * 100, 2) as fatality_rate\n",
    "FROM shangdong_china\n",
    "GROUP BY age_bracket\n",
    "ORDER BY age_bracket"
   ]
  },
  {
   "cell_type": "markdown",
   "id": "582f4ebe",
   "metadata": {},
   "source": [
    "## Question: Which method was most commonly used in suicide attempts?\n",
    "\n",
    "### Answer:\n",
    "\n",
    "The most commonly used method for suicide attempts was **Pesticide**, with **1768 attempts**, while the least commonly used method was **Jumping**, with only **15 attempts**."
   ]
  },
  {
   "cell_type": "code",
   "execution_count": 22,
   "id": "cfeb8d11",
   "metadata": {},
   "outputs": [
    {
     "name": "stdout",
     "output_type": "stream",
     "text": [
      "Done.\n"
     ]
    },
    {
     "data": {
      "text/html": [
       "<table>\n",
       "    <thead>\n",
       "        <tr>\n",
       "            <th>Method</th>\n",
       "            <th>suicide_attempts</th>\n",
       "        </tr>\n",
       "    </thead>\n",
       "    <tbody>\n",
       "        <tr>\n",
       "            <td>Cutting</td>\n",
       "            <td>29</td>\n",
       "        </tr>\n",
       "        <tr>\n",
       "            <td>Drowning</td>\n",
       "            <td>26</td>\n",
       "        </tr>\n",
       "        <tr>\n",
       "            <td>Hanging</td>\n",
       "            <td>431</td>\n",
       "        </tr>\n",
       "        <tr>\n",
       "            <td>Jumping</td>\n",
       "            <td>15</td>\n",
       "        </tr>\n",
       "        <tr>\n",
       "            <td>Other poison</td>\n",
       "            <td>146</td>\n",
       "        </tr>\n",
       "        <tr>\n",
       "            <td>Others</td>\n",
       "            <td>1</td>\n",
       "        </tr>\n",
       "        <tr>\n",
       "            <td>Pesticide</td>\n",
       "            <td>1768</td>\n",
       "        </tr>\n",
       "        <tr>\n",
       "            <td>Poison unspec</td>\n",
       "            <td>107</td>\n",
       "        </tr>\n",
       "        <tr>\n",
       "            <td>unspecified</td>\n",
       "            <td>48</td>\n",
       "        </tr>\n",
       "    </tbody>\n",
       "</table>"
      ],
      "text/plain": [
       "[('Cutting', 29),\n",
       " ('Drowning', 26),\n",
       " ('Hanging', 431),\n",
       " ('Jumping', 15),\n",
       " ('Other poison', 146),\n",
       " ('Others', 1),\n",
       " ('Pesticide', 1768),\n",
       " ('Poison unspec', 107),\n",
       " ('unspecified', 48)]"
      ]
     },
     "execution_count": 22,
     "metadata": {},
     "output_type": "execute_result"
    }
   ],
   "source": [
    "%%sql sqlite://\n",
    "\n",
    "SELECT Method, COUNT(*) as suicide_attempts\n",
    "FROM shangdong_china \n",
    "GROUP BY Method"
   ]
  },
  {
   "cell_type": "markdown",
   "id": "4ad872d9",
   "metadata": {},
   "source": [
    "## Question: What method of suicide has the highest fatality rate?\n",
    "\n",
    "### Answer:\n",
    "\n",
    "**Drowning** had the **highest fatality rate** at **100%**, followed by **hanging** at **97.22%**. On the other hand, **poisoning (unspecified)** had the **lowest fatality rate** at **2.8%**."
   ]
  },
  {
   "cell_type": "markdown",
   "id": "fee3b4e3",
   "metadata": {},
   "source": [
    "Fatality rate = (deaths / (cases)) * 100"
   ]
  },
  {
   "cell_type": "code",
   "execution_count": 23,
   "id": "56172e5d",
   "metadata": {},
   "outputs": [
    {
     "name": "stdout",
     "output_type": "stream",
     "text": [
      "Done.\n"
     ]
    },
    {
     "data": {
      "text/html": [
       "<table>\n",
       "    <thead>\n",
       "        <tr>\n",
       "            <th>Method</th>\n",
       "            <th>suicide_attempts</th>\n",
       "            <th>total_survivors</th>\n",
       "            <th>total_deaths</th>\n",
       "            <th>fatality_rate</th>\n",
       "        </tr>\n",
       "    </thead>\n",
       "    <tbody>\n",
       "        <tr>\n",
       "            <td>Drowning</td>\n",
       "            <td>26</td>\n",
       "            <td>0</td>\n",
       "            <td>26</td>\n",
       "            <td>100.0</td>\n",
       "        </tr>\n",
       "        <tr>\n",
       "            <td>Hanging</td>\n",
       "            <td>431</td>\n",
       "            <td>12</td>\n",
       "            <td>419</td>\n",
       "            <td>97.22</td>\n",
       "        </tr>\n",
       "        <tr>\n",
       "            <td>Jumping</td>\n",
       "            <td>15</td>\n",
       "            <td>3</td>\n",
       "            <td>12</td>\n",
       "            <td>80.0</td>\n",
       "        </tr>\n",
       "        <tr>\n",
       "            <td>Pesticide</td>\n",
       "            <td>1768</td>\n",
       "            <td>998</td>\n",
       "            <td>770</td>\n",
       "            <td>43.55</td>\n",
       "        </tr>\n",
       "        <tr>\n",
       "            <td>Cutting</td>\n",
       "            <td>29</td>\n",
       "            <td>21</td>\n",
       "            <td>8</td>\n",
       "            <td>27.59</td>\n",
       "        </tr>\n",
       "        <tr>\n",
       "            <td>Other poison</td>\n",
       "            <td>146</td>\n",
       "            <td>131</td>\n",
       "            <td>15</td>\n",
       "            <td>10.27</td>\n",
       "        </tr>\n",
       "        <tr>\n",
       "            <td>unspecified</td>\n",
       "            <td>48</td>\n",
       "            <td>45</td>\n",
       "            <td>3</td>\n",
       "            <td>6.25</td>\n",
       "        </tr>\n",
       "        <tr>\n",
       "            <td>Poison unspec</td>\n",
       "            <td>107</td>\n",
       "            <td>104</td>\n",
       "            <td>3</td>\n",
       "            <td>2.8</td>\n",
       "        </tr>\n",
       "        <tr>\n",
       "            <td>Others</td>\n",
       "            <td>1</td>\n",
       "            <td>1</td>\n",
       "            <td>0</td>\n",
       "            <td>0.0</td>\n",
       "        </tr>\n",
       "    </tbody>\n",
       "</table>"
      ],
      "text/plain": [
       "[('Drowning', 26, 0, 26, 100.0),\n",
       " ('Hanging', 431, 12, 419, 97.22),\n",
       " ('Jumping', 15, 3, 12, 80.0),\n",
       " ('Pesticide', 1768, 998, 770, 43.55),\n",
       " ('Cutting', 29, 21, 8, 27.59),\n",
       " ('Other poison', 146, 131, 15, 10.27),\n",
       " ('unspecified', 48, 45, 3, 6.25),\n",
       " ('Poison unspec', 107, 104, 3, 2.8),\n",
       " ('Others', 1, 1, 0, 0.0)]"
      ]
     },
     "execution_count": 23,
     "metadata": {},
     "output_type": "execute_result"
    }
   ],
   "source": [
    "%%sql sqlite://\n",
    "\n",
    "SELECT \n",
    "    Method, \n",
    "    COUNT(*) as suicide_attempts, \n",
    "    SUM(CASE WHEN Died = 'no' THEN 1 ELSE 0 END) as total_survivors,\n",
    "    SUM(CASE WHEN Died = 'yes' THEN 1 ELSE 0 END) as total_deaths,\n",
    "    ROUND((CAST(SUM(CASE WHEN Died = 'yes' THEN 1 ELSE 0 END) AS FLOAT) / COUNT(*)) * 100, 2) as fatality_rate\n",
    "FROM shangdong_china \n",
    "GROUP BY Method\n",
    "ORDER BY fatality_rate DESC"
   ]
  },
  {
   "cell_type": "markdown",
   "id": "9171db31",
   "metadata": {},
   "source": [
    "## Question: What is the number of suicide attempts and deaths among individuals with different levels of education, such as primary, secondary, and tertiary?\n",
    "\n",
    "### Answer:\n",
    "\n",
    "**Secondary level had the highest number of suicide attempts**, which amounted to **1280 cases**. Out of these attempts, **314 resulted in death**. On the other hand, **primary level** had the **highest number of total deaths**, which were **468** in number.\n",
    "\n",
    "The **fatality rate of suicide attempts is highest** among individuals with an **illiterate education level**, with a rate of **84.99%**. On the other hand, those with a **secondary education level** have the **lowest fatality rate** at **24.53%**."
   ]
  },
  {
   "cell_type": "code",
   "execution_count": 24,
   "id": "baf5b24f",
   "metadata": {},
   "outputs": [
    {
     "name": "stdout",
     "output_type": "stream",
     "text": [
      "Done.\n"
     ]
    },
    {
     "data": {
      "text/html": [
       "<table>\n",
       "    <thead>\n",
       "        <tr>\n",
       "            <th>Education</th>\n",
       "            <th>suicide_attempts</th>\n",
       "            <th>survivors</th>\n",
       "            <th>deaths</th>\n",
       "            <th>fatality_rate</th>\n",
       "        </tr>\n",
       "    </thead>\n",
       "    <tbody>\n",
       "        <tr>\n",
       "            <td>Secondary</td>\n",
       "            <td>1280</td>\n",
       "            <td>966</td>\n",
       "            <td>314</td>\n",
       "            <td>24.53</td>\n",
       "        </tr>\n",
       "        <tr>\n",
       "            <td>primary</td>\n",
       "            <td>659</td>\n",
       "            <td>191</td>\n",
       "            <td>468</td>\n",
       "            <td>71.02</td>\n",
       "        </tr>\n",
       "        <tr>\n",
       "            <td>illiterate</td>\n",
       "            <td>533</td>\n",
       "            <td>80</td>\n",
       "            <td>453</td>\n",
       "            <td>84.99</td>\n",
       "        </tr>\n",
       "        <tr>\n",
       "            <td>unknown</td>\n",
       "            <td>80</td>\n",
       "            <td>69</td>\n",
       "            <td>11</td>\n",
       "            <td>13.75</td>\n",
       "        </tr>\n",
       "        <tr>\n",
       "            <td>Tertiary</td>\n",
       "            <td>19</td>\n",
       "            <td>9</td>\n",
       "            <td>10</td>\n",
       "            <td>52.63</td>\n",
       "        </tr>\n",
       "    </tbody>\n",
       "</table>"
      ],
      "text/plain": [
       "[('Secondary', 1280, 966, 314, 24.53),\n",
       " ('primary', 659, 191, 468, 71.02),\n",
       " ('illiterate', 533, 80, 453, 84.99),\n",
       " ('unknown', 80, 69, 11, 13.75),\n",
       " ('Tertiary', 19, 9, 10, 52.63)]"
      ]
     },
     "execution_count": 24,
     "metadata": {},
     "output_type": "execute_result"
    }
   ],
   "source": [
    "%%sql sqlite://\n",
    "\n",
    "SELECT \n",
    "    Education, \n",
    "    COUNT(*) as suicide_attempts, \n",
    "    SUM(CASE WHEN Died = 'no' THEN 1 ELSE 0 END) as survivors,\n",
    "    SUM(CASE WHEN Died = 'yes' THEN 1 ELSE 0 END) as deaths,\n",
    "    ROUND((CAST(SUM(CASE WHEN Died = 'yes' THEN 1 ELSE 0 END) AS FLOAT) / COUNT(*)) * 100, 2) as fatality_rate\n",
    "FROM shangdong_china \n",
    "GROUP BY Education\n",
    "ORDER BY suicide_attempts DESC"
   ]
  },
  {
   "cell_type": "markdown",
   "id": "602cd8c2",
   "metadata": {},
   "source": [
    "## Conclusion\n",
    "\n",
    "In conclusion, the dataset highlights the serious issue of attempted suicide, with an overall fatality rate of 48.85%. Those who did not receive hospitalization had a 100% fatality rate, while hospitalized individuals had a lower rate of 15.33%. It is crucial to note that the survival rate for those who received hospitalization was 84.67%, whereas for those who did not, the survival rate was 0%.\n",
    "\n",
    "It is deeply concerning that drowning, hanging, and jumping had reported fatality rates of 100%, 97.22%, and 80%, respectively. This highlights the crucial need to increase awareness about the risks associated with different suicide methods and implement effective prevention measures.\n",
    "\n",
    "Pesticide ingestion was the most commonly used method, accounting for 68.77% of cases, followed by hanging at 16.76%. Pesticide ingestion had a high fatality rate of 43.55%, underscoring the urgent need to address this issue and prevent its use as a suicide method.\n",
    "\n",
    "Notably, farmers accounted for 79.04% of the total 2571 suicide attempts, which helps to explain the high prevalence of pesticide ingestion as a method of suicide.\n",
    "\n",
    "Given the sensitivity of this issue, it is essential to approach it with empathy and compassion and emphasize the importance of providing support and resources to individuals struggling with suicidal thoughts. Preventing suicide requires a multifaceted approach, including early identification, intervention, and ongoing support."
   ]
  },
  {
   "cell_type": "code",
   "execution_count": 25,
   "id": "b89b581f",
   "metadata": {},
   "outputs": [
    {
     "name": "stdout",
     "output_type": "stream",
     "text": [
      "Done.\n"
     ]
    },
    {
     "data": {
      "text/html": [
       "<table>\n",
       "    <thead>\n",
       "        <tr>\n",
       "            <th>suicide_attempts</th>\n",
       "            <th>survivors</th>\n",
       "            <th>deaths</th>\n",
       "            <th>fatality_rate</th>\n",
       "        </tr>\n",
       "    </thead>\n",
       "    <tbody>\n",
       "        <tr>\n",
       "            <td>2571</td>\n",
       "            <td>1315</td>\n",
       "            <td>1256</td>\n",
       "            <td>48.85</td>\n",
       "        </tr>\n",
       "    </tbody>\n",
       "</table>"
      ],
      "text/plain": [
       "[(2571, 1315, 1256, 48.85)]"
      ]
     },
     "execution_count": 25,
     "metadata": {},
     "output_type": "execute_result"
    }
   ],
   "source": [
    "%%sql sqlite://\n",
    "\n",
    "SELECT \n",
    "    COUNT(*) as suicide_attempts, \n",
    "    SUM(CASE WHEN Died = 'no' THEN 1 ELSE 0 END) as survivors,\n",
    "    SUM(CASE WHEN Died = 'yes' THEN 1 ELSE 0 END) as deaths,\n",
    "    ROUND((CAST(SUM(CASE WHEN Died = 'yes' THEN 1 ELSE 0 END) AS FLOAT) / COUNT(*)) * 100, 2) as fatality_rate\n",
    "FROM shangdong_china"
   ]
  },
  {
   "cell_type": "code",
   "execution_count": 26,
   "id": "b58315be",
   "metadata": {},
   "outputs": [
    {
     "name": "stdout",
     "output_type": "stream",
     "text": [
      "Done.\n"
     ]
    },
    {
     "data": {
      "text/html": [
       "<table>\n",
       "    <thead>\n",
       "        <tr>\n",
       "            <th>Hospitalised</th>\n",
       "            <th>person_count</th>\n",
       "            <th>survivors</th>\n",
       "            <th>deaths</th>\n",
       "            <th>fatality_rate</th>\n",
       "            <th>survival_rate</th>\n",
       "        </tr>\n",
       "    </thead>\n",
       "    <tbody>\n",
       "        <tr>\n",
       "            <td>no</td>\n",
       "            <td>1018</td>\n",
       "            <td>0</td>\n",
       "            <td>1018</td>\n",
       "            <td>100.0</td>\n",
       "            <td>0.0</td>\n",
       "        </tr>\n",
       "        <tr>\n",
       "            <td>yes</td>\n",
       "            <td>1553</td>\n",
       "            <td>1315</td>\n",
       "            <td>238</td>\n",
       "            <td>15.33</td>\n",
       "            <td>84.67</td>\n",
       "        </tr>\n",
       "    </tbody>\n",
       "</table>"
      ],
      "text/plain": [
       "[('no', 1018, 0, 1018, 100.0, 0.0), ('yes', 1553, 1315, 238, 15.33, 84.67)]"
      ]
     },
     "execution_count": 26,
     "metadata": {},
     "output_type": "execute_result"
    }
   ],
   "source": [
    "%%sql sqlite://\n",
    "\n",
    "SELECT\n",
    "    Hospitalised,\n",
    "    COUNT(*) as person_count, \n",
    "    SUM(CASE WHEN Died = 'no' THEN 1 ELSE 0 END) as survivors,\n",
    "    SUM(CASE WHEN Died = 'yes' THEN 1 ELSE 0 END) as deaths,\n",
    "    ROUND((CAST(SUM(CASE WHEN Died = 'yes' THEN 1 ELSE 0 END) AS FLOAT) / COUNT(*)) * 100, 2) as fatality_rate,\n",
    "    ROUND((CAST(SUM(CASE WHEN Died = 'no' THEN 1 ELSE 0 END) AS FLOAT) / COUNT(*)) * 100, 2) as survival_rate\n",
    "FROM shangdong_china\n",
    "GROUP BY Hospitalised"
   ]
  },
  {
   "cell_type": "code",
   "execution_count": 27,
   "id": "98f28bad",
   "metadata": {},
   "outputs": [
    {
     "name": "stdout",
     "output_type": "stream",
     "text": [
      "Done.\n"
     ]
    },
    {
     "data": {
      "text/html": [
       "<table>\n",
       "    <thead>\n",
       "        <tr>\n",
       "            <th>Method</th>\n",
       "            <th>suicide_attempts</th>\n",
       "            <th>total_survivors</th>\n",
       "            <th>total_deaths</th>\n",
       "            <th>fatality_rate</th>\n",
       "            <th>frequency_rate</th>\n",
       "            <th>survival_rate</th>\n",
       "        </tr>\n",
       "    </thead>\n",
       "    <tbody>\n",
       "        <tr>\n",
       "            <td>Pesticide</td>\n",
       "            <td>1768</td>\n",
       "            <td>998</td>\n",
       "            <td>770</td>\n",
       "            <td>43.55</td>\n",
       "            <td>68.77</td>\n",
       "            <td>56.45</td>\n",
       "        </tr>\n",
       "        <tr>\n",
       "            <td>Hanging</td>\n",
       "            <td>431</td>\n",
       "            <td>12</td>\n",
       "            <td>419</td>\n",
       "            <td>97.22</td>\n",
       "            <td>16.76</td>\n",
       "            <td>2.78</td>\n",
       "        </tr>\n",
       "        <tr>\n",
       "            <td>Other poison</td>\n",
       "            <td>146</td>\n",
       "            <td>131</td>\n",
       "            <td>15</td>\n",
       "            <td>10.27</td>\n",
       "            <td>5.68</td>\n",
       "            <td>89.73</td>\n",
       "        </tr>\n",
       "        <tr>\n",
       "            <td>Poison unspec</td>\n",
       "            <td>107</td>\n",
       "            <td>104</td>\n",
       "            <td>3</td>\n",
       "            <td>2.8</td>\n",
       "            <td>4.16</td>\n",
       "            <td>97.2</td>\n",
       "        </tr>\n",
       "        <tr>\n",
       "            <td>unspecified</td>\n",
       "            <td>48</td>\n",
       "            <td>45</td>\n",
       "            <td>3</td>\n",
       "            <td>6.25</td>\n",
       "            <td>1.87</td>\n",
       "            <td>93.75</td>\n",
       "        </tr>\n",
       "        <tr>\n",
       "            <td>Cutting</td>\n",
       "            <td>29</td>\n",
       "            <td>21</td>\n",
       "            <td>8</td>\n",
       "            <td>27.59</td>\n",
       "            <td>1.13</td>\n",
       "            <td>72.41</td>\n",
       "        </tr>\n",
       "        <tr>\n",
       "            <td>Drowning</td>\n",
       "            <td>26</td>\n",
       "            <td>0</td>\n",
       "            <td>26</td>\n",
       "            <td>100.0</td>\n",
       "            <td>1.01</td>\n",
       "            <td>0.0</td>\n",
       "        </tr>\n",
       "        <tr>\n",
       "            <td>Jumping</td>\n",
       "            <td>15</td>\n",
       "            <td>3</td>\n",
       "            <td>12</td>\n",
       "            <td>80.0</td>\n",
       "            <td>0.58</td>\n",
       "            <td>20.0</td>\n",
       "        </tr>\n",
       "        <tr>\n",
       "            <td>Others</td>\n",
       "            <td>1</td>\n",
       "            <td>1</td>\n",
       "            <td>0</td>\n",
       "            <td>0.0</td>\n",
       "            <td>0.04</td>\n",
       "            <td>100.0</td>\n",
       "        </tr>\n",
       "    </tbody>\n",
       "</table>"
      ],
      "text/plain": [
       "[('Pesticide', 1768, 998, 770, 43.55, 68.77, 56.45),\n",
       " ('Hanging', 431, 12, 419, 97.22, 16.76, 2.78),\n",
       " ('Other poison', 146, 131, 15, 10.27, 5.68, 89.73),\n",
       " ('Poison unspec', 107, 104, 3, 2.8, 4.16, 97.2),\n",
       " ('unspecified', 48, 45, 3, 6.25, 1.87, 93.75),\n",
       " ('Cutting', 29, 21, 8, 27.59, 1.13, 72.41),\n",
       " ('Drowning', 26, 0, 26, 100.0, 1.01, 0.0),\n",
       " ('Jumping', 15, 3, 12, 80.0, 0.58, 20.0),\n",
       " ('Others', 1, 1, 0, 0.0, 0.04, 100.0)]"
      ]
     },
     "execution_count": 27,
     "metadata": {},
     "output_type": "execute_result"
    }
   ],
   "source": [
    "%%sql sqlite://\n",
    "\n",
    "SELECT \n",
    "    Method, \n",
    "    COUNT(*) as suicide_attempts, \n",
    "    SUM(CASE WHEN Died = 'no' THEN 1 ELSE 0 END) as total_survivors,\n",
    "    SUM(CASE WHEN Died = 'yes' THEN 1 ELSE 0 END) as total_deaths,\n",
    "    ROUND((CAST(SUM(CASE WHEN Died = 'yes' THEN 1 ELSE 0 END) AS FLOAT) / COUNT(*)) * 100, 2) as fatality_rate,\n",
    "    ROUND((CAST(COUNT(*) AS FLOAT) / (SELECT COUNT(*) FROM shangdong_china)) * 100, 2) as frequency_rate,\n",
    "    ROUND((CAST(SUM(CASE WHEN Died = 'no' THEN 1 ELSE 0 END) AS FLOAT) / COUNT(*)) * 100, 2) as survival_rate\n",
    "FROM shangdong_china \n",
    "GROUP BY Method\n",
    "ORDER BY frequency_rate DESC"
   ]
  },
  {
   "cell_type": "code",
   "execution_count": 31,
   "id": "eb78637f",
   "metadata": {},
   "outputs": [
    {
     "name": "stdout",
     "output_type": "stream",
     "text": [
      "Done.\n"
     ]
    },
    {
     "data": {
      "text/html": [
       "<table>\n",
       "    <thead>\n",
       "        <tr>\n",
       "            <th>Occupation</th>\n",
       "            <th>suicide_attempts</th>\n",
       "            <th>survivors</th>\n",
       "            <th>deaths</th>\n",
       "            <th>fatality_rate</th>\n",
       "            <th>frequency_rate</th>\n",
       "            <th>survival_rate</th>\n",
       "        </tr>\n",
       "    </thead>\n",
       "    <tbody>\n",
       "        <tr>\n",
       "            <td>farming</td>\n",
       "            <td>2032</td>\n",
       "            <td>939</td>\n",
       "            <td>1093</td>\n",
       "            <td>53.79</td>\n",
       "            <td>79.04</td>\n",
       "            <td>46.21</td>\n",
       "        </tr>\n",
       "        <tr>\n",
       "            <td>household</td>\n",
       "            <td>248</td>\n",
       "            <td>154</td>\n",
       "            <td>94</td>\n",
       "            <td>37.9</td>\n",
       "            <td>9.65</td>\n",
       "            <td>62.1</td>\n",
       "        </tr>\n",
       "        <tr>\n",
       "            <td>others/unknown</td>\n",
       "            <td>156</td>\n",
       "            <td>146</td>\n",
       "            <td>10</td>\n",
       "            <td>6.41</td>\n",
       "            <td>6.07</td>\n",
       "            <td>93.59</td>\n",
       "        </tr>\n",
       "        <tr>\n",
       "            <td>professional</td>\n",
       "            <td>37</td>\n",
       "            <td>11</td>\n",
       "            <td>26</td>\n",
       "            <td>70.27</td>\n",
       "            <td>1.44</td>\n",
       "            <td>29.73</td>\n",
       "        </tr>\n",
       "        <tr>\n",
       "            <td>student</td>\n",
       "            <td>35</td>\n",
       "            <td>27</td>\n",
       "            <td>8</td>\n",
       "            <td>22.86</td>\n",
       "            <td>1.36</td>\n",
       "            <td>77.14</td>\n",
       "        </tr>\n",
       "        <tr>\n",
       "            <td>unemployed</td>\n",
       "            <td>30</td>\n",
       "            <td>23</td>\n",
       "            <td>7</td>\n",
       "            <td>23.33</td>\n",
       "            <td>1.17</td>\n",
       "            <td>76.67</td>\n",
       "        </tr>\n",
       "        <tr>\n",
       "            <td>business/service</td>\n",
       "            <td>21</td>\n",
       "            <td>12</td>\n",
       "            <td>9</td>\n",
       "            <td>42.86</td>\n",
       "            <td>0.82</td>\n",
       "            <td>57.14</td>\n",
       "        </tr>\n",
       "        <tr>\n",
       "            <td>worker</td>\n",
       "            <td>6</td>\n",
       "            <td>0</td>\n",
       "            <td>6</td>\n",
       "            <td>100.0</td>\n",
       "            <td>0.23</td>\n",
       "            <td>0.0</td>\n",
       "        </tr>\n",
       "        <tr>\n",
       "            <td>retiree</td>\n",
       "            <td>3</td>\n",
       "            <td>3</td>\n",
       "            <td>0</td>\n",
       "            <td>0.0</td>\n",
       "            <td>0.12</td>\n",
       "            <td>100.0</td>\n",
       "        </tr>\n",
       "        <tr>\n",
       "            <td>others</td>\n",
       "            <td>3</td>\n",
       "            <td>0</td>\n",
       "            <td>3</td>\n",
       "            <td>100.0</td>\n",
       "            <td>0.12</td>\n",
       "            <td>0.0</td>\n",
       "        </tr>\n",
       "    </tbody>\n",
       "</table>"
      ],
      "text/plain": [
       "[('farming', 2032, 939, 1093, 53.79, 79.04, 46.21),\n",
       " ('household', 248, 154, 94, 37.9, 9.65, 62.1),\n",
       " ('others/unknown', 156, 146, 10, 6.41, 6.07, 93.59),\n",
       " ('professional', 37, 11, 26, 70.27, 1.44, 29.73),\n",
       " ('student', 35, 27, 8, 22.86, 1.36, 77.14),\n",
       " ('unemployed', 30, 23, 7, 23.33, 1.17, 76.67),\n",
       " ('business/service', 21, 12, 9, 42.86, 0.82, 57.14),\n",
       " ('worker', 6, 0, 6, 100.0, 0.23, 0.0),\n",
       " ('retiree', 3, 3, 0, 0.0, 0.12, 100.0),\n",
       " ('others', 3, 0, 3, 100.0, 0.12, 0.0)]"
      ]
     },
     "execution_count": 31,
     "metadata": {},
     "output_type": "execute_result"
    }
   ],
   "source": [
    "%%sql sqlite://\n",
    "\n",
    "SELECT \n",
    "    Occupation, \n",
    "    COUNT(*) as suicide_attempts, \n",
    "    SUM(CASE WHEN Died = 'no' THEN 1 ELSE 0 END) as survivors,\n",
    "    SUM(CASE WHEN Died = 'yes' THEN 1 ELSE 0 END) as deaths,\n",
    "    ROUND((CAST(SUM(CASE WHEN Died = 'yes' THEN 1 ELSE 0 END) AS FLOAT) / COUNT(*)) * 100, 2) as fatality_rate,\n",
    "    ROUND((CAST(COUNT(*) AS FLOAT) / (SELECT COUNT(*) FROM shangdong_china)) * 100, 2) as frequency_rate,\n",
    "    ROUND((CAST(SUM(CASE WHEN Died = 'no' THEN 1 ELSE 0 END) AS FLOAT) / COUNT(*)) * 100, 2) as survival_rate\n",
    "FROM shangdong_china \n",
    "GROUP BY Occupation\n",
    "ORDER BY frequency_rate DESC"
   ]
  }
 ],
 "metadata": {
  "kernelspec": {
   "display_name": "Python 3 (ipykernel)",
   "language": "python",
   "name": "python3"
  },
  "language_info": {
   "codemirror_mode": {
    "name": "ipython",
    "version": 3
   },
   "file_extension": ".py",
   "mimetype": "text/x-python",
   "name": "python",
   "nbconvert_exporter": "python",
   "pygments_lexer": "ipython3",
   "version": "3.10.7"
  }
 },
 "nbformat": 4,
 "nbformat_minor": 5
}
